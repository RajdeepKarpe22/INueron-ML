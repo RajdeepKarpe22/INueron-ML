{
 "cells": [
  {
   "cell_type": "markdown",
   "metadata": {},
   "source": [
    "__1.1 Write a Python Program(with class concepts) to find the area of the triangle using the below\n",
    "formula.\\\n",
    "area = (s*(s-a)*(s-b)*(s-c)) ** 0.5\\\n",
    "Function to take the length of the sides of triangle from user should be defined in the parent\n",
    "class and function to calculate the area should be defined in subclass.__"
   ]
  },
  {
   "cell_type": "code",
   "execution_count": 3,
   "metadata": {},
   "outputs": [
    {
     "name": "stdout",
     "output_type": "stream",
     "text": [
      "Enter the sides of triangle:5 2 4\n",
      "3.799671038392666\n"
     ]
    }
   ],
   "source": [
    "class Triangle:\n",
    "    def __init__(self,a,b,c):\n",
    "        self.a = float(a)\n",
    "        self.b = float(b)\n",
    "        self.c = float(c)\n",
    "                \n",
    "class AreaCalc(Triangle):\n",
    "    def __init__(self,a,b,c):\n",
    "        super(AreaCalc,self).__init__(a,b,c)\n",
    "        \n",
    "    def area(self):\n",
    "        s = (self.a+self.b+self.c)/2\n",
    "        tarea = (s*(s-self.a)*(s-self.b)*(s-self.c))**0.5\n",
    "        return tarea\n",
    "\n",
    "a,b,c = [x for x in input('Enter the sides of triangle:').split()]\n",
    "ar = AreaCalc(a,b,c)\n",
    "print(ar.area())"
   ]
  },
  {
   "cell_type": "markdown",
   "metadata": {},
   "source": [
    "__1.2 Write a function filter_long_words() that takes a list of words and an integer n and returns\n",
    "the list of words that are longer than n.__"
   ]
  },
  {
   "cell_type": "code",
   "execution_count": 4,
   "metadata": {},
   "outputs": [
    {
     "name": "stdout",
     "output_type": "stream",
     "text": [
      "Enter the length of word:5\n",
      "Words with length greater than 5 are ['Python', 'programming', 'language'] \n"
     ]
    }
   ],
   "source": [
    "words = ['Python','is','a','high','level','programming','language']\n",
    "n = int(input('Enter the length of word:'))\n",
    "\n",
    "def filter_long_words(words,n):\n",
    "    return [i for i in words if len(i)>n]\n",
    "\n",
    "print('Words with length greater than {} are {} '.format(n,filter_long_words(words,n)))\n"
   ]
  },
  {
   "cell_type": "markdown",
   "metadata": {},
   "source": [
    "__2.1 Write a Python program using function concept that maps list of words into a list of integers\\\n",
    "representing the lengths of the corresponding words.\\\n",
    "Hint: If a list [ ab,cde,erty] is passed on to the python function output should come as [2,3,4]\\\n",
    "Here 2,3 and 4 are the lengths of the words in the list.__"
   ]
  },
  {
   "cell_type": "code",
   "execution_count": 5,
   "metadata": {},
   "outputs": [
    {
     "name": "stdout",
     "output_type": "stream",
     "text": [
      "Words ['ab', 'cde', 'fghk'] and their corresponding length are [2, 3, 4]\n"
     ]
    }
   ],
   "source": [
    "words = ['ab','cde','fghk']\n",
    "\n",
    "def lencalc(words):\n",
    "    return [len(words[i]) for i in range(len(words))]\n",
    "        \n",
    "print('Words {} and their corresponding length are {}'.format(words,lencalc(words)))"
   ]
  },
  {
   "cell_type": "markdown",
   "metadata": {},
   "source": [
    "__2.2 Write a Python function which takes a character (i.e. a string of length 1) and returns True if\n",
    "it is a vowel, False otherwise.__"
   ]
  },
  {
   "cell_type": "code",
   "execution_count": 6,
   "metadata": {},
   "outputs": [
    {
     "name": "stdout",
     "output_type": "stream",
     "text": [
      "Enter the character:a\n",
      "True\n",
      "Enter the character:r\n",
      "False\n"
     ]
    }
   ],
   "source": [
    "vowels = ['a','e','i','o','u']\n",
    "\n",
    "def is_vowel(char):\n",
    "    return True if char in vowels else False\n",
    "\n",
    "print(is_vowel(input('Enter the character:')))\n",
    "print(is_vowel(input('Enter the character:')))"
   ]
  },
  {
   "cell_type": "code",
   "execution_count": null,
   "metadata": {},
   "outputs": [],
   "source": []
  }
 ],
 "metadata": {
  "kernelspec": {
   "display_name": "Python 3",
   "language": "python",
   "name": "python3"
  },
  "language_info": {
   "codemirror_mode": {
    "name": "ipython",
    "version": 3
   },
   "file_extension": ".py",
   "mimetype": "text/x-python",
   "name": "python",
   "nbconvert_exporter": "python",
   "pygments_lexer": "ipython3",
   "version": "3.8.8"
  },
  "toc": {
   "base_numbering": 1,
   "nav_menu": {},
   "number_sections": true,
   "sideBar": true,
   "skip_h1_title": false,
   "title_cell": "Table of Contents",
   "title_sidebar": "Contents",
   "toc_cell": false,
   "toc_position": {},
   "toc_section_display": true,
   "toc_window_display": false
  }
 },
 "nbformat": 4,
 "nbformat_minor": 4
}
