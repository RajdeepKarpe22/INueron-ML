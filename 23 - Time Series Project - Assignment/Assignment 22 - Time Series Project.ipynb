{
 "cells": [
  {
   "cell_type": "markdown",
   "id": "2c7f64a2",
   "metadata": {},
   "source": [
    "\n",
    "__Problem Statement:__<br>\n",
    "Pick up the following stocks and generate forecasts accordingly Stocks:\n",
    "NASDAQ.AAPL<br>\n",
    "NASDAQ.ADP<br>\n",
    "NASDAQ.CBOE<br>\n",
    "NASDAQ.CSCO<br>\n",
    "NASDAQ.EBAY"
   ]
  },
  {
   "cell_type": "code",
   "execution_count": 1,
   "id": "fe2118e8",
   "metadata": {},
   "outputs": [],
   "source": [
    "import pandas as pd\n",
    "import numpy as np\n",
    "import matplotlib.pyplot as plt\n",
    "from statsmodels.graphics.tsaplots import plot_pacf\n",
    "from statsmodels.tsa.arima_model import ARIMA, ARMAResults\n",
    "import datetime\n",
    "import sys\n",
    "import seaborn as sns\n",
    "import statsmodels\n",
    "import statsmodels.stats.diagnostic as diag\n",
    "from statsmodels.tsa.stattools import adfuller"
   ]
  },
  {
   "cell_type": "code",
   "execution_count": 2,
   "id": "4bc8ae85",
   "metadata": {},
   "outputs": [],
   "source": [
    "data = pd.read_csv(\"SP 500 Stock Prices 2014-2017.csv\")"
   ]
  },
  {
   "cell_type": "code",
   "execution_count": 3,
   "id": "fb81a37a",
   "metadata": {},
   "outputs": [
    {
     "data": {
      "text/html": [
       "<div>\n",
       "<style scoped>\n",
       "    .dataframe tbody tr th:only-of-type {\n",
       "        vertical-align: middle;\n",
       "    }\n",
       "\n",
       "    .dataframe tbody tr th {\n",
       "        vertical-align: top;\n",
       "    }\n",
       "\n",
       "    .dataframe thead th {\n",
       "        text-align: right;\n",
       "    }\n",
       "</style>\n",
       "<table border=\"1\" class=\"dataframe\">\n",
       "  <thead>\n",
       "    <tr style=\"text-align: right;\">\n",
       "      <th></th>\n",
       "      <th>symbol</th>\n",
       "      <th>date</th>\n",
       "      <th>open</th>\n",
       "      <th>high</th>\n",
       "      <th>low</th>\n",
       "      <th>close</th>\n",
       "      <th>volume</th>\n",
       "    </tr>\n",
       "  </thead>\n",
       "  <tbody>\n",
       "    <tr>\n",
       "      <th>0</th>\n",
       "      <td>AAL</td>\n",
       "      <td>2014-01-02</td>\n",
       "      <td>25.0700</td>\n",
       "      <td>25.8200</td>\n",
       "      <td>25.0600</td>\n",
       "      <td>25.3600</td>\n",
       "      <td>8998943</td>\n",
       "    </tr>\n",
       "    <tr>\n",
       "      <th>1</th>\n",
       "      <td>AAPL</td>\n",
       "      <td>2014-01-02</td>\n",
       "      <td>79.3828</td>\n",
       "      <td>79.5756</td>\n",
       "      <td>78.8601</td>\n",
       "      <td>79.0185</td>\n",
       "      <td>58791957</td>\n",
       "    </tr>\n",
       "    <tr>\n",
       "      <th>2</th>\n",
       "      <td>AAP</td>\n",
       "      <td>2014-01-02</td>\n",
       "      <td>110.3600</td>\n",
       "      <td>111.8800</td>\n",
       "      <td>109.2900</td>\n",
       "      <td>109.7400</td>\n",
       "      <td>542711</td>\n",
       "    </tr>\n",
       "    <tr>\n",
       "      <th>3</th>\n",
       "      <td>ABBV</td>\n",
       "      <td>2014-01-02</td>\n",
       "      <td>52.1200</td>\n",
       "      <td>52.3300</td>\n",
       "      <td>51.5200</td>\n",
       "      <td>51.9800</td>\n",
       "      <td>4569061</td>\n",
       "    </tr>\n",
       "    <tr>\n",
       "      <th>4</th>\n",
       "      <td>ABC</td>\n",
       "      <td>2014-01-02</td>\n",
       "      <td>70.1100</td>\n",
       "      <td>70.2300</td>\n",
       "      <td>69.4800</td>\n",
       "      <td>69.8900</td>\n",
       "      <td>1148391</td>\n",
       "    </tr>\n",
       "  </tbody>\n",
       "</table>\n",
       "</div>"
      ],
      "text/plain": [
       "  symbol        date      open      high       low     close    volume\n",
       "0    AAL  2014-01-02   25.0700   25.8200   25.0600   25.3600   8998943\n",
       "1   AAPL  2014-01-02   79.3828   79.5756   78.8601   79.0185  58791957\n",
       "2    AAP  2014-01-02  110.3600  111.8800  109.2900  109.7400    542711\n",
       "3   ABBV  2014-01-02   52.1200   52.3300   51.5200   51.9800   4569061\n",
       "4    ABC  2014-01-02   70.1100   70.2300   69.4800   69.8900   1148391"
      ]
     },
     "execution_count": 3,
     "metadata": {},
     "output_type": "execute_result"
    }
   ],
   "source": [
    "data.head()"
   ]
  },
  {
   "cell_type": "code",
   "execution_count": 4,
   "id": "3a5dc84e",
   "metadata": {},
   "outputs": [
    {
     "data": {
      "text/plain": [
       "(497472, 7)"
      ]
     },
     "execution_count": 4,
     "metadata": {},
     "output_type": "execute_result"
    }
   ],
   "source": [
    "data.shape"
   ]
  },
  {
   "cell_type": "code",
   "execution_count": 5,
   "id": "f714bfc7",
   "metadata": {},
   "outputs": [
    {
     "data": {
      "text/plain": [
       "array(['AAL', 'AAPL', 'AAP', 'ABBV', 'ABC', 'ABT', 'ACN', 'ADBE', 'ADI',\n",
       "       'ADM', 'ADP', 'ADSK', 'ADS', 'AEE', 'AEP', 'AES', 'AET', 'AFL',\n",
       "       'AGN', 'AIG', 'AIV', 'AIZ', 'AJG', 'AKAM', 'ALB', 'ALGN', 'ALK',\n",
       "       'ALLE', 'ALL', 'ALXN', 'AMAT', 'AMD', 'AME', 'AMGN', 'AMG', 'AMP',\n",
       "       'AMT', 'AMZN', 'ANDV', 'ANSS', 'ANTM', 'AON', 'AOS', 'APA', 'APC',\n",
       "       'APD', 'APH', 'ARE', 'ARNC', 'ATVI', 'AVB', 'AVGO', 'AVY', 'AWK',\n",
       "       'AXP', 'AYI', 'AZO', 'A', 'BAC', 'BAX', 'BA', 'BBT', 'BBY', 'BDX',\n",
       "       'BEN', 'BF.B', 'BIIB', 'BK', 'BLK', 'BLL', 'BMY', 'BRK.B', 'BSX',\n",
       "       'BWA', 'BXP', 'CAG', 'CAH', 'CAT', 'CA', 'CBG', 'CBOE', 'CBS',\n",
       "       'CB', 'CCI', 'CCL', 'CDNS', 'CELG', 'CERN', 'CF', 'CHD', 'CHK',\n",
       "       'CHRW', 'CHTR', 'CINF', 'CI', 'CLX', 'CL', 'CMA', 'CMCSA', 'CME',\n",
       "       'CMG', 'CMI', 'CMS', 'CNC', 'CNP', 'COF', 'COG', 'COL', 'COO',\n",
       "       'COP', 'COST', 'COTY', 'CPB', 'CRM', 'CSCO', 'CSX', 'CTAS', 'CTL',\n",
       "       'CTSH', 'CTXS', 'CVS', 'CVX', 'CXO', 'C', 'DAL', 'DE', 'DFS',\n",
       "       'DGX', 'DG', 'DHI', 'DHR', 'DISCA', 'DISCK', 'DISH', 'DIS', 'DLR',\n",
       "       'DLTR', 'DOV', 'DPS', 'DRE', 'DRI', 'DTE', 'DUK', 'DVA', 'DVN',\n",
       "       'D', 'EA', 'EBAY', 'ECL', 'ED', 'EFX', 'EIX', 'EL', 'EMN', 'EMR',\n",
       "       'EOG', 'EQIX', 'EQR', 'EQT', 'ESRX', 'ESS', 'ES', 'ETFC', 'ETN',\n",
       "       'ETR', 'EW', 'EXC', 'EXPD', 'EXPE', 'EXR', 'FAST', 'FBHS', 'FB',\n",
       "       'FCX', 'FDX', 'FE', 'FFIV', 'FISV', 'FIS', 'FITB', 'FLIR', 'FLR',\n",
       "       'FLS', 'FL', 'FMC', 'FOXA', 'FOX', 'FRT', 'FTI', 'F', 'GD', 'GE',\n",
       "       'GGP', 'GILD', 'GIS', 'GLW', 'GM', 'GOOGL', 'GPC', 'GPN', 'GPS',\n",
       "       'GRMN', 'GS', 'GT', 'GWW', 'HAL', 'HAS', 'HBAN', 'HBI', 'HCA',\n",
       "       'HCN', 'HCP', 'HD', 'HES', 'HIG', 'HII', 'HOG', 'HOLX', 'HON',\n",
       "       'HP', 'HRB', 'HRL', 'HRS', 'HSIC', 'HST', 'HSY', 'HUM', 'IBM',\n",
       "       'ICE', 'IDXX', 'IFF', 'ILMN', 'INCY', 'INTC', 'INTU', 'IPG', 'IP',\n",
       "       'IQV', 'IRM', 'IR', 'ISRG', 'ITW', 'IT', 'IVZ', 'JBHT', 'JCI',\n",
       "       'JEC', 'JNJ', 'JNPR', 'JPM', 'JWN', 'KEY', 'KIM', 'KLAC', 'KMB',\n",
       "       'KMI', 'KMX', 'KORS', 'KO', 'KR', 'KSS', 'KSU', 'K', 'LB', 'LEG',\n",
       "       'LEN', 'LH', 'LKQ', 'LLL', 'LLY', 'LMT', 'LNC', 'LNT', 'LOW',\n",
       "       'LRCX', 'LUK', 'LUV', 'LYB', 'L', 'MAA', 'MAC', 'MAR', 'MAS',\n",
       "       'MAT', 'MA', 'MCD', 'MCHP', 'MCK', 'MCO', 'MDLZ', 'MDT', 'MET',\n",
       "       'MGM', 'MHK', 'MKC', 'MLM', 'MMC', 'MMM', 'MNST', 'MON', 'MOS',\n",
       "       'MO', 'MPC', 'MRK', 'MRO', 'MSFT', 'MSI', 'MS', 'MTB', 'MTD', 'MU',\n",
       "       'MYL', 'M', 'NBL', 'NCLH', 'NDAQ', 'NEE', 'NEM', 'NFLX', 'NFX',\n",
       "       'NI', 'NKE', 'NLSN', 'NOC', 'NOV', 'NRG', 'NSC', 'NTAP', 'NTRS',\n",
       "       'NUE', 'NVDA', 'NWL', 'NWSA', 'NWS', 'OKE', 'OMC', 'ORCL', 'ORLY',\n",
       "       'OXY', 'O', 'PAYX', 'PBCT', 'PCAR', 'PCG', 'PCLN', 'PDCO', 'PEG',\n",
       "       'PEP', 'PFE', 'PFG', 'PGR', 'PG', 'PHM', 'PH', 'PKG', 'PKI', 'PLD',\n",
       "       'PM', 'PNC', 'PNR', 'PNW', 'PPG', 'PPL', 'PRGO', 'PRU', 'PSA',\n",
       "       'PSX', 'PVH', 'PWR', 'PXD', 'PX', 'QCOM', 'RCL', 'REGN', 'REG',\n",
       "       'RE', 'RF', 'RHI', 'RHT', 'RJF', 'RL', 'RMD', 'ROK', 'ROP', 'ROST',\n",
       "       'RRC', 'RSG', 'RTN', 'SBAC', 'SBUX', 'SCG', 'SCHW', 'SEE', 'SHW',\n",
       "       'SIG', 'SJM', 'SLB', 'SLG', 'SNA', 'SNI', 'SNPS', 'SO', 'SPGI',\n",
       "       'SPG', 'SRCL', 'SRE', 'STI', 'STT', 'STX', 'STZ', 'SWKS', 'SWK',\n",
       "       'SYK', 'SYMC', 'SYY', 'TAP', 'TDG', 'TEL', 'TGT', 'TIF', 'TJX',\n",
       "       'TMK', 'TMO', 'TPR', 'TRIP', 'TROW', 'TRV', 'TSCO', 'TSN', 'TSS',\n",
       "       'TWX', 'TXN', 'TXT', 'T', 'UAA', 'UAL', 'UDR', 'UHS', 'ULTA',\n",
       "       'UNH', 'UNM', 'UNP', 'UPS', 'URI', 'USB', 'UTX', 'VAR', 'VFC',\n",
       "       'VIAB', 'VLO', 'VMC', 'VNO', 'VRSK', 'VRSN', 'VRTX', 'VTR', 'VZ',\n",
       "       'V', 'WAT', 'WBA', 'WDC', 'WEC', 'WFC', 'WHR', 'WMB', 'WMT', 'WM',\n",
       "       'WU', 'WYNN', 'WYN', 'WY', 'XEC', 'XEL', 'XLNX', 'XL', 'XOM',\n",
       "       'XRAY', 'XRX', 'XYL', 'YUM', 'ZBH', 'ZION', 'ZTS', 'GOOG', 'NAVI',\n",
       "       'INFO', 'SYF', 'CFG', 'QRVO', 'WRK', 'KHC', 'PYPL', 'HPE', 'HPQ',\n",
       "       'CSRA', 'WLTW', 'UA', 'FTV', 'EVHC', 'HLT', 'DXC', 'BHGE', 'BHF',\n",
       "       'DWDP', 'APTV'], dtype=object)"
      ]
     },
     "execution_count": 5,
     "metadata": {},
     "output_type": "execute_result"
    }
   ],
   "source": [
    "data['symbol'].unique()"
   ]
  },
  {
   "cell_type": "code",
   "execution_count": 6,
   "id": "fa15c722",
   "metadata": {},
   "outputs": [
    {
     "name": "stdout",
     "output_type": "stream",
     "text": [
      "<class 'pandas.core.frame.DataFrame'>\n",
      "RangeIndex: 497472 entries, 0 to 497471\n",
      "Data columns (total 7 columns):\n",
      " #   Column  Non-Null Count   Dtype  \n",
      "---  ------  --------------   -----  \n",
      " 0   symbol  497472 non-null  object \n",
      " 1   date    497472 non-null  object \n",
      " 2   open    497461 non-null  float64\n",
      " 3   high    497464 non-null  float64\n",
      " 4   low     497464 non-null  float64\n",
      " 5   close   497472 non-null  float64\n",
      " 6   volume  497472 non-null  int64  \n",
      "dtypes: float64(4), int64(1), object(2)\n",
      "memory usage: 26.6+ MB\n"
     ]
    }
   ],
   "source": [
    "data.info()"
   ]
  },
  {
   "cell_type": "code",
   "execution_count": 7,
   "id": "14340e78",
   "metadata": {},
   "outputs": [],
   "source": [
    "data['date'] = pd.to_datetime(data['date'], format = \"%Y-%m-%d\",errors='ignore')"
   ]
  },
  {
   "cell_type": "code",
   "execution_count": 8,
   "id": "f9c256f2",
   "metadata": {},
   "outputs": [
    {
     "data": {
      "text/plain": [
       "dtype('<M8[ns]')"
      ]
     },
     "execution_count": 8,
     "metadata": {},
     "output_type": "execute_result"
    }
   ],
   "source": [
    "data['date'].dtype"
   ]
  },
  {
   "cell_type": "code",
   "execution_count": 9,
   "id": "029de33e",
   "metadata": {},
   "outputs": [
    {
     "data": {
      "text/plain": [
       "497467   2017-12-29\n",
       "497468   2017-12-29\n",
       "497469   2017-12-29\n",
       "497470   2017-12-29\n",
       "497471   2017-12-29\n",
       "Name: date, dtype: datetime64[ns]"
      ]
     },
     "execution_count": 9,
     "metadata": {},
     "output_type": "execute_result"
    }
   ],
   "source": [
    "data['date'].tail()"
   ]
  },
  {
   "cell_type": "code",
   "execution_count": 10,
   "id": "e81f3b01",
   "metadata": {},
   "outputs": [],
   "source": [
    "d1 = pd.DataFrame(data[data['symbol'] == ('AAPL')])\n",
    "d2 = pd.DataFrame(data[data['symbol'] == ('ADP')])\n",
    "d3 = pd.DataFrame(data[data['symbol'] == ('CBOE')])\n",
    "d4 = pd.DataFrame(data[data['symbol'] == ('CSCO')])\n",
    "d5 = pd.DataFrame(data[data['symbol'] == ('EBAY')])"
   ]
  },
  {
   "cell_type": "code",
   "execution_count": 11,
   "id": "2f740050",
   "metadata": {},
   "outputs": [],
   "source": [
    "frames = [d1, d2, d3, d4, d5]\n",
    "data_new = pd.concat(frames)"
   ]
  },
  {
   "cell_type": "code",
   "execution_count": 12,
   "id": "8db527cd",
   "metadata": {},
   "outputs": [
    {
     "data": {
      "text/html": [
       "<div>\n",
       "<style scoped>\n",
       "    .dataframe tbody tr th:only-of-type {\n",
       "        vertical-align: middle;\n",
       "    }\n",
       "\n",
       "    .dataframe tbody tr th {\n",
       "        vertical-align: top;\n",
       "    }\n",
       "\n",
       "    .dataframe thead th {\n",
       "        text-align: right;\n",
       "    }\n",
       "</style>\n",
       "<table border=\"1\" class=\"dataframe\">\n",
       "  <thead>\n",
       "    <tr style=\"text-align: right;\">\n",
       "      <th></th>\n",
       "      <th>symbol</th>\n",
       "      <th>date</th>\n",
       "      <th>open</th>\n",
       "      <th>high</th>\n",
       "      <th>low</th>\n",
       "      <th>close</th>\n",
       "      <th>volume</th>\n",
       "    </tr>\n",
       "  </thead>\n",
       "  <tbody>\n",
       "    <tr>\n",
       "      <th>1</th>\n",
       "      <td>AAPL</td>\n",
       "      <td>2014-01-02</td>\n",
       "      <td>79.3828</td>\n",
       "      <td>79.5756</td>\n",
       "      <td>78.8601</td>\n",
       "      <td>79.0185</td>\n",
       "      <td>58791957</td>\n",
       "    </tr>\n",
       "    <tr>\n",
       "      <th>484</th>\n",
       "      <td>AAPL</td>\n",
       "      <td>2014-01-03</td>\n",
       "      <td>78.9799</td>\n",
       "      <td>79.0999</td>\n",
       "      <td>77.2042</td>\n",
       "      <td>77.2828</td>\n",
       "      <td>98303870</td>\n",
       "    </tr>\n",
       "    <tr>\n",
       "      <th>967</th>\n",
       "      <td>AAPL</td>\n",
       "      <td>2014-01-06</td>\n",
       "      <td>76.7785</td>\n",
       "      <td>78.1142</td>\n",
       "      <td>76.2285</td>\n",
       "      <td>77.7042</td>\n",
       "      <td>103359151</td>\n",
       "    </tr>\n",
       "    <tr>\n",
       "      <th>1450</th>\n",
       "      <td>AAPL</td>\n",
       "      <td>2014-01-07</td>\n",
       "      <td>77.7599</td>\n",
       "      <td>77.9942</td>\n",
       "      <td>76.8464</td>\n",
       "      <td>77.1481</td>\n",
       "      <td>79432766</td>\n",
       "    </tr>\n",
       "    <tr>\n",
       "      <th>1933</th>\n",
       "      <td>AAPL</td>\n",
       "      <td>2014-01-08</td>\n",
       "      <td>76.9728</td>\n",
       "      <td>77.9371</td>\n",
       "      <td>76.9556</td>\n",
       "      <td>77.6371</td>\n",
       "      <td>64686685</td>\n",
       "    </tr>\n",
       "  </tbody>\n",
       "</table>\n",
       "</div>"
      ],
      "text/plain": [
       "     symbol       date     open     high      low    close     volume\n",
       "1      AAPL 2014-01-02  79.3828  79.5756  78.8601  79.0185   58791957\n",
       "484    AAPL 2014-01-03  78.9799  79.0999  77.2042  77.2828   98303870\n",
       "967    AAPL 2014-01-06  76.7785  78.1142  76.2285  77.7042  103359151\n",
       "1450   AAPL 2014-01-07  77.7599  77.9942  76.8464  77.1481   79432766\n",
       "1933   AAPL 2014-01-08  76.9728  77.9371  76.9556  77.6371   64686685"
      ]
     },
     "execution_count": 12,
     "metadata": {},
     "output_type": "execute_result"
    }
   ],
   "source": [
    "data_new.head()"
   ]
  },
  {
   "cell_type": "code",
   "execution_count": 13,
   "id": "e0b68bf4",
   "metadata": {},
   "outputs": [
    {
     "data": {
      "text/plain": [
       "array(['AAPL', 'ADP', 'CBOE', 'CSCO', 'EBAY'], dtype=object)"
      ]
     },
     "execution_count": 13,
     "metadata": {},
     "output_type": "execute_result"
    }
   ],
   "source": [
    "data_new.symbol.unique()"
   ]
  },
  {
   "cell_type": "code",
   "execution_count": 14,
   "id": "ae62cef1",
   "metadata": {},
   "outputs": [
    {
     "data": {
      "text/html": [
       "<div>\n",
       "<style scoped>\n",
       "    .dataframe tbody tr th:only-of-type {\n",
       "        vertical-align: middle;\n",
       "    }\n",
       "\n",
       "    .dataframe tbody tr th {\n",
       "        vertical-align: top;\n",
       "    }\n",
       "\n",
       "    .dataframe thead th {\n",
       "        text-align: right;\n",
       "    }\n",
       "</style>\n",
       "<table border=\"1\" class=\"dataframe\">\n",
       "  <thead>\n",
       "    <tr style=\"text-align: right;\">\n",
       "      <th></th>\n",
       "      <th>symbol</th>\n",
       "      <th>date</th>\n",
       "      <th>open</th>\n",
       "      <th>high</th>\n",
       "      <th>low</th>\n",
       "      <th>close</th>\n",
       "      <th>volume</th>\n",
       "    </tr>\n",
       "  </thead>\n",
       "  <tbody>\n",
       "    <tr>\n",
       "      <th>0</th>\n",
       "      <td>AAPL</td>\n",
       "      <td>2014-01-02</td>\n",
       "      <td>79.3828</td>\n",
       "      <td>79.5756</td>\n",
       "      <td>78.8601</td>\n",
       "      <td>79.0185</td>\n",
       "      <td>58791957</td>\n",
       "    </tr>\n",
       "    <tr>\n",
       "      <th>1</th>\n",
       "      <td>AAPL</td>\n",
       "      <td>2014-01-03</td>\n",
       "      <td>78.9799</td>\n",
       "      <td>79.0999</td>\n",
       "      <td>77.2042</td>\n",
       "      <td>77.2828</td>\n",
       "      <td>98303870</td>\n",
       "    </tr>\n",
       "    <tr>\n",
       "      <th>2</th>\n",
       "      <td>AAPL</td>\n",
       "      <td>2014-01-06</td>\n",
       "      <td>76.7785</td>\n",
       "      <td>78.1142</td>\n",
       "      <td>76.2285</td>\n",
       "      <td>77.7042</td>\n",
       "      <td>103359151</td>\n",
       "    </tr>\n",
       "    <tr>\n",
       "      <th>3</th>\n",
       "      <td>AAPL</td>\n",
       "      <td>2014-01-07</td>\n",
       "      <td>77.7599</td>\n",
       "      <td>77.9942</td>\n",
       "      <td>76.8464</td>\n",
       "      <td>77.1481</td>\n",
       "      <td>79432766</td>\n",
       "    </tr>\n",
       "    <tr>\n",
       "      <th>4</th>\n",
       "      <td>AAPL</td>\n",
       "      <td>2014-01-08</td>\n",
       "      <td>76.9728</td>\n",
       "      <td>77.9371</td>\n",
       "      <td>76.9556</td>\n",
       "      <td>77.6371</td>\n",
       "      <td>64686685</td>\n",
       "    </tr>\n",
       "    <tr>\n",
       "      <th>...</th>\n",
       "      <td>...</td>\n",
       "      <td>...</td>\n",
       "      <td>...</td>\n",
       "      <td>...</td>\n",
       "      <td>...</td>\n",
       "      <td>...</td>\n",
       "      <td>...</td>\n",
       "    </tr>\n",
       "    <tr>\n",
       "      <th>5030</th>\n",
       "      <td>EBAY</td>\n",
       "      <td>2017-12-22</td>\n",
       "      <td>37.6900</td>\n",
       "      <td>37.9050</td>\n",
       "      <td>37.5300</td>\n",
       "      <td>37.7600</td>\n",
       "      <td>7603257</td>\n",
       "    </tr>\n",
       "    <tr>\n",
       "      <th>5031</th>\n",
       "      <td>EBAY</td>\n",
       "      <td>2017-12-26</td>\n",
       "      <td>37.7900</td>\n",
       "      <td>38.0100</td>\n",
       "      <td>37.6050</td>\n",
       "      <td>37.9400</td>\n",
       "      <td>4537016</td>\n",
       "    </tr>\n",
       "    <tr>\n",
       "      <th>5032</th>\n",
       "      <td>EBAY</td>\n",
       "      <td>2017-12-27</td>\n",
       "      <td>38.0700</td>\n",
       "      <td>38.0800</td>\n",
       "      <td>37.5600</td>\n",
       "      <td>37.6100</td>\n",
       "      <td>4244081</td>\n",
       "    </tr>\n",
       "    <tr>\n",
       "      <th>5033</th>\n",
       "      <td>EBAY</td>\n",
       "      <td>2017-12-28</td>\n",
       "      <td>37.4600</td>\n",
       "      <td>37.9300</td>\n",
       "      <td>37.4501</td>\n",
       "      <td>37.9200</td>\n",
       "      <td>3399269</td>\n",
       "    </tr>\n",
       "    <tr>\n",
       "      <th>5034</th>\n",
       "      <td>EBAY</td>\n",
       "      <td>2017-12-29</td>\n",
       "      <td>37.8200</td>\n",
       "      <td>38.0300</td>\n",
       "      <td>37.6500</td>\n",
       "      <td>37.7400</td>\n",
       "      <td>4652483</td>\n",
       "    </tr>\n",
       "  </tbody>\n",
       "</table>\n",
       "<p>5035 rows × 7 columns</p>\n",
       "</div>"
      ],
      "text/plain": [
       "     symbol       date     open     high      low    close     volume\n",
       "0      AAPL 2014-01-02  79.3828  79.5756  78.8601  79.0185   58791957\n",
       "1      AAPL 2014-01-03  78.9799  79.0999  77.2042  77.2828   98303870\n",
       "2      AAPL 2014-01-06  76.7785  78.1142  76.2285  77.7042  103359151\n",
       "3      AAPL 2014-01-07  77.7599  77.9942  76.8464  77.1481   79432766\n",
       "4      AAPL 2014-01-08  76.9728  77.9371  76.9556  77.6371   64686685\n",
       "...     ...        ...      ...      ...      ...      ...        ...\n",
       "5030   EBAY 2017-12-22  37.6900  37.9050  37.5300  37.7600    7603257\n",
       "5031   EBAY 2017-12-26  37.7900  38.0100  37.6050  37.9400    4537016\n",
       "5032   EBAY 2017-12-27  38.0700  38.0800  37.5600  37.6100    4244081\n",
       "5033   EBAY 2017-12-28  37.4600  37.9300  37.4501  37.9200    3399269\n",
       "5034   EBAY 2017-12-29  37.8200  38.0300  37.6500  37.7400    4652483\n",
       "\n",
       "[5035 rows x 7 columns]"
      ]
     },
     "execution_count": 14,
     "metadata": {},
     "output_type": "execute_result"
    }
   ],
   "source": [
    "data_new.reset_index(drop=True)"
   ]
  },
  {
   "cell_type": "code",
   "execution_count": 15,
   "id": "871a6d4e",
   "metadata": {},
   "outputs": [
    {
     "data": {
      "text/plain": [
       "symbol    0\n",
       "date      0\n",
       "open      0\n",
       "high      0\n",
       "low       0\n",
       "close     0\n",
       "volume    0\n",
       "dtype: int64"
      ]
     },
     "execution_count": 15,
     "metadata": {},
     "output_type": "execute_result"
    }
   ],
   "source": [
    "data_new.isnull().sum()"
   ]
  },
  {
   "cell_type": "code",
   "execution_count": 16,
   "id": "13853aa5",
   "metadata": {},
   "outputs": [],
   "source": [
    "data_AAPL = data_new[data_new['symbol'] == ('AAPL')].copy()"
   ]
  },
  {
   "cell_type": "code",
   "execution_count": 18,
   "id": "eabbab23",
   "metadata": {},
   "outputs": [],
   "source": [
    "data_AAPL.index = data_AAPL['date']"
   ]
  },
  {
   "cell_type": "code",
   "execution_count": 22,
   "id": "3cf570af",
   "metadata": {},
   "outputs": [],
   "source": [
    "data_AAPL.drop('date',axis=1,inplace=True)"
   ]
  },
  {
   "cell_type": "code",
   "execution_count": 32,
   "id": "bd17fed8",
   "metadata": {},
   "outputs": [],
   "source": [
    "data_AAPL.drop('symbol',axis=1,inplace=True)"
   ]
  },
  {
   "cell_type": "code",
   "execution_count": 33,
   "id": "998cac44",
   "metadata": {},
   "outputs": [
    {
     "data": {
      "text/html": [
       "<div>\n",
       "<style scoped>\n",
       "    .dataframe tbody tr th:only-of-type {\n",
       "        vertical-align: middle;\n",
       "    }\n",
       "\n",
       "    .dataframe tbody tr th {\n",
       "        vertical-align: top;\n",
       "    }\n",
       "\n",
       "    .dataframe thead th {\n",
       "        text-align: right;\n",
       "    }\n",
       "</style>\n",
       "<table border=\"1\" class=\"dataframe\">\n",
       "  <thead>\n",
       "    <tr style=\"text-align: right;\">\n",
       "      <th></th>\n",
       "      <th>open</th>\n",
       "      <th>high</th>\n",
       "      <th>low</th>\n",
       "      <th>close</th>\n",
       "      <th>volume</th>\n",
       "    </tr>\n",
       "    <tr>\n",
       "      <th>date</th>\n",
       "      <th></th>\n",
       "      <th></th>\n",
       "      <th></th>\n",
       "      <th></th>\n",
       "      <th></th>\n",
       "    </tr>\n",
       "  </thead>\n",
       "  <tbody>\n",
       "    <tr>\n",
       "      <th>2014-01-02</th>\n",
       "      <td>79.3828</td>\n",
       "      <td>79.5756</td>\n",
       "      <td>78.8601</td>\n",
       "      <td>79.0185</td>\n",
       "      <td>58791957</td>\n",
       "    </tr>\n",
       "    <tr>\n",
       "      <th>2014-01-03</th>\n",
       "      <td>78.9799</td>\n",
       "      <td>79.0999</td>\n",
       "      <td>77.2042</td>\n",
       "      <td>77.2828</td>\n",
       "      <td>98303870</td>\n",
       "    </tr>\n",
       "    <tr>\n",
       "      <th>2014-01-06</th>\n",
       "      <td>76.7785</td>\n",
       "      <td>78.1142</td>\n",
       "      <td>76.2285</td>\n",
       "      <td>77.7042</td>\n",
       "      <td>103359151</td>\n",
       "    </tr>\n",
       "    <tr>\n",
       "      <th>2014-01-07</th>\n",
       "      <td>77.7599</td>\n",
       "      <td>77.9942</td>\n",
       "      <td>76.8464</td>\n",
       "      <td>77.1481</td>\n",
       "      <td>79432766</td>\n",
       "    </tr>\n",
       "    <tr>\n",
       "      <th>2014-01-08</th>\n",
       "      <td>76.9728</td>\n",
       "      <td>77.9371</td>\n",
       "      <td>76.9556</td>\n",
       "      <td>77.6371</td>\n",
       "      <td>64686685</td>\n",
       "    </tr>\n",
       "    <tr>\n",
       "      <th>...</th>\n",
       "      <td>...</td>\n",
       "      <td>...</td>\n",
       "      <td>...</td>\n",
       "      <td>...</td>\n",
       "      <td>...</td>\n",
       "    </tr>\n",
       "    <tr>\n",
       "      <th>2017-12-22</th>\n",
       "      <td>174.6800</td>\n",
       "      <td>175.4240</td>\n",
       "      <td>174.5000</td>\n",
       "      <td>175.0100</td>\n",
       "      <td>16349444</td>\n",
       "    </tr>\n",
       "    <tr>\n",
       "      <th>2017-12-26</th>\n",
       "      <td>170.8000</td>\n",
       "      <td>171.4700</td>\n",
       "      <td>169.6790</td>\n",
       "      <td>170.5700</td>\n",
       "      <td>33185536</td>\n",
       "    </tr>\n",
       "    <tr>\n",
       "      <th>2017-12-27</th>\n",
       "      <td>170.1000</td>\n",
       "      <td>170.7800</td>\n",
       "      <td>169.7100</td>\n",
       "      <td>170.6000</td>\n",
       "      <td>21498213</td>\n",
       "    </tr>\n",
       "    <tr>\n",
       "      <th>2017-12-28</th>\n",
       "      <td>171.0000</td>\n",
       "      <td>171.8500</td>\n",
       "      <td>170.4800</td>\n",
       "      <td>171.0800</td>\n",
       "      <td>16480187</td>\n",
       "    </tr>\n",
       "    <tr>\n",
       "      <th>2017-12-29</th>\n",
       "      <td>170.5200</td>\n",
       "      <td>170.5900</td>\n",
       "      <td>169.2200</td>\n",
       "      <td>169.2300</td>\n",
       "      <td>25999922</td>\n",
       "    </tr>\n",
       "  </tbody>\n",
       "</table>\n",
       "<p>1007 rows × 5 columns</p>\n",
       "</div>"
      ],
      "text/plain": [
       "                open      high       low     close     volume\n",
       "date                                                         \n",
       "2014-01-02   79.3828   79.5756   78.8601   79.0185   58791957\n",
       "2014-01-03   78.9799   79.0999   77.2042   77.2828   98303870\n",
       "2014-01-06   76.7785   78.1142   76.2285   77.7042  103359151\n",
       "2014-01-07   77.7599   77.9942   76.8464   77.1481   79432766\n",
       "2014-01-08   76.9728   77.9371   76.9556   77.6371   64686685\n",
       "...              ...       ...       ...       ...        ...\n",
       "2017-12-22  174.6800  175.4240  174.5000  175.0100   16349444\n",
       "2017-12-26  170.8000  171.4700  169.6790  170.5700   33185536\n",
       "2017-12-27  170.1000  170.7800  169.7100  170.6000   21498213\n",
       "2017-12-28  171.0000  171.8500  170.4800  171.0800   16480187\n",
       "2017-12-29  170.5200  170.5900  169.2200  169.2300   25999922\n",
       "\n",
       "[1007 rows x 5 columns]"
      ]
     },
     "execution_count": 33,
     "metadata": {},
     "output_type": "execute_result"
    }
   ],
   "source": [
    "data_AAPL"
   ]
  },
  {
   "cell_type": "code",
   "execution_count": 34,
   "id": "cbedf256",
   "metadata": {},
   "outputs": [
    {
     "data": {
      "text/plain": [
       "<AxesSubplot:xlabel='date'>"
      ]
     },
     "execution_count": 34,
     "metadata": {},
     "output_type": "execute_result"
    },
    {
     "data": {
      "image/png": "[encoded data removed]",
      "text/plain": [
       "<Figure size 1008x720 with 1 Axes>"
      ]
     },
     "metadata": {
      "needs_background": "light"
     },
     "output_type": "display_data"
    }
   ],
   "source": [
    "data_AAPL.plot(figsize=(14,10))"
   ]
  },
  {
   "cell_type": "code",
   "execution_count": 36,
   "id": "6c2e6051",
   "metadata": {},
   "outputs": [
    {
     "data": {
      "image/png": "[encoded data removed]",
      "text/plain": [
       "<Figure size 432x288 with 1 Axes>"
      ]
     },
     "execution_count": 36,
     "metadata": {},
     "output_type": "execute_result"
    },
    {
     "data": {
      "image/png": "[encoded data removed]",
      "text/plain": [
       "<Figure size 432x288 with 1 Axes>"
      ]
     },
     "metadata": {
      "needs_background": "light"
     },
     "output_type": "display_data"
    }
   ],
   "source": [
    "from statsmodels.graphics.tsaplots import plot_acf\n",
    "plot_acf(data_AAPL['high'])"
   ]
  },
  {
   "cell_type": "code",
   "execution_count": 31,
   "id": "7e478f98",
   "metadata": {},
   "outputs": [
    {
     "name": "stdout",
     "output_type": "stream",
     "text": [
      "<class 'pandas.core.frame.DataFrame'>\n",
      "DatetimeIndex: 1007 entries, 2014-01-02 to 2017-12-29\n",
      "Data columns (total 6 columns):\n",
      " #   Column  Non-Null Count  Dtype  \n",
      "---  ------  --------------  -----  \n",
      " 0   symbol  1007 non-null   object \n",
      " 1   open    1007 non-null   float64\n",
      " 2   high    1007 non-null   float64\n",
      " 3   low     1007 non-null   float64\n",
      " 4   close   1007 non-null   float64\n",
      " 5   volume  1007 non-null   int64  \n",
      "dtypes: float64(4), int64(1), object(1)\n",
      "memory usage: 87.4+ KB\n"
     ]
    }
   ],
   "source": [
    "data_AAPL.info()"
   ]
  },
  {
   "cell_type": "code",
   "execution_count": null,
   "id": "e710c04d",
   "metadata": {},
   "outputs": [],
   "source": []
  }
 ],
 "metadata": {
  "kernelspec": {
   "display_name": "Python 3",
   "language": "python",
   "name": "python3"
  },
  "language_info": {
   "codemirror_mode": {
    "name": "ipython",
    "version": 3
   },
   "file_extension": ".py",
   "mimetype": "text/x-python",
   "name": "python",
   "nbconvert_exporter": "python",
   "pygments_lexer": "ipython3",
   "version": "3.9.4"
  },
  "toc": {
   "base_numbering": 1,
   "nav_menu": {},
   "number_sections": true,
   "sideBar": true,
   "skip_h1_title": false,
   "title_cell": "Table of Contents",
   "title_sidebar": "Contents",
   "toc_cell": false,
   "toc_position": {},
   "toc_section_display": true,
   "toc_window_display": false
  },
  "varInspector": {
   "cols": {
    "lenName": 16,
    "lenType": 16,
    "lenVar": 40
   },
   "kernels_config": {
    "python": {
     "delete_cmd_postfix": "",
     "delete_cmd_prefix": "del ",
     "library": "var_list.py",
     "varRefreshCmd": "print(var_dic_list())"
    },
    "r": {
     "delete_cmd_postfix": ") ",
     "delete_cmd_prefix": "rm(",
     "library": "var_list.r",
     "varRefreshCmd": "cat(var_dic_list()) "
    }
   },
   "types_to_exclude": [
    "module",
    "function",
    "builtin_function_or_method",
    "instance",
    "_Feature"
   ],
   "window_display": false
  }
 },
 "nbformat": 4,
 "nbformat_minor": 5
}
