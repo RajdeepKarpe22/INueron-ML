{
 "cells": [
  {
   "cell_type": "markdown",
   "metadata": {},
   "source": [
    "__1.1 Write a Python Program to implement your own myreduce() function which works exactly\n",
    "like Python's built-in function reduce().__"
   ]
  },
  {
   "cell_type": "code",
   "execution_count": 1,
   "metadata": {},
   "outputs": [
    {
     "name": "stdout",
     "output_type": "stream",
     "text": [
      "120\n"
     ]
    }
   ],
   "source": [
    "def myreduce(func,iter_obj): # Main reduce function which takes function and iterative list\n",
    "    return a                 # Final output to be returned by reduce function\n",
    "\n",
    "def mul(a,b):                # Secondary function which is to be passed to the main reduce function\n",
    "    return a*b\n",
    "\n",
    "num_list = [1,2,3,4,5]       # List to be sent on to iterative parameter in main function\n",
    "a = num_list[0]\n",
    "\n",
    "for i in range(0,len(num_list)):\n",
    "    b = num_list[i]\n",
    "    a = mul(a,b)\n",
    "    \n",
    "print(myreduce(mul,num_list))"
   ]
  },
  {
   "cell_type": "markdown",
   "metadata": {},
   "source": [
    "__1.2 Write a Python program to implement your own myfilter() function which works exactly\n",
    "like Python's built-in function filter().__"
   ]
  },
  {
   "cell_type": "code",
   "execution_count": 2,
   "metadata": {},
   "outputs": [
    {
     "name": "stdout",
     "output_type": "stream",
     "text": [
      "[2, 4, 6, 8, 10, 14, 1024, 2048]\n"
     ]
    }
   ],
   "source": [
    "def myfilter(func,iter_obj):\n",
    "    return even_list\n",
    "\n",
    "even_list=[]\n",
    "\n",
    "def is_even(num):\n",
    "    if num%2==0:\n",
    "        even_list.append(num)\n",
    "        \n",
    "num_list = [2,3,4,5,6,7,8,9,10,14,17,23,111,567,893,1024,2048]\n",
    "\n",
    "for i in num_list:\n",
    "    even = is_even(i)\n",
    "\n",
    "print(myfilter(is_even,num_list))"
   ]
  },
  {
   "cell_type": "markdown",
   "metadata": {},
   "source": [
    "__2.Implement List comprehensions to produce the following lists.__"
   ]
  },
  {
   "cell_type": "code",
   "execution_count": 3,
   "metadata": {},
   "outputs": [
    {
     "name": "stdout",
     "output_type": "stream",
     "text": [
      "['x', 'xx', 'xxx', 'xxxx', 'y', 'yy', 'yyy', 'yyyy', 'z', 'zz', 'zzz', 'zzzz']\n"
     ]
    }
   ],
   "source": [
    "alpha = list('xyz')\n",
    "print([i*j for i in alpha for j in range(1,5)])"
   ]
  },
  {
   "cell_type": "code",
   "execution_count": 4,
   "metadata": {},
   "outputs": [
    {
     "name": "stdout",
     "output_type": "stream",
     "text": [
      "['x', 'y', 'z', 'xx', 'yy', 'zz', 'xxx', 'yyy', 'zzz', 'xxxx', 'yyyy', 'zzzz']\n"
     ]
    }
   ],
   "source": [
    "alpha = list('xyz')\n",
    "print([i*j for j in range(1,5) for i in alpha])"
   ]
  },
  {
   "cell_type": "code",
   "execution_count": 5,
   "metadata": {},
   "outputs": [
    {
     "name": "stdout",
     "output_type": "stream",
     "text": [
      "[[2], [3], [4], [3], [4], [5], [4], [5], [6]]\n",
      "[[2, 3, 4, 5], [3, 4, 5, 6], [4, 5, 6, 7], [5, 6, 7, 8]]\n"
     ]
    }
   ],
   "source": [
    "num_list = [2,3,4]\n",
    "print([[i+j] for i in num_list for j in range(0,3)])\n",
    "\n",
    "num_list = [2,3,4,5]\n",
    "print([[i+j for i in num_list] for j in range(0,4)])"
   ]
  },
  {
   "cell_type": "code",
   "execution_count": 6,
   "metadata": {},
   "outputs": [
    {
     "name": "stdout",
     "output_type": "stream",
     "text": [
      "[(1, 1), (2, 1), (3, 1), (1, 2), (2, 2), (3, 2), (1, 3), (2, 3), (3, 3)]\n"
     ]
    }
   ],
   "source": [
    "num_list = [1,2,3]\n",
    "\n",
    "print([(j,i) for i in num_list for j in num_list])"
   ]
  },
  {
   "cell_type": "code",
   "execution_count": null,
   "metadata": {},
   "outputs": [],
   "source": []
  }
 ],
 "metadata": {
  "kernelspec": {
   "display_name": "Python 3",
   "language": "python",
   "name": "python3"
  },
  "language_info": {
   "codemirror_mode": {
    "name": "ipython",
    "version": 3
   },
   "file_extension": ".py",
   "mimetype": "text/x-python",
   "name": "python",
   "nbconvert_exporter": "python",
   "pygments_lexer": "ipython3",
   "version": "3.8.8"
  },
  "toc": {
   "base_numbering": 1,
   "nav_menu": {},
   "number_sections": true,
   "sideBar": true,
   "skip_h1_title": false,
   "title_cell": "Table of Contents",
   "title_sidebar": "Contents",
   "toc_cell": false,
   "toc_position": {},
   "toc_section_display": true,
   "toc_window_display": false
  }
 },
 "nbformat": 4,
 "nbformat_minor": 4
}
