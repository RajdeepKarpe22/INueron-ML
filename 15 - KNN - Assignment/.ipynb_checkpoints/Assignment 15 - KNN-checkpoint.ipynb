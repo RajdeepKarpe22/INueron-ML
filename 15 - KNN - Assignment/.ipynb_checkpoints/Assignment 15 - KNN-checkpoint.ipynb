{
 "cells": [
  {
   "cell_type": "markdown",
   "metadata": {},
   "source": [
    "### Data Collection and Information gathering"
   ]
  },
  {
   "cell_type": "code",
   "execution_count": 1,
   "metadata": {},
   "outputs": [],
   "source": [
    "import pandas as pd\n",
    "import numpy as np\n",
    "import matplotlib.pyplot as plt\n",
    "import seaborn as sns"
   ]
  },
  {
   "cell_type": "code",
   "execution_count": 2,
   "metadata": {},
   "outputs": [],
   "source": [
    "with open(\"nba_2013.csv\", 'r') as csvfile:\n",
    "    nba = pd.read_csv(csvfile)"
   ]
  },
  {
   "cell_type": "code",
   "execution_count": 3,
   "metadata": {},
   "outputs": [
    {
     "data": {
      "text/html": [
       "<div>\n",
       "<style scoped>\n",
       "    .dataframe tbody tr th:only-of-type {\n",
       "        vertical-align: middle;\n",
       "    }\n",
       "\n",
       "    .dataframe tbody tr th {\n",
       "        vertical-align: top;\n",
       "    }\n",
       "\n",
       "    .dataframe thead th {\n",
       "        text-align: right;\n",
       "    }\n",
       "</style>\n",
       "<table border=\"1\" class=\"dataframe\">\n",
       "  <thead>\n",
       "    <tr style=\"text-align: right;\">\n",
       "      <th></th>\n",
       "      <th>player</th>\n",
       "      <th>pos</th>\n",
       "      <th>age</th>\n",
       "      <th>bref_team_id</th>\n",
       "      <th>g</th>\n",
       "      <th>gs</th>\n",
       "      <th>mp</th>\n",
       "      <th>fg</th>\n",
       "      <th>fga</th>\n",
       "      <th>fg.</th>\n",
       "      <th>...</th>\n",
       "      <th>drb</th>\n",
       "      <th>trb</th>\n",
       "      <th>ast</th>\n",
       "      <th>stl</th>\n",
       "      <th>blk</th>\n",
       "      <th>tov</th>\n",
       "      <th>pf</th>\n",
       "      <th>pts</th>\n",
       "      <th>season</th>\n",
       "      <th>season_end</th>\n",
       "    </tr>\n",
       "  </thead>\n",
       "  <tbody>\n",
       "    <tr>\n",
       "      <th>0</th>\n",
       "      <td>Quincy Acy</td>\n",
       "      <td>SF</td>\n",
       "      <td>23</td>\n",
       "      <td>TOT</td>\n",
       "      <td>63</td>\n",
       "      <td>0</td>\n",
       "      <td>847</td>\n",
       "      <td>66</td>\n",
       "      <td>141</td>\n",
       "      <td>0.468</td>\n",
       "      <td>...</td>\n",
       "      <td>144</td>\n",
       "      <td>216</td>\n",
       "      <td>28</td>\n",
       "      <td>23</td>\n",
       "      <td>26</td>\n",
       "      <td>30</td>\n",
       "      <td>122</td>\n",
       "      <td>171</td>\n",
       "      <td>2013-2014</td>\n",
       "      <td>2013</td>\n",
       "    </tr>\n",
       "    <tr>\n",
       "      <th>1</th>\n",
       "      <td>Steven Adams</td>\n",
       "      <td>C</td>\n",
       "      <td>20</td>\n",
       "      <td>OKC</td>\n",
       "      <td>81</td>\n",
       "      <td>20</td>\n",
       "      <td>1197</td>\n",
       "      <td>93</td>\n",
       "      <td>185</td>\n",
       "      <td>0.503</td>\n",
       "      <td>...</td>\n",
       "      <td>190</td>\n",
       "      <td>332</td>\n",
       "      <td>43</td>\n",
       "      <td>40</td>\n",
       "      <td>57</td>\n",
       "      <td>71</td>\n",
       "      <td>203</td>\n",
       "      <td>265</td>\n",
       "      <td>2013-2014</td>\n",
       "      <td>2013</td>\n",
       "    </tr>\n",
       "    <tr>\n",
       "      <th>2</th>\n",
       "      <td>Jeff Adrien</td>\n",
       "      <td>PF</td>\n",
       "      <td>27</td>\n",
       "      <td>TOT</td>\n",
       "      <td>53</td>\n",
       "      <td>12</td>\n",
       "      <td>961</td>\n",
       "      <td>143</td>\n",
       "      <td>275</td>\n",
       "      <td>0.520</td>\n",
       "      <td>...</td>\n",
       "      <td>204</td>\n",
       "      <td>306</td>\n",
       "      <td>38</td>\n",
       "      <td>24</td>\n",
       "      <td>36</td>\n",
       "      <td>39</td>\n",
       "      <td>108</td>\n",
       "      <td>362</td>\n",
       "      <td>2013-2014</td>\n",
       "      <td>2013</td>\n",
       "    </tr>\n",
       "    <tr>\n",
       "      <th>3</th>\n",
       "      <td>Arron Afflalo</td>\n",
       "      <td>SG</td>\n",
       "      <td>28</td>\n",
       "      <td>ORL</td>\n",
       "      <td>73</td>\n",
       "      <td>73</td>\n",
       "      <td>2552</td>\n",
       "      <td>464</td>\n",
       "      <td>1011</td>\n",
       "      <td>0.459</td>\n",
       "      <td>...</td>\n",
       "      <td>230</td>\n",
       "      <td>262</td>\n",
       "      <td>248</td>\n",
       "      <td>35</td>\n",
       "      <td>3</td>\n",
       "      <td>146</td>\n",
       "      <td>136</td>\n",
       "      <td>1330</td>\n",
       "      <td>2013-2014</td>\n",
       "      <td>2013</td>\n",
       "    </tr>\n",
       "    <tr>\n",
       "      <th>4</th>\n",
       "      <td>Alexis Ajinca</td>\n",
       "      <td>C</td>\n",
       "      <td>25</td>\n",
       "      <td>NOP</td>\n",
       "      <td>56</td>\n",
       "      <td>30</td>\n",
       "      <td>951</td>\n",
       "      <td>136</td>\n",
       "      <td>249</td>\n",
       "      <td>0.546</td>\n",
       "      <td>...</td>\n",
       "      <td>183</td>\n",
       "      <td>277</td>\n",
       "      <td>40</td>\n",
       "      <td>23</td>\n",
       "      <td>46</td>\n",
       "      <td>63</td>\n",
       "      <td>187</td>\n",
       "      <td>328</td>\n",
       "      <td>2013-2014</td>\n",
       "      <td>2013</td>\n",
       "    </tr>\n",
       "  </tbody>\n",
       "</table>\n",
       "<p>5 rows × 31 columns</p>\n",
       "</div>"
      ],
      "text/plain": [
       "          player pos  age bref_team_id   g  gs    mp   fg   fga    fg.  ...  \\\n",
       "0     Quincy Acy  SF   23          TOT  63   0   847   66   141  0.468  ...   \n",
       "1   Steven Adams   C   20          OKC  81  20  1197   93   185  0.503  ...   \n",
       "2    Jeff Adrien  PF   27          TOT  53  12   961  143   275  0.520  ...   \n",
       "3  Arron Afflalo  SG   28          ORL  73  73  2552  464  1011  0.459  ...   \n",
       "4  Alexis Ajinca   C   25          NOP  56  30   951  136   249  0.546  ...   \n",
       "\n",
       "   drb  trb  ast  stl  blk  tov   pf   pts     season  season_end  \n",
       "0  144  216   28   23   26   30  122   171  2013-2014        2013  \n",
       "1  190  332   43   40   57   71  203   265  2013-2014        2013  \n",
       "2  204  306   38   24   36   39  108   362  2013-2014        2013  \n",
       "3  230  262  248   35    3  146  136  1330  2013-2014        2013  \n",
       "4  183  277   40   23   46   63  187   328  2013-2014        2013  \n",
       "\n",
       "[5 rows x 31 columns]"
      ]
     },
     "execution_count": 3,
     "metadata": {},
     "output_type": "execute_result"
    }
   ],
   "source": [
    "nba.head()"
   ]
  },
  {
   "cell_type": "code",
   "execution_count": 4,
   "metadata": {},
   "outputs": [
    {
     "name": "stdout",
     "output_type": "stream",
     "text": [
      "<class 'pandas.core.frame.DataFrame'>\n",
      "RangeIndex: 481 entries, 0 to 480\n",
      "Data columns (total 31 columns):\n",
      " #   Column        Non-Null Count  Dtype  \n",
      "---  ------        --------------  -----  \n",
      " 0   player        481 non-null    object \n",
      " 1   pos           481 non-null    object \n",
      " 2   age           481 non-null    int64  \n",
      " 3   bref_team_id  481 non-null    object \n",
      " 4   g             481 non-null    int64  \n",
      " 5   gs            481 non-null    int64  \n",
      " 6   mp            481 non-null    int64  \n",
      " 7   fg            481 non-null    int64  \n",
      " 8   fga           481 non-null    int64  \n",
      " 9   fg.           479 non-null    float64\n",
      " 10  x3p           481 non-null    int64  \n",
      " 11  x3pa          481 non-null    int64  \n",
      " 12  x3p.          414 non-null    float64\n",
      " 13  x2p           481 non-null    int64  \n",
      " 14  x2pa          481 non-null    int64  \n",
      " 15  x2p.          478 non-null    float64\n",
      " 16  efg.          479 non-null    float64\n",
      " 17  ft            481 non-null    int64  \n",
      " 18  fta           481 non-null    int64  \n",
      " 19  ft.           461 non-null    float64\n",
      " 20  orb           481 non-null    int64  \n",
      " 21  drb           481 non-null    int64  \n",
      " 22  trb           481 non-null    int64  \n",
      " 23  ast           481 non-null    int64  \n",
      " 24  stl           481 non-null    int64  \n",
      " 25  blk           481 non-null    int64  \n",
      " 26  tov           481 non-null    int64  \n",
      " 27  pf            481 non-null    int64  \n",
      " 28  pts           481 non-null    int64  \n",
      " 29  season        481 non-null    object \n",
      " 30  season_end    481 non-null    int64  \n",
      "dtypes: float64(5), int64(22), object(4)\n",
      "memory usage: 116.6+ KB\n"
     ]
    }
   ],
   "source": [
    "nba.info()"
   ]
  },
  {
   "cell_type": "code",
   "execution_count": 5,
   "metadata": {},
   "outputs": [
    {
     "data": {
      "text/plain": [
       "(481, 31)"
      ]
     },
     "execution_count": 5,
     "metadata": {},
     "output_type": "execute_result"
    }
   ],
   "source": [
    "nba.shape"
   ]
  },
  {
   "cell_type": "code",
   "execution_count": 6,
   "metadata": {},
   "outputs": [
    {
     "data": {
      "text/html": [
       "<div>\n",
       "<style scoped>\n",
       "    .dataframe tbody tr th:only-of-type {\n",
       "        vertical-align: middle;\n",
       "    }\n",
       "\n",
       "    .dataframe tbody tr th {\n",
       "        vertical-align: top;\n",
       "    }\n",
       "\n",
       "    .dataframe thead th {\n",
       "        text-align: right;\n",
       "    }\n",
       "</style>\n",
       "<table border=\"1\" class=\"dataframe\">\n",
       "  <thead>\n",
       "    <tr style=\"text-align: right;\">\n",
       "      <th></th>\n",
       "      <th>age</th>\n",
       "      <th>g</th>\n",
       "      <th>gs</th>\n",
       "      <th>mp</th>\n",
       "      <th>fg</th>\n",
       "      <th>fga</th>\n",
       "      <th>fg.</th>\n",
       "      <th>x3p</th>\n",
       "      <th>x3pa</th>\n",
       "      <th>x3p.</th>\n",
       "      <th>...</th>\n",
       "      <th>orb</th>\n",
       "      <th>drb</th>\n",
       "      <th>trb</th>\n",
       "      <th>ast</th>\n",
       "      <th>stl</th>\n",
       "      <th>blk</th>\n",
       "      <th>tov</th>\n",
       "      <th>pf</th>\n",
       "      <th>pts</th>\n",
       "      <th>season_end</th>\n",
       "    </tr>\n",
       "  </thead>\n",
       "  <tbody>\n",
       "    <tr>\n",
       "      <th>count</th>\n",
       "      <td>481.000000</td>\n",
       "      <td>481.000000</td>\n",
       "      <td>481.000000</td>\n",
       "      <td>481.000000</td>\n",
       "      <td>481.000000</td>\n",
       "      <td>481.000000</td>\n",
       "      <td>479.000000</td>\n",
       "      <td>481.000000</td>\n",
       "      <td>481.000000</td>\n",
       "      <td>414.000000</td>\n",
       "      <td>...</td>\n",
       "      <td>481.000000</td>\n",
       "      <td>481.000000</td>\n",
       "      <td>481.000000</td>\n",
       "      <td>481.000000</td>\n",
       "      <td>481.000000</td>\n",
       "      <td>481.000000</td>\n",
       "      <td>481.000000</td>\n",
       "      <td>481.000000</td>\n",
       "      <td>481.000000</td>\n",
       "      <td>481.0</td>\n",
       "    </tr>\n",
       "    <tr>\n",
       "      <th>mean</th>\n",
       "      <td>26.509356</td>\n",
       "      <td>53.253638</td>\n",
       "      <td>25.571726</td>\n",
       "      <td>1237.386694</td>\n",
       "      <td>192.881497</td>\n",
       "      <td>424.463617</td>\n",
       "      <td>0.436436</td>\n",
       "      <td>39.613306</td>\n",
       "      <td>110.130977</td>\n",
       "      <td>0.285111</td>\n",
       "      <td>...</td>\n",
       "      <td>55.810811</td>\n",
       "      <td>162.817048</td>\n",
       "      <td>218.627859</td>\n",
       "      <td>112.536383</td>\n",
       "      <td>39.280665</td>\n",
       "      <td>24.103950</td>\n",
       "      <td>71.862786</td>\n",
       "      <td>105.869023</td>\n",
       "      <td>516.582121</td>\n",
       "      <td>2013.0</td>\n",
       "    </tr>\n",
       "    <tr>\n",
       "      <th>std</th>\n",
       "      <td>4.198265</td>\n",
       "      <td>25.322711</td>\n",
       "      <td>29.658465</td>\n",
       "      <td>897.258840</td>\n",
       "      <td>171.832793</td>\n",
       "      <td>368.850833</td>\n",
       "      <td>0.098672</td>\n",
       "      <td>50.855639</td>\n",
       "      <td>132.751732</td>\n",
       "      <td>0.157633</td>\n",
       "      <td>...</td>\n",
       "      <td>62.101191</td>\n",
       "      <td>145.348116</td>\n",
       "      <td>200.356507</td>\n",
       "      <td>131.019557</td>\n",
       "      <td>34.783590</td>\n",
       "      <td>30.875381</td>\n",
       "      <td>62.701690</td>\n",
       "      <td>71.213627</td>\n",
       "      <td>470.422228</td>\n",
       "      <td>0.0</td>\n",
       "    </tr>\n",
       "    <tr>\n",
       "      <th>min</th>\n",
       "      <td>19.000000</td>\n",
       "      <td>1.000000</td>\n",
       "      <td>0.000000</td>\n",
       "      <td>1.000000</td>\n",
       "      <td>0.000000</td>\n",
       "      <td>0.000000</td>\n",
       "      <td>0.000000</td>\n",
       "      <td>0.000000</td>\n",
       "      <td>0.000000</td>\n",
       "      <td>0.000000</td>\n",
       "      <td>...</td>\n",
       "      <td>0.000000</td>\n",
       "      <td>0.000000</td>\n",
       "      <td>0.000000</td>\n",
       "      <td>0.000000</td>\n",
       "      <td>0.000000</td>\n",
       "      <td>0.000000</td>\n",
       "      <td>0.000000</td>\n",
       "      <td>0.000000</td>\n",
       "      <td>0.000000</td>\n",
       "      <td>2013.0</td>\n",
       "    </tr>\n",
       "    <tr>\n",
       "      <th>25%</th>\n",
       "      <td>23.000000</td>\n",
       "      <td>32.000000</td>\n",
       "      <td>0.000000</td>\n",
       "      <td>388.000000</td>\n",
       "      <td>47.000000</td>\n",
       "      <td>110.000000</td>\n",
       "      <td>0.400500</td>\n",
       "      <td>0.000000</td>\n",
       "      <td>3.000000</td>\n",
       "      <td>0.234355</td>\n",
       "      <td>...</td>\n",
       "      <td>12.000000</td>\n",
       "      <td>43.000000</td>\n",
       "      <td>55.000000</td>\n",
       "      <td>20.000000</td>\n",
       "      <td>9.000000</td>\n",
       "      <td>4.000000</td>\n",
       "      <td>21.000000</td>\n",
       "      <td>44.000000</td>\n",
       "      <td>115.000000</td>\n",
       "      <td>2013.0</td>\n",
       "    </tr>\n",
       "    <tr>\n",
       "      <th>50%</th>\n",
       "      <td>26.000000</td>\n",
       "      <td>61.000000</td>\n",
       "      <td>10.000000</td>\n",
       "      <td>1141.000000</td>\n",
       "      <td>146.000000</td>\n",
       "      <td>332.000000</td>\n",
       "      <td>0.438000</td>\n",
       "      <td>16.000000</td>\n",
       "      <td>48.000000</td>\n",
       "      <td>0.330976</td>\n",
       "      <td>...</td>\n",
       "      <td>35.000000</td>\n",
       "      <td>135.000000</td>\n",
       "      <td>168.000000</td>\n",
       "      <td>65.000000</td>\n",
       "      <td>32.000000</td>\n",
       "      <td>14.000000</td>\n",
       "      <td>58.000000</td>\n",
       "      <td>104.000000</td>\n",
       "      <td>401.000000</td>\n",
       "      <td>2013.0</td>\n",
       "    </tr>\n",
       "    <tr>\n",
       "      <th>75%</th>\n",
       "      <td>29.000000</td>\n",
       "      <td>76.000000</td>\n",
       "      <td>54.000000</td>\n",
       "      <td>2016.000000</td>\n",
       "      <td>307.000000</td>\n",
       "      <td>672.000000</td>\n",
       "      <td>0.479500</td>\n",
       "      <td>68.000000</td>\n",
       "      <td>193.000000</td>\n",
       "      <td>0.375000</td>\n",
       "      <td>...</td>\n",
       "      <td>73.000000</td>\n",
       "      <td>230.000000</td>\n",
       "      <td>310.000000</td>\n",
       "      <td>152.000000</td>\n",
       "      <td>60.000000</td>\n",
       "      <td>32.000000</td>\n",
       "      <td>108.000000</td>\n",
       "      <td>158.000000</td>\n",
       "      <td>821.000000</td>\n",
       "      <td>2013.0</td>\n",
       "    </tr>\n",
       "    <tr>\n",
       "      <th>max</th>\n",
       "      <td>39.000000</td>\n",
       "      <td>83.000000</td>\n",
       "      <td>82.000000</td>\n",
       "      <td>3122.000000</td>\n",
       "      <td>849.000000</td>\n",
       "      <td>1688.000000</td>\n",
       "      <td>1.000000</td>\n",
       "      <td>261.000000</td>\n",
       "      <td>615.000000</td>\n",
       "      <td>1.000000</td>\n",
       "      <td>...</td>\n",
       "      <td>440.000000</td>\n",
       "      <td>783.000000</td>\n",
       "      <td>1114.000000</td>\n",
       "      <td>721.000000</td>\n",
       "      <td>191.000000</td>\n",
       "      <td>219.000000</td>\n",
       "      <td>295.000000</td>\n",
       "      <td>273.000000</td>\n",
       "      <td>2593.000000</td>\n",
       "      <td>2013.0</td>\n",
       "    </tr>\n",
       "  </tbody>\n",
       "</table>\n",
       "<p>8 rows × 27 columns</p>\n",
       "</div>"
      ],
      "text/plain": [
       "              age           g          gs           mp          fg  \\\n",
       "count  481.000000  481.000000  481.000000   481.000000  481.000000   \n",
       "mean    26.509356   53.253638   25.571726  1237.386694  192.881497   \n",
       "std      4.198265   25.322711   29.658465   897.258840  171.832793   \n",
       "min     19.000000    1.000000    0.000000     1.000000    0.000000   \n",
       "25%     23.000000   32.000000    0.000000   388.000000   47.000000   \n",
       "50%     26.000000   61.000000   10.000000  1141.000000  146.000000   \n",
       "75%     29.000000   76.000000   54.000000  2016.000000  307.000000   \n",
       "max     39.000000   83.000000   82.000000  3122.000000  849.000000   \n",
       "\n",
       "               fga         fg.         x3p        x3pa        x3p.  ...  \\\n",
       "count   481.000000  479.000000  481.000000  481.000000  414.000000  ...   \n",
       "mean    424.463617    0.436436   39.613306  110.130977    0.285111  ...   \n",
       "std     368.850833    0.098672   50.855639  132.751732    0.157633  ...   \n",
       "min       0.000000    0.000000    0.000000    0.000000    0.000000  ...   \n",
       "25%     110.000000    0.400500    0.000000    3.000000    0.234355  ...   \n",
       "50%     332.000000    0.438000   16.000000   48.000000    0.330976  ...   \n",
       "75%     672.000000    0.479500   68.000000  193.000000    0.375000  ...   \n",
       "max    1688.000000    1.000000  261.000000  615.000000    1.000000  ...   \n",
       "\n",
       "              orb         drb          trb         ast         stl  \\\n",
       "count  481.000000  481.000000   481.000000  481.000000  481.000000   \n",
       "mean    55.810811  162.817048   218.627859  112.536383   39.280665   \n",
       "std     62.101191  145.348116   200.356507  131.019557   34.783590   \n",
       "min      0.000000    0.000000     0.000000    0.000000    0.000000   \n",
       "25%     12.000000   43.000000    55.000000   20.000000    9.000000   \n",
       "50%     35.000000  135.000000   168.000000   65.000000   32.000000   \n",
       "75%     73.000000  230.000000   310.000000  152.000000   60.000000   \n",
       "max    440.000000  783.000000  1114.000000  721.000000  191.000000   \n",
       "\n",
       "              blk         tov          pf          pts  season_end  \n",
       "count  481.000000  481.000000  481.000000   481.000000       481.0  \n",
       "mean    24.103950   71.862786  105.869023   516.582121      2013.0  \n",
       "std     30.875381   62.701690   71.213627   470.422228         0.0  \n",
       "min      0.000000    0.000000    0.000000     0.000000      2013.0  \n",
       "25%      4.000000   21.000000   44.000000   115.000000      2013.0  \n",
       "50%     14.000000   58.000000  104.000000   401.000000      2013.0  \n",
       "75%     32.000000  108.000000  158.000000   821.000000      2013.0  \n",
       "max    219.000000  295.000000  273.000000  2593.000000      2013.0  \n",
       "\n",
       "[8 rows x 27 columns]"
      ]
     },
     "execution_count": 6,
     "metadata": {},
     "output_type": "execute_result"
    }
   ],
   "source": [
    "nba.describe()"
   ]
  },
  {
   "cell_type": "code",
   "execution_count": 7,
   "metadata": {},
   "outputs": [
    {
     "data": {
      "text/plain": [
       "<AxesSubplot:>"
      ]
     },
     "execution_count": 7,
     "metadata": {},
     "output_type": "execute_result"
    },
    {
     "data": {
      "image/png": "[encoded data removed]",
      "text/plain": [
       "<Figure size 1008x864 with 2 Axes>"
      ]
     },
     "metadata": {
      "needs_background": "light"
     },
     "output_type": "display_data"
    }
   ],
   "source": [
    "plt.figure(figsize=(14,12))\n",
    "sns.heatmap(nba.corr(),annot=True)"
   ]
  },
  {
   "cell_type": "code",
   "execution_count": 8,
   "metadata": {},
   "outputs": [
    {
     "data": {
      "text/plain": [
       "player           0\n",
       "pos              0\n",
       "age              0\n",
       "bref_team_id     0\n",
       "g                0\n",
       "gs               0\n",
       "mp               0\n",
       "fg               0\n",
       "fga              0\n",
       "fg.              2\n",
       "x3p              0\n",
       "x3pa             0\n",
       "x3p.            67\n",
       "x2p              0\n",
       "x2pa             0\n",
       "x2p.             3\n",
       "efg.             2\n",
       "ft               0\n",
       "fta              0\n",
       "ft.             20\n",
       "orb              0\n",
       "drb              0\n",
       "trb              0\n",
       "ast              0\n",
       "stl              0\n",
       "blk              0\n",
       "tov              0\n",
       "pf               0\n",
       "pts              0\n",
       "season           0\n",
       "season_end       0\n",
       "dtype: int64"
      ]
     },
     "execution_count": 8,
     "metadata": {},
     "output_type": "execute_result"
    }
   ],
   "source": [
    "nba.isnull().sum()"
   ]
  },
  {
   "cell_type": "code",
   "execution_count": 9,
   "metadata": {},
   "outputs": [
    {
     "data": {
      "text/plain": [
       "player           object\n",
       "pos              object\n",
       "age               int64\n",
       "bref_team_id     object\n",
       "g                 int64\n",
       "gs                int64\n",
       "mp                int64\n",
       "fg                int64\n",
       "fga               int64\n",
       "fg.             float64\n",
       "x3p               int64\n",
       "x3pa              int64\n",
       "x3p.            float64\n",
       "x2p               int64\n",
       "x2pa              int64\n",
       "x2p.            float64\n",
       "efg.            float64\n",
       "ft                int64\n",
       "fta               int64\n",
       "ft.             float64\n",
       "orb               int64\n",
       "drb               int64\n",
       "trb               int64\n",
       "ast               int64\n",
       "stl               int64\n",
       "blk               int64\n",
       "tov               int64\n",
       "pf                int64\n",
       "pts               int64\n",
       "season           object\n",
       "season_end        int64\n",
       "dtype: object"
      ]
     },
     "execution_count": 9,
     "metadata": {},
     "output_type": "execute_result"
    }
   ],
   "source": [
    "nba.dtypes"
   ]
  },
  {
   "cell_type": "markdown",
   "metadata": {},
   "source": [
    "### Handling Missing Values"
   ]
  },
  {
   "cell_type": "code",
   "execution_count": 10,
   "metadata": {},
   "outputs": [],
   "source": [
    "feature_list = ['fg.', 'x3p.', 'x2p.', 'efg.', 'ft.']\n",
    "\n",
    "def impute(feature_list):\n",
    "    for feature in feature_list:\n",
    "        if (nba[feature].dtype == 'int64' or nba[feature].dtype == 'float64') and nba[feature].isnull:\n",
    "            nba[feature].fillna(nba[feature].median(),inplace=True)\n",
    "        else:\n",
    "            return feature\n",
    "\n",
    "impute(feature_list)"
   ]
  },
  {
   "cell_type": "code",
   "execution_count": 11,
   "metadata": {},
   "outputs": [
    {
     "data": {
      "text/html": [
       "<div>\n",
       "<style scoped>\n",
       "    .dataframe tbody tr th:only-of-type {\n",
       "        vertical-align: middle;\n",
       "    }\n",
       "\n",
       "    .dataframe tbody tr th {\n",
       "        vertical-align: top;\n",
       "    }\n",
       "\n",
       "    .dataframe thead th {\n",
       "        text-align: right;\n",
       "    }\n",
       "</style>\n",
       "<table border=\"1\" class=\"dataframe\">\n",
       "  <thead>\n",
       "    <tr style=\"text-align: right;\">\n",
       "      <th></th>\n",
       "      <th>player</th>\n",
       "      <th>pos</th>\n",
       "      <th>age</th>\n",
       "      <th>bref_team_id</th>\n",
       "      <th>g</th>\n",
       "      <th>gs</th>\n",
       "      <th>mp</th>\n",
       "      <th>fg</th>\n",
       "      <th>fga</th>\n",
       "      <th>fg.</th>\n",
       "      <th>...</th>\n",
       "      <th>drb</th>\n",
       "      <th>trb</th>\n",
       "      <th>ast</th>\n",
       "      <th>stl</th>\n",
       "      <th>blk</th>\n",
       "      <th>tov</th>\n",
       "      <th>pf</th>\n",
       "      <th>pts</th>\n",
       "      <th>season</th>\n",
       "      <th>season_end</th>\n",
       "    </tr>\n",
       "  </thead>\n",
       "  <tbody>\n",
       "    <tr>\n",
       "      <th>0</th>\n",
       "      <td>Quincy Acy</td>\n",
       "      <td>SF</td>\n",
       "      <td>23</td>\n",
       "      <td>TOT</td>\n",
       "      <td>63</td>\n",
       "      <td>0</td>\n",
       "      <td>847</td>\n",
       "      <td>66</td>\n",
       "      <td>141</td>\n",
       "      <td>0.468</td>\n",
       "      <td>...</td>\n",
       "      <td>144</td>\n",
       "      <td>216</td>\n",
       "      <td>28</td>\n",
       "      <td>23</td>\n",
       "      <td>26</td>\n",
       "      <td>30</td>\n",
       "      <td>122</td>\n",
       "      <td>171</td>\n",
       "      <td>2013-2014</td>\n",
       "      <td>2013</td>\n",
       "    </tr>\n",
       "    <tr>\n",
       "      <th>1</th>\n",
       "      <td>Steven Adams</td>\n",
       "      <td>C</td>\n",
       "      <td>20</td>\n",
       "      <td>OKC</td>\n",
       "      <td>81</td>\n",
       "      <td>20</td>\n",
       "      <td>1197</td>\n",
       "      <td>93</td>\n",
       "      <td>185</td>\n",
       "      <td>0.503</td>\n",
       "      <td>...</td>\n",
       "      <td>190</td>\n",
       "      <td>332</td>\n",
       "      <td>43</td>\n",
       "      <td>40</td>\n",
       "      <td>57</td>\n",
       "      <td>71</td>\n",
       "      <td>203</td>\n",
       "      <td>265</td>\n",
       "      <td>2013-2014</td>\n",
       "      <td>2013</td>\n",
       "    </tr>\n",
       "    <tr>\n",
       "      <th>2</th>\n",
       "      <td>Jeff Adrien</td>\n",
       "      <td>PF</td>\n",
       "      <td>27</td>\n",
       "      <td>TOT</td>\n",
       "      <td>53</td>\n",
       "      <td>12</td>\n",
       "      <td>961</td>\n",
       "      <td>143</td>\n",
       "      <td>275</td>\n",
       "      <td>0.520</td>\n",
       "      <td>...</td>\n",
       "      <td>204</td>\n",
       "      <td>306</td>\n",
       "      <td>38</td>\n",
       "      <td>24</td>\n",
       "      <td>36</td>\n",
       "      <td>39</td>\n",
       "      <td>108</td>\n",
       "      <td>362</td>\n",
       "      <td>2013-2014</td>\n",
       "      <td>2013</td>\n",
       "    </tr>\n",
       "    <tr>\n",
       "      <th>3</th>\n",
       "      <td>Arron Afflalo</td>\n",
       "      <td>SG</td>\n",
       "      <td>28</td>\n",
       "      <td>ORL</td>\n",
       "      <td>73</td>\n",
       "      <td>73</td>\n",
       "      <td>2552</td>\n",
       "      <td>464</td>\n",
       "      <td>1011</td>\n",
       "      <td>0.459</td>\n",
       "      <td>...</td>\n",
       "      <td>230</td>\n",
       "      <td>262</td>\n",
       "      <td>248</td>\n",
       "      <td>35</td>\n",
       "      <td>3</td>\n",
       "      <td>146</td>\n",
       "      <td>136</td>\n",
       "      <td>1330</td>\n",
       "      <td>2013-2014</td>\n",
       "      <td>2013</td>\n",
       "    </tr>\n",
       "    <tr>\n",
       "      <th>4</th>\n",
       "      <td>Alexis Ajinca</td>\n",
       "      <td>C</td>\n",
       "      <td>25</td>\n",
       "      <td>NOP</td>\n",
       "      <td>56</td>\n",
       "      <td>30</td>\n",
       "      <td>951</td>\n",
       "      <td>136</td>\n",
       "      <td>249</td>\n",
       "      <td>0.546</td>\n",
       "      <td>...</td>\n",
       "      <td>183</td>\n",
       "      <td>277</td>\n",
       "      <td>40</td>\n",
       "      <td>23</td>\n",
       "      <td>46</td>\n",
       "      <td>63</td>\n",
       "      <td>187</td>\n",
       "      <td>328</td>\n",
       "      <td>2013-2014</td>\n",
       "      <td>2013</td>\n",
       "    </tr>\n",
       "  </tbody>\n",
       "</table>\n",
       "<p>5 rows × 31 columns</p>\n",
       "</div>"
      ],
      "text/plain": [
       "          player pos  age bref_team_id   g  gs    mp   fg   fga    fg.  ...  \\\n",
       "0     Quincy Acy  SF   23          TOT  63   0   847   66   141  0.468  ...   \n",
       "1   Steven Adams   C   20          OKC  81  20  1197   93   185  0.503  ...   \n",
       "2    Jeff Adrien  PF   27          TOT  53  12   961  143   275  0.520  ...   \n",
       "3  Arron Afflalo  SG   28          ORL  73  73  2552  464  1011  0.459  ...   \n",
       "4  Alexis Ajinca   C   25          NOP  56  30   951  136   249  0.546  ...   \n",
       "\n",
       "   drb  trb  ast  stl  blk  tov   pf   pts     season  season_end  \n",
       "0  144  216   28   23   26   30  122   171  2013-2014        2013  \n",
       "1  190  332   43   40   57   71  203   265  2013-2014        2013  \n",
       "2  204  306   38   24   36   39  108   362  2013-2014        2013  \n",
       "3  230  262  248   35    3  146  136  1330  2013-2014        2013  \n",
       "4  183  277   40   23   46   63  187   328  2013-2014        2013  \n",
       "\n",
       "[5 rows x 31 columns]"
      ]
     },
     "execution_count": 11,
     "metadata": {},
     "output_type": "execute_result"
    }
   ],
   "source": [
    "nba.head()"
   ]
  },
  {
   "cell_type": "code",
   "execution_count": 12,
   "metadata": {},
   "outputs": [
    {
     "data": {
      "text/plain": [
       "player          0\n",
       "pos             0\n",
       "age             0\n",
       "bref_team_id    0\n",
       "g               0\n",
       "gs              0\n",
       "mp              0\n",
       "fg              0\n",
       "fga             0\n",
       "fg.             0\n",
       "x3p             0\n",
       "x3pa            0\n",
       "x3p.            0\n",
       "x2p             0\n",
       "x2pa            0\n",
       "x2p.            0\n",
       "efg.            0\n",
       "ft              0\n",
       "fta             0\n",
       "ft.             0\n",
       "orb             0\n",
       "drb             0\n",
       "trb             0\n",
       "ast             0\n",
       "stl             0\n",
       "blk             0\n",
       "tov             0\n",
       "pf              0\n",
       "pts             0\n",
       "season          0\n",
       "season_end      0\n",
       "dtype: int64"
      ]
     },
     "execution_count": 12,
     "metadata": {},
     "output_type": "execute_result"
    }
   ],
   "source": [
    "nba.isnull().sum()"
   ]
  },
  {
   "cell_type": "code",
   "execution_count": 13,
   "metadata": {},
   "outputs": [
    {
     "data": {
      "text/plain": [
       "0"
      ]
     },
     "execution_count": 13,
     "metadata": {},
     "output_type": "execute_result"
    }
   ],
   "source": [
    "nba.duplicated().sum()"
   ]
  },
  {
   "cell_type": "code",
   "execution_count": 14,
   "metadata": {},
   "outputs": [],
   "source": [
    "nba.drop('player', axis=1, inplace=True)\n",
    "nba.drop('bref_team_id', axis=1, inplace=True)\n",
    "nba.drop('season', axis=1, inplace=True)\n",
    "nba.drop('season_end', axis=1, inplace=True)"
   ]
  },
  {
   "cell_type": "code",
   "execution_count": 15,
   "metadata": {},
   "outputs": [
    {
     "data": {
      "text/plain": [
       "(481, 27)"
      ]
     },
     "execution_count": 15,
     "metadata": {},
     "output_type": "execute_result"
    }
   ],
   "source": [
    "nba.shape"
   ]
  },
  {
   "cell_type": "code",
   "execution_count": 16,
   "metadata": {},
   "outputs": [
    {
     "name": "stdout",
     "output_type": "stream",
     "text": [
      "<class 'pandas.core.frame.DataFrame'>\n",
      "RangeIndex: 481 entries, 0 to 480\n",
      "Data columns (total 27 columns):\n",
      " #   Column  Non-Null Count  Dtype  \n",
      "---  ------  --------------  -----  \n",
      " 0   pos     481 non-null    object \n",
      " 1   age     481 non-null    int64  \n",
      " 2   g       481 non-null    int64  \n",
      " 3   gs      481 non-null    int64  \n",
      " 4   mp      481 non-null    int64  \n",
      " 5   fg      481 non-null    int64  \n",
      " 6   fga     481 non-null    int64  \n",
      " 7   fg.     481 non-null    float64\n",
      " 8   x3p     481 non-null    int64  \n",
      " 9   x3pa    481 non-null    int64  \n",
      " 10  x3p.    481 non-null    float64\n",
      " 11  x2p     481 non-null    int64  \n",
      " 12  x2pa    481 non-null    int64  \n",
      " 13  x2p.    481 non-null    float64\n",
      " 14  efg.    481 non-null    float64\n",
      " 15  ft      481 non-null    int64  \n",
      " 16  fta     481 non-null    int64  \n",
      " 17  ft.     481 non-null    float64\n",
      " 18  orb     481 non-null    int64  \n",
      " 19  drb     481 non-null    int64  \n",
      " 20  trb     481 non-null    int64  \n",
      " 21  ast     481 non-null    int64  \n",
      " 22  stl     481 non-null    int64  \n",
      " 23  blk     481 non-null    int64  \n",
      " 24  tov     481 non-null    int64  \n",
      " 25  pf      481 non-null    int64  \n",
      " 26  pts     481 non-null    int64  \n",
      "dtypes: float64(5), int64(21), object(1)\n",
      "memory usage: 101.6+ KB\n"
     ]
    }
   ],
   "source": [
    "nba.info()"
   ]
  },
  {
   "cell_type": "code",
   "execution_count": 17,
   "metadata": {},
   "outputs": [
    {
     "data": {
      "text/plain": [
       "array(['SF', 'C', 'PF', 'SG', 'PG', 'G', 'F'], dtype=object)"
      ]
     },
     "execution_count": 17,
     "metadata": {},
     "output_type": "execute_result"
    }
   ],
   "source": [
    "nba['pos'].unique()"
   ]
  },
  {
   "cell_type": "code",
   "execution_count": 18,
   "metadata": {},
   "outputs": [
    {
     "data": {
      "text/plain": [
       "SG    109\n",
       "SF     99\n",
       "PF     96\n",
       "C      90\n",
       "PG     85\n",
       "F       1\n",
       "G       1\n",
       "Name: pos, dtype: int64"
      ]
     },
     "execution_count": 18,
     "metadata": {},
     "output_type": "execute_result"
    }
   ],
   "source": [
    "nba['pos'].value_counts()"
   ]
  },
  {
   "cell_type": "code",
   "execution_count": 19,
   "metadata": {
    "run_control": {
     "marked": false
    }
   },
   "outputs": [
    {
     "data": {
      "text/html": [
       "<div>\n",
       "<style scoped>\n",
       "    .dataframe tbody tr th:only-of-type {\n",
       "        vertical-align: middle;\n",
       "    }\n",
       "\n",
       "    .dataframe tbody tr th {\n",
       "        vertical-align: top;\n",
       "    }\n",
       "\n",
       "    .dataframe thead th {\n",
       "        text-align: right;\n",
       "    }\n",
       "</style>\n",
       "<table border=\"1\" class=\"dataframe\">\n",
       "  <thead>\n",
       "    <tr style=\"text-align: right;\">\n",
       "      <th></th>\n",
       "      <th>pos_F</th>\n",
       "      <th>pos_G</th>\n",
       "      <th>pos_PF</th>\n",
       "      <th>pos_PG</th>\n",
       "      <th>pos_SF</th>\n",
       "      <th>pos_SG</th>\n",
       "    </tr>\n",
       "  </thead>\n",
       "  <tbody>\n",
       "    <tr>\n",
       "      <th>0</th>\n",
       "      <td>0</td>\n",
       "      <td>0</td>\n",
       "      <td>0</td>\n",
       "      <td>0</td>\n",
       "      <td>1</td>\n",
       "      <td>0</td>\n",
       "    </tr>\n",
       "    <tr>\n",
       "      <th>1</th>\n",
       "      <td>0</td>\n",
       "      <td>0</td>\n",
       "      <td>0</td>\n",
       "      <td>0</td>\n",
       "      <td>0</td>\n",
       "      <td>0</td>\n",
       "    </tr>\n",
       "    <tr>\n",
       "      <th>2</th>\n",
       "      <td>0</td>\n",
       "      <td>0</td>\n",
       "      <td>1</td>\n",
       "      <td>0</td>\n",
       "      <td>0</td>\n",
       "      <td>0</td>\n",
       "    </tr>\n",
       "    <tr>\n",
       "      <th>3</th>\n",
       "      <td>0</td>\n",
       "      <td>0</td>\n",
       "      <td>0</td>\n",
       "      <td>0</td>\n",
       "      <td>0</td>\n",
       "      <td>1</td>\n",
       "    </tr>\n",
       "    <tr>\n",
       "      <th>4</th>\n",
       "      <td>0</td>\n",
       "      <td>0</td>\n",
       "      <td>0</td>\n",
       "      <td>0</td>\n",
       "      <td>0</td>\n",
       "      <td>0</td>\n",
       "    </tr>\n",
       "  </tbody>\n",
       "</table>\n",
       "</div>"
      ],
      "text/plain": [
       "   pos_F  pos_G  pos_PF  pos_PG  pos_SF  pos_SG\n",
       "0      0      0       0       0       1       0\n",
       "1      0      0       0       0       0       0\n",
       "2      0      0       1       0       0       0\n",
       "3      0      0       0       0       0       1\n",
       "4      0      0       0       0       0       0"
      ]
     },
     "execution_count": 19,
     "metadata": {},
     "output_type": "execute_result"
    }
   ],
   "source": [
    "pos_updated = pd.get_dummies(nba['pos'], prefix='pos', drop_first=True)\n",
    "pos_updated.head()"
   ]
  },
  {
   "cell_type": "code",
   "execution_count": 20,
   "metadata": {},
   "outputs": [],
   "source": [
    "nba.drop('pos',axis=1, inplace=True)"
   ]
  },
  {
   "cell_type": "code",
   "execution_count": 21,
   "metadata": {},
   "outputs": [
    {
     "data": {
      "text/html": [
       "<div>\n",
       "<style scoped>\n",
       "    .dataframe tbody tr th:only-of-type {\n",
       "        vertical-align: middle;\n",
       "    }\n",
       "\n",
       "    .dataframe tbody tr th {\n",
       "        vertical-align: top;\n",
       "    }\n",
       "\n",
       "    .dataframe thead th {\n",
       "        text-align: right;\n",
       "    }\n",
       "</style>\n",
       "<table border=\"1\" class=\"dataframe\">\n",
       "  <thead>\n",
       "    <tr style=\"text-align: right;\">\n",
       "      <th></th>\n",
       "      <th>age</th>\n",
       "      <th>g</th>\n",
       "      <th>gs</th>\n",
       "      <th>mp</th>\n",
       "      <th>fg</th>\n",
       "      <th>fga</th>\n",
       "      <th>fg.</th>\n",
       "      <th>x3p</th>\n",
       "      <th>x3pa</th>\n",
       "      <th>x3p.</th>\n",
       "      <th>...</th>\n",
       "      <th>ft.</th>\n",
       "      <th>orb</th>\n",
       "      <th>drb</th>\n",
       "      <th>trb</th>\n",
       "      <th>ast</th>\n",
       "      <th>stl</th>\n",
       "      <th>blk</th>\n",
       "      <th>tov</th>\n",
       "      <th>pf</th>\n",
       "      <th>pts</th>\n",
       "    </tr>\n",
       "  </thead>\n",
       "  <tbody>\n",
       "    <tr>\n",
       "      <th>0</th>\n",
       "      <td>23</td>\n",
       "      <td>63</td>\n",
       "      <td>0</td>\n",
       "      <td>847</td>\n",
       "      <td>66</td>\n",
       "      <td>141</td>\n",
       "      <td>0.468</td>\n",
       "      <td>4</td>\n",
       "      <td>15</td>\n",
       "      <td>0.266667</td>\n",
       "      <td>...</td>\n",
       "      <td>0.660</td>\n",
       "      <td>72</td>\n",
       "      <td>144</td>\n",
       "      <td>216</td>\n",
       "      <td>28</td>\n",
       "      <td>23</td>\n",
       "      <td>26</td>\n",
       "      <td>30</td>\n",
       "      <td>122</td>\n",
       "      <td>171</td>\n",
       "    </tr>\n",
       "    <tr>\n",
       "      <th>1</th>\n",
       "      <td>20</td>\n",
       "      <td>81</td>\n",
       "      <td>20</td>\n",
       "      <td>1197</td>\n",
       "      <td>93</td>\n",
       "      <td>185</td>\n",
       "      <td>0.503</td>\n",
       "      <td>0</td>\n",
       "      <td>0</td>\n",
       "      <td>0.330976</td>\n",
       "      <td>...</td>\n",
       "      <td>0.581</td>\n",
       "      <td>142</td>\n",
       "      <td>190</td>\n",
       "      <td>332</td>\n",
       "      <td>43</td>\n",
       "      <td>40</td>\n",
       "      <td>57</td>\n",
       "      <td>71</td>\n",
       "      <td>203</td>\n",
       "      <td>265</td>\n",
       "    </tr>\n",
       "    <tr>\n",
       "      <th>2</th>\n",
       "      <td>27</td>\n",
       "      <td>53</td>\n",
       "      <td>12</td>\n",
       "      <td>961</td>\n",
       "      <td>143</td>\n",
       "      <td>275</td>\n",
       "      <td>0.520</td>\n",
       "      <td>0</td>\n",
       "      <td>0</td>\n",
       "      <td>0.330976</td>\n",
       "      <td>...</td>\n",
       "      <td>0.639</td>\n",
       "      <td>102</td>\n",
       "      <td>204</td>\n",
       "      <td>306</td>\n",
       "      <td>38</td>\n",
       "      <td>24</td>\n",
       "      <td>36</td>\n",
       "      <td>39</td>\n",
       "      <td>108</td>\n",
       "      <td>362</td>\n",
       "    </tr>\n",
       "    <tr>\n",
       "      <th>3</th>\n",
       "      <td>28</td>\n",
       "      <td>73</td>\n",
       "      <td>73</td>\n",
       "      <td>2552</td>\n",
       "      <td>464</td>\n",
       "      <td>1011</td>\n",
       "      <td>0.459</td>\n",
       "      <td>128</td>\n",
       "      <td>300</td>\n",
       "      <td>0.426667</td>\n",
       "      <td>...</td>\n",
       "      <td>0.815</td>\n",
       "      <td>32</td>\n",
       "      <td>230</td>\n",
       "      <td>262</td>\n",
       "      <td>248</td>\n",
       "      <td>35</td>\n",
       "      <td>3</td>\n",
       "      <td>146</td>\n",
       "      <td>136</td>\n",
       "      <td>1330</td>\n",
       "    </tr>\n",
       "    <tr>\n",
       "      <th>4</th>\n",
       "      <td>25</td>\n",
       "      <td>56</td>\n",
       "      <td>30</td>\n",
       "      <td>951</td>\n",
       "      <td>136</td>\n",
       "      <td>249</td>\n",
       "      <td>0.546</td>\n",
       "      <td>0</td>\n",
       "      <td>1</td>\n",
       "      <td>0.000000</td>\n",
       "      <td>...</td>\n",
       "      <td>0.836</td>\n",
       "      <td>94</td>\n",
       "      <td>183</td>\n",
       "      <td>277</td>\n",
       "      <td>40</td>\n",
       "      <td>23</td>\n",
       "      <td>46</td>\n",
       "      <td>63</td>\n",
       "      <td>187</td>\n",
       "      <td>328</td>\n",
       "    </tr>\n",
       "  </tbody>\n",
       "</table>\n",
       "<p>5 rows × 26 columns</p>\n",
       "</div>"
      ],
      "text/plain": [
       "   age   g  gs    mp   fg   fga    fg.  x3p  x3pa      x3p.  ...    ft.  orb  \\\n",
       "0   23  63   0   847   66   141  0.468    4    15  0.266667  ...  0.660   72   \n",
       "1   20  81  20  1197   93   185  0.503    0     0  0.330976  ...  0.581  142   \n",
       "2   27  53  12   961  143   275  0.520    0     0  0.330976  ...  0.639  102   \n",
       "3   28  73  73  2552  464  1011  0.459  128   300  0.426667  ...  0.815   32   \n",
       "4   25  56  30   951  136   249  0.546    0     1  0.000000  ...  0.836   94   \n",
       "\n",
       "   drb  trb  ast  stl  blk  tov   pf   pts  \n",
       "0  144  216   28   23   26   30  122   171  \n",
       "1  190  332   43   40   57   71  203   265  \n",
       "2  204  306   38   24   36   39  108   362  \n",
       "3  230  262  248   35    3  146  136  1330  \n",
       "4  183  277   40   23   46   63  187   328  \n",
       "\n",
       "[5 rows x 26 columns]"
      ]
     },
     "execution_count": 21,
     "metadata": {},
     "output_type": "execute_result"
    }
   ],
   "source": [
    "nba.head()"
   ]
  },
  {
   "cell_type": "code",
   "execution_count": 22,
   "metadata": {},
   "outputs": [],
   "source": [
    "data_nba = pd.concat([nba,pos_updated],axis=1)"
   ]
  },
  {
   "cell_type": "code",
   "execution_count": 23,
   "metadata": {},
   "outputs": [
    {
     "data": {
      "text/html": [
       "<div>\n",
       "<style scoped>\n",
       "    .dataframe tbody tr th:only-of-type {\n",
       "        vertical-align: middle;\n",
       "    }\n",
       "\n",
       "    .dataframe tbody tr th {\n",
       "        vertical-align: top;\n",
       "    }\n",
       "\n",
       "    .dataframe thead th {\n",
       "        text-align: right;\n",
       "    }\n",
       "</style>\n",
       "<table border=\"1\" class=\"dataframe\">\n",
       "  <thead>\n",
       "    <tr style=\"text-align: right;\">\n",
       "      <th></th>\n",
       "      <th>age</th>\n",
       "      <th>g</th>\n",
       "      <th>gs</th>\n",
       "      <th>mp</th>\n",
       "      <th>fg</th>\n",
       "      <th>fga</th>\n",
       "      <th>fg.</th>\n",
       "      <th>x3p</th>\n",
       "      <th>x3pa</th>\n",
       "      <th>x3p.</th>\n",
       "      <th>...</th>\n",
       "      <th>blk</th>\n",
       "      <th>tov</th>\n",
       "      <th>pf</th>\n",
       "      <th>pts</th>\n",
       "      <th>pos_F</th>\n",
       "      <th>pos_G</th>\n",
       "      <th>pos_PF</th>\n",
       "      <th>pos_PG</th>\n",
       "      <th>pos_SF</th>\n",
       "      <th>pos_SG</th>\n",
       "    </tr>\n",
       "  </thead>\n",
       "  <tbody>\n",
       "    <tr>\n",
       "      <th>0</th>\n",
       "      <td>23</td>\n",
       "      <td>63</td>\n",
       "      <td>0</td>\n",
       "      <td>847</td>\n",
       "      <td>66</td>\n",
       "      <td>141</td>\n",
       "      <td>0.468</td>\n",
       "      <td>4</td>\n",
       "      <td>15</td>\n",
       "      <td>0.266667</td>\n",
       "      <td>...</td>\n",
       "      <td>26</td>\n",
       "      <td>30</td>\n",
       "      <td>122</td>\n",
       "      <td>171</td>\n",
       "      <td>0</td>\n",
       "      <td>0</td>\n",
       "      <td>0</td>\n",
       "      <td>0</td>\n",
       "      <td>1</td>\n",
       "      <td>0</td>\n",
       "    </tr>\n",
       "    <tr>\n",
       "      <th>1</th>\n",
       "      <td>20</td>\n",
       "      <td>81</td>\n",
       "      <td>20</td>\n",
       "      <td>1197</td>\n",
       "      <td>93</td>\n",
       "      <td>185</td>\n",
       "      <td>0.503</td>\n",
       "      <td>0</td>\n",
       "      <td>0</td>\n",
       "      <td>0.330976</td>\n",
       "      <td>...</td>\n",
       "      <td>57</td>\n",
       "      <td>71</td>\n",
       "      <td>203</td>\n",
       "      <td>265</td>\n",
       "      <td>0</td>\n",
       "      <td>0</td>\n",
       "      <td>0</td>\n",
       "      <td>0</td>\n",
       "      <td>0</td>\n",
       "      <td>0</td>\n",
       "    </tr>\n",
       "    <tr>\n",
       "      <th>2</th>\n",
       "      <td>27</td>\n",
       "      <td>53</td>\n",
       "      <td>12</td>\n",
       "      <td>961</td>\n",
       "      <td>143</td>\n",
       "      <td>275</td>\n",
       "      <td>0.520</td>\n",
       "      <td>0</td>\n",
       "      <td>0</td>\n",
       "      <td>0.330976</td>\n",
       "      <td>...</td>\n",
       "      <td>36</td>\n",
       "      <td>39</td>\n",
       "      <td>108</td>\n",
       "      <td>362</td>\n",
       "      <td>0</td>\n",
       "      <td>0</td>\n",
       "      <td>1</td>\n",
       "      <td>0</td>\n",
       "      <td>0</td>\n",
       "      <td>0</td>\n",
       "    </tr>\n",
       "    <tr>\n",
       "      <th>3</th>\n",
       "      <td>28</td>\n",
       "      <td>73</td>\n",
       "      <td>73</td>\n",
       "      <td>2552</td>\n",
       "      <td>464</td>\n",
       "      <td>1011</td>\n",
       "      <td>0.459</td>\n",
       "      <td>128</td>\n",
       "      <td>300</td>\n",
       "      <td>0.426667</td>\n",
       "      <td>...</td>\n",
       "      <td>3</td>\n",
       "      <td>146</td>\n",
       "      <td>136</td>\n",
       "      <td>1330</td>\n",
       "      <td>0</td>\n",
       "      <td>0</td>\n",
       "      <td>0</td>\n",
       "      <td>0</td>\n",
       "      <td>0</td>\n",
       "      <td>1</td>\n",
       "    </tr>\n",
       "    <tr>\n",
       "      <th>4</th>\n",
       "      <td>25</td>\n",
       "      <td>56</td>\n",
       "      <td>30</td>\n",
       "      <td>951</td>\n",
       "      <td>136</td>\n",
       "      <td>249</td>\n",
       "      <td>0.546</td>\n",
       "      <td>0</td>\n",
       "      <td>1</td>\n",
       "      <td>0.000000</td>\n",
       "      <td>...</td>\n",
       "      <td>46</td>\n",
       "      <td>63</td>\n",
       "      <td>187</td>\n",
       "      <td>328</td>\n",
       "      <td>0</td>\n",
       "      <td>0</td>\n",
       "      <td>0</td>\n",
       "      <td>0</td>\n",
       "      <td>0</td>\n",
       "      <td>0</td>\n",
       "    </tr>\n",
       "  </tbody>\n",
       "</table>\n",
       "<p>5 rows × 32 columns</p>\n",
       "</div>"
      ],
      "text/plain": [
       "   age   g  gs    mp   fg   fga    fg.  x3p  x3pa      x3p.  ...  blk  tov  \\\n",
       "0   23  63   0   847   66   141  0.468    4    15  0.266667  ...   26   30   \n",
       "1   20  81  20  1197   93   185  0.503    0     0  0.330976  ...   57   71   \n",
       "2   27  53  12   961  143   275  0.520    0     0  0.330976  ...   36   39   \n",
       "3   28  73  73  2552  464  1011  0.459  128   300  0.426667  ...    3  146   \n",
       "4   25  56  30   951  136   249  0.546    0     1  0.000000  ...   46   63   \n",
       "\n",
       "    pf   pts  pos_F  pos_G  pos_PF  pos_PG  pos_SF  pos_SG  \n",
       "0  122   171      0      0       0       0       1       0  \n",
       "1  203   265      0      0       0       0       0       0  \n",
       "2  108   362      0      0       1       0       0       0  \n",
       "3  136  1330      0      0       0       0       0       1  \n",
       "4  187   328      0      0       0       0       0       0  \n",
       "\n",
       "[5 rows x 32 columns]"
      ]
     },
     "execution_count": 23,
     "metadata": {},
     "output_type": "execute_result"
    }
   ],
   "source": [
    "data_nba.head()"
   ]
  },
  {
   "cell_type": "markdown",
   "metadata": {},
   "source": [
    "### Train and test data split"
   ]
  },
  {
   "cell_type": "code",
   "execution_count": 24,
   "metadata": {},
   "outputs": [],
   "source": [
    "X = data_nba.drop('pts',axis=1)\n",
    "y = data_nba['pts']"
   ]
  },
  {
   "cell_type": "code",
   "execution_count": 25,
   "metadata": {},
   "outputs": [],
   "source": [
    "from sklearn.model_selection import train_test_split\n",
    "\n",
    "X_train, X_test, y_train, y_test = train_test_split(X, y, test_size = 0.3, random_state = 0)"
   ]
  },
  {
   "cell_type": "markdown",
   "metadata": {},
   "source": [
    "### Model Training"
   ]
  },
  {
   "cell_type": "code",
   "execution_count": 26,
   "metadata": {},
   "outputs": [
    {
     "data": {
      "text/plain": [
       "KNeighborsRegressor()"
      ]
     },
     "execution_count": 26,
     "metadata": {},
     "output_type": "execute_result"
    }
   ],
   "source": [
    "from sklearn.neighbors import KNeighborsRegressor\n",
    "\n",
    "KNN_reg = KNeighborsRegressor()\n",
    "KNN_reg.fit(X_train, y_train)"
   ]
  },
  {
   "cell_type": "code",
   "execution_count": 27,
   "metadata": {},
   "outputs": [
    {
     "data": {
      "text/plain": [
       "0.9733831983576475"
      ]
     },
     "execution_count": 27,
     "metadata": {},
     "output_type": "execute_result"
    }
   ],
   "source": [
    "KNN_reg.score(X_test, y_test)"
   ]
  },
  {
   "cell_type": "code",
   "execution_count": 28,
   "metadata": {},
   "outputs": [],
   "source": [
    "y_predicted = KNN_reg.predict(X_test)"
   ]
  },
  {
   "cell_type": "markdown",
   "metadata": {},
   "source": [
    "### Model Evaluation"
   ]
  },
  {
   "cell_type": "code",
   "execution_count": 29,
   "metadata": {},
   "outputs": [
    {
     "name": "stdout",
     "output_type": "stream",
     "text": [
      "Mean-Squared-Error: 5096.4620689655185\n",
      "RMSE: 71.38950951621337\n"
     ]
    }
   ],
   "source": [
    "from sklearn.metrics import mean_squared_error\n",
    "\n",
    "print(\"Mean-Squared-Error: {}\".format(mean_squared_error(y_test, y_predicted)))\n",
    "print(\"RMSE: {}\".format(np.sqrt(mean_squared_error(y_test, y_predicted))))"
   ]
  },
  {
   "cell_type": "code",
   "execution_count": 36,
   "metadata": {
    "scrolled": true
   },
   "outputs": [
    {
     "name": "stdout",
     "output_type": "stream",
     "text": [
      "Actual: [436, 717, 1096, 19, 988, 416, 261, 703, 83, 25, 1134, 66, 99, 26, 472, 2089, 136, 16, 1249, 78, 202, 153, 856, 1070, 495, 143, 0, 1144, 1131, 944, 149, 477, 622, 213, 1021, 1930, 341, 0, 22, 32, 572, 485, 546, 15, 2, 265, 435, 97, 98, 73, 173, 696, 36, 929, 715, 25, 384, 0, 520, 124, 2, 417, 770, 346, 132, 760, 499, 43, 483, 178, 970, 12, 48, 40, 343, 73, 525, 197, 838, 891, 592, 895, 530, 1603, 0, 508, 100, 272, 303, 181, 701, 1304, 107, 510, 624, 225, 350, 761, 250, 779, 181, 1417, 1281, 1209, 781, 1289, 350, 603, 159, 404, 573, 174, 492, 511, 1068, 404, 1081, 315, 1047, 1583, 758, 115, 0, 1041, 248, 497, 200, 763, 878, 240, 908, 328, 791, 92, 270, 145, 1080, 1011, 401, 83, 1107, 35, 810, 796, 94]\n",
      " Vs\n",
      "Predicted: [316.6, 693.6, 1069.6, 11.8, 903.4, 435.0, 294.8, 668.8, 80.0, 21.0, 1056.8, 56.0, 77.4, 34.2, 418.6, 1787.0, 103.4, 11.2, 1287.8, 89.8, 241.2, 98.8, 1055.2, 1126.0, 565.8, 120.8, 1.8, 984.8, 1235.2, 796.0, 162.6, 420.6, 593.8, 331.6, 1004.4, 1696.6, 333.2, 6.2, 15.0, 31.6, 680.0, 424.0, 611.0, 12.8, 1.6, 296.4, 474.6, 69.4, 93.8, 64.4, 173.2, 604.0, 35.8, 944.0, 776.6, 28.0, 343.8, 0.6, 399.0, 156.8, 0.8, 460.2, 752.0, 361.6, 183.6, 789.2, 575.0, 39.4, 429.4, 173.2, 960.0, 6.0, 32.6, 39.2, 331.2, 95.8, 411.4, 204.0, 694.8, 916.0, 531.6, 941.4, 584.4, 1541.8, 3.4, 399.0, 103.4, 305.6, 374.2, 144.2, 659.8, 1406.4, 141.8, 615.4, 559.4, 205.4, 365.2, 676.4, 266.6, 804.6, 190.8, 1350.6, 1134.8, 1074.4, 1082.0, 1404.8, 374.2, 567.6, 131.0, 342.4, 536.4, 183.8, 546.4, 550.8, 1081.6, 353.2, 1186.8, 339.4, 1110.8, 1692.2, 776.8, 103.6, 0.6, 963.6, 302.8, 420.8, 191.0, 646.8, 826.6, 241.0, 883.8, 361.2, 819.4, 81.8, 244.2, 103.4, 1192.2, 1105.2, 456.4, 68.4, 1139.6, 24.4, 830.0, 778.4, 82.4]\n"
     ]
    }
   ],
   "source": [
    "print(\"Actual: {}\\n Vs\\nPredicted: {}\".format(y_test.tolist(), y_predicted.tolist()))"
   ]
  },
  {
   "cell_type": "code",
   "execution_count": 37,
   "metadata": {},
   "outputs": [
    {
     "data": {
      "text/html": [
       "<div>\n",
       "<style scoped>\n",
       "    .dataframe tbody tr th:only-of-type {\n",
       "        vertical-align: middle;\n",
       "    }\n",
       "\n",
       "    .dataframe tbody tr th {\n",
       "        vertical-align: top;\n",
       "    }\n",
       "\n",
       "    .dataframe thead th {\n",
       "        text-align: right;\n",
       "    }\n",
       "</style>\n",
       "<table border=\"1\" class=\"dataframe\">\n",
       "  <thead>\n",
       "    <tr style=\"text-align: right;\">\n",
       "      <th></th>\n",
       "      <th>Original Pts</th>\n",
       "      <th>Predicted pts</th>\n",
       "    </tr>\n",
       "  </thead>\n",
       "  <tbody>\n",
       "    <tr>\n",
       "      <th>0</th>\n",
       "      <td>436</td>\n",
       "      <td>316.6</td>\n",
       "    </tr>\n",
       "    <tr>\n",
       "      <th>1</th>\n",
       "      <td>717</td>\n",
       "      <td>693.6</td>\n",
       "    </tr>\n",
       "    <tr>\n",
       "      <th>2</th>\n",
       "      <td>1096</td>\n",
       "      <td>1069.6</td>\n",
       "    </tr>\n",
       "    <tr>\n",
       "      <th>3</th>\n",
       "      <td>19</td>\n",
       "      <td>11.8</td>\n",
       "    </tr>\n",
       "    <tr>\n",
       "      <th>4</th>\n",
       "      <td>988</td>\n",
       "      <td>903.4</td>\n",
       "    </tr>\n",
       "    <tr>\n",
       "      <th>...</th>\n",
       "      <td>...</td>\n",
       "      <td>...</td>\n",
       "    </tr>\n",
       "    <tr>\n",
       "      <th>140</th>\n",
       "      <td>1107</td>\n",
       "      <td>1139.6</td>\n",
       "    </tr>\n",
       "    <tr>\n",
       "      <th>141</th>\n",
       "      <td>35</td>\n",
       "      <td>24.4</td>\n",
       "    </tr>\n",
       "    <tr>\n",
       "      <th>142</th>\n",
       "      <td>810</td>\n",
       "      <td>830.0</td>\n",
       "    </tr>\n",
       "    <tr>\n",
       "      <th>143</th>\n",
       "      <td>796</td>\n",
       "      <td>778.4</td>\n",
       "    </tr>\n",
       "    <tr>\n",
       "      <th>144</th>\n",
       "      <td>94</td>\n",
       "      <td>82.4</td>\n",
       "    </tr>\n",
       "  </tbody>\n",
       "</table>\n",
       "<p>145 rows × 2 columns</p>\n",
       "</div>"
      ],
      "text/plain": [
       "     Original Pts  Predicted pts\n",
       "0             436          316.6\n",
       "1             717          693.6\n",
       "2            1096         1069.6\n",
       "3              19           11.8\n",
       "4             988          903.4\n",
       "..            ...            ...\n",
       "140          1107         1139.6\n",
       "141            35           24.4\n",
       "142           810          830.0\n",
       "143           796          778.4\n",
       "144            94           82.4\n",
       "\n",
       "[145 rows x 2 columns]"
      ]
     },
     "execution_count": 37,
     "metadata": {},
     "output_type": "execute_result"
    }
   ],
   "source": [
    "pd.DataFrame({\"Original Pts\":y_test.tolist(), \"Predicted pts\":y_predicted.tolist()})"
   ]
  },
  {
   "cell_type": "markdown",
   "metadata": {},
   "source": [
    "### Standardization"
   ]
  },
  {
   "cell_type": "code",
   "execution_count": 38,
   "metadata": {},
   "outputs": [],
   "source": [
    "from sklearn.preprocessing import StandardScaler\n",
    "\n",
    "scaler = StandardScaler()\n",
    "X_scaled = scaler.fit_transform(X)"
   ]
  },
  {
   "cell_type": "code",
   "execution_count": 39,
   "metadata": {},
   "outputs": [],
   "source": [
    "X_train, X_test, y_train, y_test = train_test_split(X_scaled, y, test_size = 0.3, random_state = 0)"
   ]
  },
  {
   "cell_type": "code",
   "execution_count": 40,
   "metadata": {},
   "outputs": [
    {
     "data": {
      "text/plain": [
       "KNeighborsRegressor()"
      ]
     },
     "execution_count": 40,
     "metadata": {},
     "output_type": "execute_result"
    }
   ],
   "source": [
    "KNN_reg = KNeighborsRegressor()\n",
    "KNN_reg.fit(X_train, y_train)"
   ]
  },
  {
   "cell_type": "code",
   "execution_count": 41,
   "metadata": {},
   "outputs": [
    {
     "data": {
      "text/plain": [
       "0.9467938265502702"
      ]
     },
     "execution_count": 41,
     "metadata": {},
     "output_type": "execute_result"
    }
   ],
   "source": [
    "KNN_reg.score(X_test, y_test)"
   ]
  },
  {
   "cell_type": "code",
   "execution_count": 42,
   "metadata": {},
   "outputs": [],
   "source": [
    "y_predicted_new = KNN_reg.predict(X_test)"
   ]
  },
  {
   "cell_type": "code",
   "execution_count": 45,
   "metadata": {},
   "outputs": [
    {
     "name": "stdout",
     "output_type": "stream",
     "text": [
      "Mean-Squared-Error: 10187.672\n",
      "RMSE: 100.93399823647134\n"
     ]
    }
   ],
   "source": [
    "print(\"Mean-Squared-Error: {}\".format(mean_squared_error(y_test, y_predicted_new)))\n",
    "print(\"RMSE: {}\".format(np.sqrt(mean_squared_error(y_test, y_predicted_new))))"
   ]
  },
  {
   "cell_type": "code",
   "execution_count": 43,
   "metadata": {},
   "outputs": [
    {
     "data": {
      "text/html": [
       "<div>\n",
       "<style scoped>\n",
       "    .dataframe tbody tr th:only-of-type {\n",
       "        vertical-align: middle;\n",
       "    }\n",
       "\n",
       "    .dataframe tbody tr th {\n",
       "        vertical-align: top;\n",
       "    }\n",
       "\n",
       "    .dataframe thead th {\n",
       "        text-align: right;\n",
       "    }\n",
       "</style>\n",
       "<table border=\"1\" class=\"dataframe\">\n",
       "  <thead>\n",
       "    <tr style=\"text-align: right;\">\n",
       "      <th></th>\n",
       "      <th>Original Pts</th>\n",
       "      <th>Predicted pts</th>\n",
       "    </tr>\n",
       "  </thead>\n",
       "  <tbody>\n",
       "    <tr>\n",
       "      <th>0</th>\n",
       "      <td>436</td>\n",
       "      <td>274.4</td>\n",
       "    </tr>\n",
       "    <tr>\n",
       "      <th>1</th>\n",
       "      <td>717</td>\n",
       "      <td>682.0</td>\n",
       "    </tr>\n",
       "    <tr>\n",
       "      <th>2</th>\n",
       "      <td>1096</td>\n",
       "      <td>1003.4</td>\n",
       "    </tr>\n",
       "    <tr>\n",
       "      <th>3</th>\n",
       "      <td>19</td>\n",
       "      <td>40.2</td>\n",
       "    </tr>\n",
       "    <tr>\n",
       "      <th>4</th>\n",
       "      <td>988</td>\n",
       "      <td>1176.0</td>\n",
       "    </tr>\n",
       "    <tr>\n",
       "      <th>...</th>\n",
       "      <td>...</td>\n",
       "      <td>...</td>\n",
       "    </tr>\n",
       "    <tr>\n",
       "      <th>140</th>\n",
       "      <td>1107</td>\n",
       "      <td>971.4</td>\n",
       "    </tr>\n",
       "    <tr>\n",
       "      <th>141</th>\n",
       "      <td>35</td>\n",
       "      <td>53.4</td>\n",
       "    </tr>\n",
       "    <tr>\n",
       "      <th>142</th>\n",
       "      <td>810</td>\n",
       "      <td>754.4</td>\n",
       "    </tr>\n",
       "    <tr>\n",
       "      <th>143</th>\n",
       "      <td>796</td>\n",
       "      <td>807.6</td>\n",
       "    </tr>\n",
       "    <tr>\n",
       "      <th>144</th>\n",
       "      <td>94</td>\n",
       "      <td>62.6</td>\n",
       "    </tr>\n",
       "  </tbody>\n",
       "</table>\n",
       "<p>145 rows × 2 columns</p>\n",
       "</div>"
      ],
      "text/plain": [
       "     Original Pts  Predicted pts\n",
       "0             436          274.4\n",
       "1             717          682.0\n",
       "2            1096         1003.4\n",
       "3              19           40.2\n",
       "4             988         1176.0\n",
       "..            ...            ...\n",
       "140          1107          971.4\n",
       "141            35           53.4\n",
       "142           810          754.4\n",
       "143           796          807.6\n",
       "144            94           62.6\n",
       "\n",
       "[145 rows x 2 columns]"
      ]
     },
     "execution_count": 43,
     "metadata": {},
     "output_type": "execute_result"
    }
   ],
   "source": [
    "pd.DataFrame({\"Original Pts\":y_test.tolist(), \"Predicted pts\":y_predicted_new.tolist()})"
   ]
  },
  {
   "cell_type": "markdown",
   "metadata": {},
   "source": [
    "### Hyperparameter Tuning"
   ]
  },
  {
   "cell_type": "code",
   "execution_count": 50,
   "metadata": {},
   "outputs": [],
   "source": [
    "params = {'leaf_size':list(range(1,50)), 'n_neighbors':list(range(1,30)),'p':[1,2]}"
   ]
  },
  {
   "cell_type": "code",
   "execution_count": 51,
   "metadata": {},
   "outputs": [
    {
     "data": {
      "text/plain": [
       "GridSearchCV(cv=10, estimator=KNeighborsRegressor(),\n",
       "             param_grid={'leaf_size': [1, 2, 3, 4, 5, 6, 7, 8, 9, 10, 11, 12,\n",
       "                                       13, 14, 15, 16, 17, 18, 19, 20, 21, 22,\n",
       "                                       23, 24, 25, 26, 27, 28, 29, 30, ...],\n",
       "                         'n_neighbors': [1, 2, 3, 4, 5, 6, 7, 8, 9, 10, 11, 12,\n",
       "                                         13, 14, 15, 16, 17, 18, 19, 20, 21, 22,\n",
       "                                         23, 24, 25, 26, 27, 28, 29],\n",
       "                         'p': [1, 2]})"
      ]
     },
     "execution_count": 51,
     "metadata": {},
     "output_type": "execute_result"
    }
   ],
   "source": [
    "from sklearn.model_selection import GridSearchCV\n",
    "\n",
    "grid_search = GridSearchCV(KNN_reg, params, cv=10)\n",
    "grid_search.fit(X_train, y_train)"
   ]
  },
  {
   "cell_type": "code",
   "execution_count": 52,
   "metadata": {},
   "outputs": [
    {
     "data": {
      "text/plain": [
       "{'leaf_size': 1, 'n_neighbors': 4, 'p': 1}"
      ]
     },
     "execution_count": 52,
     "metadata": {},
     "output_type": "execute_result"
    }
   ],
   "source": [
    "grid_search.best_params_"
   ]
  },
  {
   "cell_type": "code",
   "execution_count": 54,
   "metadata": {},
   "outputs": [
    {
     "data": {
      "text/plain": [
       "KNeighborsRegressor(leaf_size=1, n_neighbors=4, p=1)"
      ]
     },
     "execution_count": 54,
     "metadata": {},
     "output_type": "execute_result"
    }
   ],
   "source": [
    "KNN_reg_hyper = KNeighborsRegressor(leaf_size=1, n_neighbors=4, p=1)\n",
    "KNN_reg_hyper.fit(X_train, y_train)"
   ]
  },
  {
   "cell_type": "code",
   "execution_count": 55,
   "metadata": {},
   "outputs": [
    {
     "data": {
      "text/plain": [
       "0.9643530081620013"
      ]
     },
     "execution_count": 55,
     "metadata": {},
     "output_type": "execute_result"
    }
   ],
   "source": [
    "KNN_reg_hyper.score(X_test, y_test)"
   ]
  },
  {
   "cell_type": "code",
   "execution_count": 56,
   "metadata": {},
   "outputs": [],
   "source": [
    "y_predicted_hyper = KNN_reg_hyper.predict(X_test)"
   ]
  },
  {
   "cell_type": "code",
   "execution_count": 57,
   "metadata": {},
   "outputs": [
    {
     "name": "stdout",
     "output_type": "stream",
     "text": [
      "Mean-Squared-Error: 6825.521120689656\n",
      "RMSE: 82.61671211498104\n"
     ]
    }
   ],
   "source": [
    "print(\"Mean-Squared-Error: {}\".format(mean_squared_error(y_test, y_predicted_hyper)))\n",
    "print(\"RMSE: {}\".format(np.sqrt(mean_squared_error(y_test, y_predicted_hyper))))"
   ]
  },
  {
   "cell_type": "code",
   "execution_count": 58,
   "metadata": {},
   "outputs": [
    {
     "data": {
      "text/html": [
       "<div>\n",
       "<style scoped>\n",
       "    .dataframe tbody tr th:only-of-type {\n",
       "        vertical-align: middle;\n",
       "    }\n",
       "\n",
       "    .dataframe tbody tr th {\n",
       "        vertical-align: top;\n",
       "    }\n",
       "\n",
       "    .dataframe thead th {\n",
       "        text-align: right;\n",
       "    }\n",
       "</style>\n",
       "<table border=\"1\" class=\"dataframe\">\n",
       "  <thead>\n",
       "    <tr style=\"text-align: right;\">\n",
       "      <th></th>\n",
       "      <th>Original Pts</th>\n",
       "      <th>Predicted pts</th>\n",
       "    </tr>\n",
       "  </thead>\n",
       "  <tbody>\n",
       "    <tr>\n",
       "      <th>0</th>\n",
       "      <td>436</td>\n",
       "      <td>291.50</td>\n",
       "    </tr>\n",
       "    <tr>\n",
       "      <th>1</th>\n",
       "      <td>717</td>\n",
       "      <td>647.25</td>\n",
       "    </tr>\n",
       "    <tr>\n",
       "      <th>2</th>\n",
       "      <td>1096</td>\n",
       "      <td>987.00</td>\n",
       "    </tr>\n",
       "    <tr>\n",
       "      <th>3</th>\n",
       "      <td>19</td>\n",
       "      <td>26.25</td>\n",
       "    </tr>\n",
       "    <tr>\n",
       "      <th>4</th>\n",
       "      <td>988</td>\n",
       "      <td>1145.75</td>\n",
       "    </tr>\n",
       "    <tr>\n",
       "      <th>...</th>\n",
       "      <td>...</td>\n",
       "      <td>...</td>\n",
       "    </tr>\n",
       "    <tr>\n",
       "      <th>140</th>\n",
       "      <td>1107</td>\n",
       "      <td>966.75</td>\n",
       "    </tr>\n",
       "    <tr>\n",
       "      <th>141</th>\n",
       "      <td>35</td>\n",
       "      <td>43.50</td>\n",
       "    </tr>\n",
       "    <tr>\n",
       "      <th>142</th>\n",
       "      <td>810</td>\n",
       "      <td>777.50</td>\n",
       "    </tr>\n",
       "    <tr>\n",
       "      <th>143</th>\n",
       "      <td>796</td>\n",
       "      <td>794.50</td>\n",
       "    </tr>\n",
       "    <tr>\n",
       "      <th>144</th>\n",
       "      <td>94</td>\n",
       "      <td>87.75</td>\n",
       "    </tr>\n",
       "  </tbody>\n",
       "</table>\n",
       "<p>145 rows × 2 columns</p>\n",
       "</div>"
      ],
      "text/plain": [
       "     Original Pts  Predicted pts\n",
       "0             436         291.50\n",
       "1             717         647.25\n",
       "2            1096         987.00\n",
       "3              19          26.25\n",
       "4             988        1145.75\n",
       "..            ...            ...\n",
       "140          1107         966.75\n",
       "141            35          43.50\n",
       "142           810         777.50\n",
       "143           796         794.50\n",
       "144            94          87.75\n",
       "\n",
       "[145 rows x 2 columns]"
      ]
     },
     "execution_count": 58,
     "metadata": {},
     "output_type": "execute_result"
    }
   ],
   "source": [
    "pd.DataFrame({\"Original Pts\":y_test.tolist(), \"Predicted pts\":y_predicted_hyper.tolist()})"
   ]
  },
  {
   "cell_type": "code",
   "execution_count": null,
   "metadata": {},
   "outputs": [],
   "source": []
  }
 ],
 "metadata": {
  "kernelspec": {
   "display_name": "Python 3",
   "language": "python",
   "name": "python3"
  },
  "language_info": {
   "codemirror_mode": {
    "name": "ipython",
    "version": 3
   },
   "file_extension": ".py",
   "mimetype": "text/x-python",
   "name": "python",
   "nbconvert_exporter": "python",
   "pygments_lexer": "ipython3",
   "version": "3.8.5"
  },
  "toc": {
   "base_numbering": 1,
   "nav_menu": {},
   "number_sections": true,
   "sideBar": true,
   "skip_h1_title": false,
   "title_cell": "Table of Contents",
   "title_sidebar": "Contents",
   "toc_cell": false,
   "toc_position": {},
   "toc_section_display": true,
   "toc_window_display": false
  },
  "varInspector": {
   "cols": {
    "lenName": 16,
    "lenType": 16,
    "lenVar": 40
   },
   "kernels_config": {
    "python": {
     "delete_cmd_postfix": "",
     "delete_cmd_prefix": "del ",
     "library": "var_list.py",
     "varRefreshCmd": "print(var_dic_list())"
    },
    "r": {
     "delete_cmd_postfix": ") ",
     "delete_cmd_prefix": "rm(",
     "library": "var_list.r",
     "varRefreshCmd": "cat(var_dic_list()) "
    }
   },
   "types_to_exclude": [
    "module",
    "function",
    "builtin_function_or_method",
    "instance",
    "_Feature"
   ],
   "window_display": false
  }
 },
 "nbformat": 4,
 "nbformat_minor": 4
}
