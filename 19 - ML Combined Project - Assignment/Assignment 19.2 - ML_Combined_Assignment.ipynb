{
 "cells": [
  {
   "cell_type": "code",
   "execution_count": 11,
   "id": "3f923a0a",
   "metadata": {},
   "outputs": [],
   "source": [
    "from bs4 import BeautifulSoup\n",
    "import urllib.request\n",
    "import nltk\n",
    "import re , requests\n",
    "from nltk.corpus import stopwords\n",
    "import string"
   ]
  },
  {
   "cell_type": "code",
   "execution_count": 2,
   "id": "146b3314",
   "metadata": {},
   "outputs": [],
   "source": [
    "response = urllib.request.urlopen('https://en.wikipedia.org/wiki/Cricket')\n",
    "html = response.read()\n",
    "soup = BeautifulSoup(html, \"html5lib\").get_text()"
   ]
  },
  {
   "cell_type": "code",
   "execution_count": 12,
   "id": "b57b90b2",
   "metadata": {},
   "outputs": [],
   "source": [
    "remove_punctuation = dict((ord(punct), None) for punct in string.punctuation)"
   ]
  },
  {
   "cell_type": "code",
   "execution_count": 14,
   "id": "9e5e983e",
   "metadata": {},
   "outputs": [],
   "source": [
    "words_tokens = nltk.word_tokenize(soup)"
   ]
  },
  {
   "cell_type": "code",
   "execution_count": 15,
   "id": "593fb74b",
   "metadata": {},
   "outputs": [],
   "source": [
    "tokens_without_sw = [word for word in words_tokens if not word in stopwords.words('english')]"
   ]
  },
  {
   "cell_type": "code",
   "execution_count": 16,
   "id": "f5cb05be",
   "metadata": {},
   "outputs": [
    {
     "name": "stdout",
     "output_type": "stream",
     "text": [
      ".; 892\n",
      ",; 802\n",
      "''; 716\n",
      "); 352\n",
      "(; 350\n",
      ":; 341\n",
      "``; 242\n",
      "[; 212\n",
      "]; 212\n",
      "Cricket; 187\n",
      "cricket; 187\n",
      ";; 171\n",
      "The; 154\n",
      "^; 149\n",
      "{; 129\n",
      "}; 129\n",
      ".mw-parser-output; 109\n",
      "'s; 107\n",
      "2017; 95\n",
      "ball; 88\n",
      "July; 83\n",
      "Retrieved; 79\n",
      "Laws; 68\n",
      "ICC; 56\n",
      "team; 48\n",
      "Women; 47\n",
      "batsman; 47\n",
      "A; 46\n",
      "match; 46\n",
      "Test; 44\n"
     ]
    }
   ],
   "source": [
    "words = [word for word in tokens_without_sw if len(word) > 1]\n",
    "words = [word for word in tokens_without_sw if not word.isnumeric()]\n",
    "\n",
    "# Lowercase all words (default_stopwords are lowercase too)\n",
    "\n",
    "words = [word.lower() for word in tokens_without_sw]\n",
    "\n",
    "# Calculating frequency distribution\n",
    "\n",
    "fdist = nltk.FreqDist(tokens_without_sw)\n",
    "\n",
    "# Printing the top 30 words with their frequency\n",
    "\n",
    "for word, frequency in fdist.most_common(30):\n",
    "    print(u'{}; {}'.format(word, frequency))"
   ]
  },
  {
   "cell_type": "code",
   "execution_count": null,
   "id": "ccfb8cb2",
   "metadata": {},
   "outputs": [],
   "source": []
  }
 ],
 "metadata": {
  "kernelspec": {
   "display_name": "Python 3",
   "language": "python",
   "name": "python3"
  },
  "language_info": {
   "codemirror_mode": {
    "name": "ipython",
    "version": 3
   },
   "file_extension": ".py",
   "mimetype": "text/x-python",
   "name": "python",
   "nbconvert_exporter": "python",
   "pygments_lexer": "ipython3",
   "version": "3.9.4"
  },
  "toc": {
   "base_numbering": 1,
   "nav_menu": {},
   "number_sections": true,
   "sideBar": true,
   "skip_h1_title": false,
   "title_cell": "Table of Contents",
   "title_sidebar": "Contents",
   "toc_cell": false,
   "toc_position": {},
   "toc_section_display": true,
   "toc_window_display": false
  },
  "varInspector": {
   "cols": {
    "lenName": 16,
    "lenType": 16,
    "lenVar": 40
   },
   "kernels_config": {
    "python": {
     "delete_cmd_postfix": "",
     "delete_cmd_prefix": "del ",
     "library": "var_list.py",
     "varRefreshCmd": "print(var_dic_list())"
    },
    "r": {
     "delete_cmd_postfix": ") ",
     "delete_cmd_prefix": "rm(",
     "library": "var_list.r",
     "varRefreshCmd": "cat(var_dic_list()) "
    }
   },
   "types_to_exclude": [
    "module",
    "function",
    "builtin_function_or_method",
    "instance",
    "_Feature"
   ],
   "window_display": false
  }
 },
 "nbformat": 4,
 "nbformat_minor": 5
}
