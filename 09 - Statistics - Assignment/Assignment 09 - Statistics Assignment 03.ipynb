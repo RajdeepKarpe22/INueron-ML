{
 "cells": [
  {
   "cell_type": "markdown",
   "id": "10e31eeb",
   "metadata": {},
   "source": [
    "__Problem Statement 1:__<br>\n",
    "Blood glucose levels for obese patients have a mean of 100 with a standard deviation of\n",
    "15. A researcher thinks that a diet high in raw cornstarch will have a positive effect on\n",
    "blood glucose levels. A sample of 36 patients who have tried the raw cornstarch diet\n",
    "have a mean glucose level of 108. Test the hypothesis that the raw cornstarch had an\n",
    "effect or not."
   ]
  },
  {
   "cell_type": "code",
   "execution_count": 1,
   "id": "90aa8d66",
   "metadata": {},
   "outputs": [],
   "source": [
    "import numpy as np"
   ]
  },
  {
   "cell_type": "code",
   "execution_count": 2,
   "id": "c27ad3cb",
   "metadata": {},
   "outputs": [
    {
     "name": "stdout",
     "output_type": "stream",
     "text": [
      "Z-score: 3.2\n"
     ]
    },
    {
     "data": {
      "text/plain": [
       "'\\n1. Considering alpha value as 0.05 i.e confidence interval of 95% we can check the z-table for\\n    value of 3.2.\\n2. This comes out to be 0.9993. This means the probability of having a mean less than 108 is 0.9993\\n    and probability of having mean greater than or equal to 0.0007\\n3. Since probability of having mean glucose level more than 108 is 0.0007 which is less than 0.005\\n    we can reject the null hypthesis.\\n4. In other way, if we calculate the area covered by z-value i.e 1+C.I/2 = 0.975. The z-score\\n    for area 0.975 is +-1.96. Since the Z-score is 3.2 which is greater than 1.96 we can reject the \\n    null hypothesis.\\n'"
      ]
     },
     "execution_count": 2,
     "metadata": {},
     "output_type": "execute_result"
    }
   ],
   "source": [
    "\"\"\"\n",
    "H0 = Raw cornstarch had no effect. u = 100\n",
    "H1 = Raw constarch had effect.     u != 100\n",
    "\n",
    "As number of samples is greater than 30 we us z-test to test the hypothesis\n",
    "\"\"\"\n",
    "pop_mean = 100\n",
    "pop_std = 15\n",
    "n = 36\n",
    "\n",
    "sample_mean = 108\n",
    "\n",
    "standard_error = pop_std/np.sqrt(n)\n",
    "\n",
    "z_score = (sample_mean - pop_mean)/standard_error\n",
    "\n",
    "print(\"Z-score: {}\".format(z_score))\n",
    "\n",
    "'''\n",
    "1. Considering alpha value as 0.05 i.e confidence interval of 95% we can check the z-table for\n",
    "    value of 3.2.\n",
    "2. This comes out to be 0.9993. This means the probability of having a mean less than 108 is 0.9993\n",
    "    and probability of having mean greater than or equal to 0.0007\n",
    "3. Since probability of having mean glucose level more than 108 is 0.0007 which is less than 0.005\n",
    "    we can reject the null hypthesis.\n",
    "4. In other way, if we calculate the area covered by z-value i.e 1+C.I/2 = 0.975. The z-score\n",
    "    for area 0.975 is +-1.96. Since the Z-score is 3.2 which is greater than 1.96 we can reject the \n",
    "    null hypothesis.\n",
    "'''\n"
   ]
  },
  {
   "cell_type": "markdown",
   "id": "9156f868",
   "metadata": {},
   "source": [
    "__Problem Statement 2:__<br>\n",
    "In one state, 52% of the voters are Republicans, and 48% are Democrats. In a second state, 47% of the voters are Republicans, and 53% are Democrats. Suppose a simple random sample of 100 voters are surveyed from each state. What is the probability that the survey will show a greater percentage of Republican voters in the second state than in the first state?"
   ]
  },
  {
   "cell_type": "code",
   "execution_count": 3,
   "id": "8ac31c2b",
   "metadata": {},
   "outputs": [
    {
     "name": "stdout",
     "output_type": "stream",
     "text": [
      "Z-score:-0.7079568397357494\n"
     ]
    },
    {
     "data": {
      "text/plain": [
       "'\\nFor Z-score of -0.71  the area in the z table is 0.24\\n\\nThis means that the probability that the survey will show a greater \\npercentage of Republican voters in the second state than in the first state is 0.24.\\n'"
      ]
     },
     "execution_count": 3,
     "metadata": {},
     "output_type": "execute_result"
    }
   ],
   "source": [
    "n1 = 100\n",
    "n2 = 100\n",
    "\n",
    "repub_1 = 0.52\n",
    "democ_1 = 0.48\n",
    "repub_2 = 0.47\n",
    "democ_2 = 0.53\n",
    "\n",
    "mu = repub_1 - repub_2\n",
    "\n",
    "std = np.sqrt(((repub_1*repub_2)/n1) +((democ_1*democ_2)/n2))\n",
    "\n",
    "x = 0\n",
    "z_score = (x-mu)/std\n",
    "\n",
    "print(\"Z-score:{}\".format(z_score))\n",
    "\n",
    "\"\"\"\n",
    "For Z-score of -0.71  the area in the z table is 0.24\n",
    "\n",
    "This means that the probability that the survey will show a greater \n",
    "percentage of Republican voters in the second state than in the first state is 0.24.\n",
    "\"\"\""
   ]
  },
  {
   "cell_type": "markdown",
   "id": "e57fce39",
   "metadata": {},
   "source": [
    "__Problem Statement 3:__<br>\n",
    "You take the SAT and score 1100. The mean score for the SAT is 1026 and the standard deviation is 209. How well did you score on the test compared to the average test taker?"
   ]
  },
  {
   "cell_type": "code",
   "execution_count": 4,
   "id": "ff168652",
   "metadata": {},
   "outputs": [
    {
     "name": "stdout",
     "output_type": "stream",
     "text": [
      "Z-score: 0.35406698564593303\n"
     ]
    },
    {
     "data": {
      "text/plain": [
       "'\\n1. This implies that my score was 0.354 std above the mean.\\n2. The area value for this score is 0.6368. This means that I did well than 63.68% people\\nin the SATs\\n'"
      ]
     },
     "execution_count": 4,
     "metadata": {},
     "output_type": "execute_result"
    }
   ],
   "source": [
    "mean = 1026\n",
    "std = 209\n",
    "x = 1100\n",
    "\n",
    "z_score = (x-mean)/std\n",
    "print(\"Z-score: {}\".format(z_score))\n",
    "\n",
    "\"\"\"\n",
    "1. This implies that my score was 0.354 std above the mean.\n",
    "2. The area value for this score is 0.6368. This means that I did well than 63.68% people\n",
    "in the SATs\n",
    "\"\"\""
   ]
  },
  {
   "cell_type": "code",
   "execution_count": null,
   "id": "6b04c7ff",
   "metadata": {},
   "outputs": [],
   "source": []
  }
 ],
 "metadata": {
  "kernelspec": {
   "display_name": "Python 3",
   "language": "python",
   "name": "python3"
  },
  "language_info": {
   "codemirror_mode": {
    "name": "ipython",
    "version": 3
   },
   "file_extension": ".py",
   "mimetype": "text/x-python",
   "name": "python",
   "nbconvert_exporter": "python",
   "pygments_lexer": "ipython3",
   "version": "3.9.4"
  },
  "toc": {
   "base_numbering": 1,
   "nav_menu": {},
   "number_sections": true,
   "sideBar": true,
   "skip_h1_title": false,
   "title_cell": "Table of Contents",
   "title_sidebar": "Contents",
   "toc_cell": false,
   "toc_position": {},
   "toc_section_display": true,
   "toc_window_display": false
  },
  "varInspector": {
   "cols": {
    "lenName": 16,
    "lenType": 16,
    "lenVar": 40
   },
   "kernels_config": {
    "python": {
     "delete_cmd_postfix": "",
     "delete_cmd_prefix": "del ",
     "library": "var_list.py",
     "varRefreshCmd": "print(var_dic_list())"
    },
    "r": {
     "delete_cmd_postfix": ") ",
     "delete_cmd_prefix": "rm(",
     "library": "var_list.r",
     "varRefreshCmd": "cat(var_dic_list()) "
    }
   },
   "types_to_exclude": [
    "module",
    "function",
    "builtin_function_or_method",
    "instance",
    "_Feature"
   ],
   "window_display": false
  }
 },
 "nbformat": 4,
 "nbformat_minor": 5
}
