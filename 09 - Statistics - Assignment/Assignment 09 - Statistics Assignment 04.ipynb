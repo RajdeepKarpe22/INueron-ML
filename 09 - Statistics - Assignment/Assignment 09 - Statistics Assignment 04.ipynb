{
 "cells": [
  {
   "cell_type": "markdown",
   "id": "7812c2c1",
   "metadata": {},
   "source": [
    "__Problem Statement:1__<br>\n",
    "Is gender independent of education level? A random sample of 395 people were\n",
    "surveyed and each person was asked to report the highest education level they\n",
    "obtained. The data that resulted from the survey is summarized in the following table:<br>\n",
    "\n",
    "Question: Are gender and education level dependent at 5% level of significance? In\n",
    "other words, given the data collected above, is there a relationship between the\n",
    "gender of an individual and the level of education that they have obtained?\n",
    "<table>\n",
    "    <thead>\n",
    "        <th>Gender<th>\n",
    "        <th>High School</th>\n",
    "        <th>Bachelors</th>\n",
    "        <th>Masters</th>\n",
    "        <th>Ph.d</th>\n",
    "        <th>Total</th>\n",
    "    </thead>\n",
    "    <tbody>\n",
    "        <tr>\n",
    "            <td>Female<td>\n",
    "            <td>60 </td>\n",
    "            <td>54 </td>\n",
    "            <td>46 </td>\n",
    "            <td>41 </td>\n",
    "            <td>201 </td>\n",
    "         </tr>\n",
    "        <tr>\n",
    "            <td>Male<td>\n",
    "            <td>40 </td>\n",
    "            <td>44 </td>\n",
    "            <td>53 </td>\n",
    "            <td>57 </td>\n",
    "            <td>194 </td>\n",
    "         </tr>\n",
    "        <tr>\n",
    "            <td>Total<td>\n",
    "            <td>100 </td>\n",
    "            <td>98 </td>\n",
    "            <td>99 </td>\n",
    "            <td>98 </td>\n",
    "            <td>395 </td>\n",
    "         </tr>\n",
    "     </tbody>\n"
   ]
  },
  {
   "cell_type": "code",
   "execution_count": 1,
   "id": "3a56031e",
   "metadata": {},
   "outputs": [],
   "source": [
    "import pandas as pd\n",
    "import numpy as np"
   ]
  },
  {
   "cell_type": "code",
   "execution_count": 2,
   "id": "99e0fe87",
   "metadata": {},
   "outputs": [],
   "source": [
    "female_list = [60,54,46,41]\n",
    "male_list = [40,44,53,57]\n",
    "\n",
    "number_of_indiv = male_list + female_list\n",
    "sex =  ['Male','Male','Male','Male','Female','Female','Female','Female']\n",
    "edu = ['High School', 'Bachelors', 'Masters', 'Ph.d.','High School', 'Bachelors', 'Masters', 'Ph.d.']\n",
    "data = pd.DataFrame({\"Sex\":sex,\"Edu\":edu,\"No_of_People\":number_of_indiv})"
   ]
  },
  {
   "cell_type": "code",
   "execution_count": 3,
   "id": "c5c1fe2e",
   "metadata": {},
   "outputs": [
    {
     "data": {
      "text/html": [
       "<div>\n",
       "<style scoped>\n",
       "    .dataframe tbody tr th:only-of-type {\n",
       "        vertical-align: middle;\n",
       "    }\n",
       "\n",
       "    .dataframe tbody tr th {\n",
       "        vertical-align: top;\n",
       "    }\n",
       "\n",
       "    .dataframe thead th {\n",
       "        text-align: right;\n",
       "    }\n",
       "</style>\n",
       "<table border=\"1\" class=\"dataframe\">\n",
       "  <thead>\n",
       "    <tr style=\"text-align: right;\">\n",
       "      <th></th>\n",
       "      <th>Sex</th>\n",
       "      <th>Edu</th>\n",
       "      <th>No_of_People</th>\n",
       "    </tr>\n",
       "  </thead>\n",
       "  <tbody>\n",
       "    <tr>\n",
       "      <th>0</th>\n",
       "      <td>Male</td>\n",
       "      <td>High School</td>\n",
       "      <td>40</td>\n",
       "    </tr>\n",
       "    <tr>\n",
       "      <th>1</th>\n",
       "      <td>Male</td>\n",
       "      <td>Bachelors</td>\n",
       "      <td>44</td>\n",
       "    </tr>\n",
       "    <tr>\n",
       "      <th>2</th>\n",
       "      <td>Male</td>\n",
       "      <td>Masters</td>\n",
       "      <td>53</td>\n",
       "    </tr>\n",
       "    <tr>\n",
       "      <th>3</th>\n",
       "      <td>Male</td>\n",
       "      <td>Ph.d.</td>\n",
       "      <td>57</td>\n",
       "    </tr>\n",
       "    <tr>\n",
       "      <th>4</th>\n",
       "      <td>Female</td>\n",
       "      <td>High School</td>\n",
       "      <td>60</td>\n",
       "    </tr>\n",
       "    <tr>\n",
       "      <th>5</th>\n",
       "      <td>Female</td>\n",
       "      <td>Bachelors</td>\n",
       "      <td>54</td>\n",
       "    </tr>\n",
       "    <tr>\n",
       "      <th>6</th>\n",
       "      <td>Female</td>\n",
       "      <td>Masters</td>\n",
       "      <td>46</td>\n",
       "    </tr>\n",
       "    <tr>\n",
       "      <th>7</th>\n",
       "      <td>Female</td>\n",
       "      <td>Ph.d.</td>\n",
       "      <td>41</td>\n",
       "    </tr>\n",
       "  </tbody>\n",
       "</table>\n",
       "</div>"
      ],
      "text/plain": [
       "      Sex          Edu  No_of_People\n",
       "0    Male  High School            40\n",
       "1    Male    Bachelors            44\n",
       "2    Male      Masters            53\n",
       "3    Male        Ph.d.            57\n",
       "4  Female  High School            60\n",
       "5  Female    Bachelors            54\n",
       "6  Female      Masters            46\n",
       "7  Female        Ph.d.            41"
      ]
     },
     "execution_count": 3,
     "metadata": {},
     "output_type": "execute_result"
    }
   ],
   "source": [
    "data"
   ]
  },
  {
   "cell_type": "code",
   "execution_count": 4,
   "id": "5135163a",
   "metadata": {},
   "outputs": [
    {
     "data": {
      "text/html": [
       "<div>\n",
       "<style scoped>\n",
       "    .dataframe tbody tr th:only-of-type {\n",
       "        vertical-align: middle;\n",
       "    }\n",
       "\n",
       "    .dataframe tbody tr th {\n",
       "        vertical-align: top;\n",
       "    }\n",
       "\n",
       "    .dataframe thead th {\n",
       "        text-align: right;\n",
       "    }\n",
       "</style>\n",
       "<table border=\"1\" class=\"dataframe\">\n",
       "  <thead>\n",
       "    <tr style=\"text-align: right;\">\n",
       "      <th>Edu</th>\n",
       "      <th>Bachelors</th>\n",
       "      <th>High School</th>\n",
       "      <th>Masters</th>\n",
       "      <th>Ph.d.</th>\n",
       "      <th>All</th>\n",
       "    </tr>\n",
       "    <tr>\n",
       "      <th>Sex</th>\n",
       "      <th></th>\n",
       "      <th></th>\n",
       "      <th></th>\n",
       "      <th></th>\n",
       "      <th></th>\n",
       "    </tr>\n",
       "  </thead>\n",
       "  <tbody>\n",
       "    <tr>\n",
       "      <th>Female</th>\n",
       "      <td>1</td>\n",
       "      <td>1</td>\n",
       "      <td>1</td>\n",
       "      <td>1</td>\n",
       "      <td>4</td>\n",
       "    </tr>\n",
       "    <tr>\n",
       "      <th>Male</th>\n",
       "      <td>1</td>\n",
       "      <td>1</td>\n",
       "      <td>1</td>\n",
       "      <td>1</td>\n",
       "      <td>4</td>\n",
       "    </tr>\n",
       "    <tr>\n",
       "      <th>All</th>\n",
       "      <td>2</td>\n",
       "      <td>2</td>\n",
       "      <td>2</td>\n",
       "      <td>2</td>\n",
       "      <td>8</td>\n",
       "    </tr>\n",
       "  </tbody>\n",
       "</table>\n",
       "</div>"
      ],
      "text/plain": [
       "Edu     Bachelors  High School  Masters  Ph.d.  All\n",
       "Sex                                                \n",
       "Female          1            1        1      1    4\n",
       "Male            1            1        1      1    4\n",
       "All             2            2        2      2    8"
      ]
     },
     "execution_count": 4,
     "metadata": {},
     "output_type": "execute_result"
    }
   ],
   "source": [
    "cross_tab = pd.crosstab(data.Sex, data.Edu,margins=True)\n",
    "cross_tab"
   ]
  },
  {
   "cell_type": "code",
   "execution_count": 5,
   "id": "2779e955",
   "metadata": {},
   "outputs": [
    {
     "data": {
      "text/html": [
       "<div>\n",
       "<style scoped>\n",
       "    .dataframe tbody tr th:only-of-type {\n",
       "        vertical-align: middle;\n",
       "    }\n",
       "\n",
       "    .dataframe tbody tr th {\n",
       "        vertical-align: top;\n",
       "    }\n",
       "\n",
       "    .dataframe thead th {\n",
       "        text-align: right;\n",
       "    }\n",
       "</style>\n",
       "<table border=\"1\" class=\"dataframe\">\n",
       "  <thead>\n",
       "    <tr style=\"text-align: right;\">\n",
       "      <th></th>\n",
       "      <th>Bachelors</th>\n",
       "      <th>High School</th>\n",
       "      <th>Masters</th>\n",
       "      <th>Ph.d.</th>\n",
       "      <th>Total_People</th>\n",
       "    </tr>\n",
       "  </thead>\n",
       "  <tbody>\n",
       "    <tr>\n",
       "      <th>Female</th>\n",
       "      <td>54</td>\n",
       "      <td>60</td>\n",
       "      <td>46</td>\n",
       "      <td>41</td>\n",
       "      <td>201</td>\n",
       "    </tr>\n",
       "    <tr>\n",
       "      <th>Male</th>\n",
       "      <td>44</td>\n",
       "      <td>40</td>\n",
       "      <td>53</td>\n",
       "      <td>57</td>\n",
       "      <td>194</td>\n",
       "    </tr>\n",
       "    <tr>\n",
       "      <th>Total_columns</th>\n",
       "      <td>98</td>\n",
       "      <td>100</td>\n",
       "      <td>99</td>\n",
       "      <td>98</td>\n",
       "      <td>395</td>\n",
       "    </tr>\n",
       "  </tbody>\n",
       "</table>\n",
       "</div>"
      ],
      "text/plain": [
       "               Bachelors  High School  Masters  Ph.d.  Total_People\n",
       "Female                54           60       46     41           201\n",
       "Male                  44           40       53     57           194\n",
       "Total_columns         98          100       99     98           395"
      ]
     },
     "execution_count": 5,
     "metadata": {},
     "output_type": "execute_result"
    }
   ],
   "source": [
    "\n",
    "data_new = pd.crosstab(data.Sex, data.Edu,data.No_of_People, aggfunc=\"sum\",margins=True)\n",
    "\n",
    "data_new.columns = [\"Bachelors\",\"High School\",\"Masters\",\"Ph.d.\",\"Total_People\"]\n",
    "\n",
    "data_new.index = [\"Female\",\"Male\",\"Total_columns\"]\n",
    "\n",
    "data_new"
   ]
  },
  {
   "cell_type": "code",
   "execution_count": 20,
   "id": "bc54558b",
   "metadata": {},
   "outputs": [],
   "source": [
    "data_observed = data_new.iloc[:2,:-1]"
   ]
  },
  {
   "cell_type": "code",
   "execution_count": 21,
   "id": "9943334a",
   "metadata": {},
   "outputs": [
    {
     "data": {
      "text/html": [
       "<div>\n",
       "<style scoped>\n",
       "    .dataframe tbody tr th:only-of-type {\n",
       "        vertical-align: middle;\n",
       "    }\n",
       "\n",
       "    .dataframe tbody tr th {\n",
       "        vertical-align: top;\n",
       "    }\n",
       "\n",
       "    .dataframe thead th {\n",
       "        text-align: right;\n",
       "    }\n",
       "</style>\n",
       "<table border=\"1\" class=\"dataframe\">\n",
       "  <thead>\n",
       "    <tr style=\"text-align: right;\">\n",
       "      <th></th>\n",
       "      <th>Bachelors</th>\n",
       "      <th>High School</th>\n",
       "      <th>Masters</th>\n",
       "      <th>Ph.d.</th>\n",
       "    </tr>\n",
       "  </thead>\n",
       "  <tbody>\n",
       "    <tr>\n",
       "      <th>Female</th>\n",
       "      <td>54</td>\n",
       "      <td>60</td>\n",
       "      <td>46</td>\n",
       "      <td>41</td>\n",
       "    </tr>\n",
       "    <tr>\n",
       "      <th>Male</th>\n",
       "      <td>44</td>\n",
       "      <td>40</td>\n",
       "      <td>53</td>\n",
       "      <td>57</td>\n",
       "    </tr>\n",
       "  </tbody>\n",
       "</table>\n",
       "</div>"
      ],
      "text/plain": [
       "        Bachelors  High School  Masters  Ph.d.\n",
       "Female         54           60       46     41\n",
       "Male           44           40       53     57"
      ]
     },
     "execution_count": 21,
     "metadata": {},
     "output_type": "execute_result"
    }
   ],
   "source": [
    "data_observed"
   ]
  },
  {
   "cell_type": "markdown",
   "id": "759f944c",
   "metadata": {},
   "source": [
    "As Gender and Education are both categorical variables, to check the correlation between two\n",
    "categorical variables we can use Chi-squared test.<br>\n",
    "\n",
    "Here,<br>\n",
    "H0 = There is no dependency between gender and education. They are independent<br>\n",
    "H1 = There is a dependency between gender and education.\n",
    "\n",
    "Chi-squared test statistic - <math xmlns=\"http://www.w3.org/1998/Math/MathML\">\n",
    "  <msup>\n",
    "    <mi>&#x3C7;</mi>\n",
    "    <mn>2</mn>\n",
    "  </msup>\n",
    "  <mo>=</mo>\n",
    "  <mo data-mjx-texclass=\"OP\">&#x2211;</mo>\n",
    "  <mo stretchy=\"false\">(</mo>\n",
    "  <mi>O</mi>\n",
    "  <mo>&#x2212;</mo>\n",
    "  <mi>E</mi>\n",
    "  <msup>\n",
    "    <mo stretchy=\"false\">)</mo>\n",
    "    <mn>2</mn>\n",
    "  </msup>\n",
    "  <mrow data-mjx-texclass=\"ORD\">\n",
    "    <mo>/</mo>\n",
    "  </mrow>\n",
    "  <mi>E</mi>\n",
    "</math>\n",
    "<br>\n",
    "where,<br> \n",
    "O is observed data,<br>\n",
    "E is expected frequency under null hypothesis<br>\n",
    "E = (row total x column total)/sample size"
   ]
  },
  {
   "cell_type": "code",
   "execution_count": 22,
   "id": "cf81b7ca",
   "metadata": {},
   "outputs": [],
   "source": [
    "data_expected = np.outer(data_new['Total_People'][0:2],data_new.loc['Total_columns'][0:4])/395.0"
   ]
  },
  {
   "cell_type": "code",
   "execution_count": 23,
   "id": "c0767879",
   "metadata": {},
   "outputs": [
    {
     "data": {
      "text/plain": [
       "array([[49.86835443, 50.88607595, 50.37721519, 49.86835443],\n",
       "       [48.13164557, 49.11392405, 48.62278481, 48.13164557]])"
      ]
     },
     "execution_count": 23,
     "metadata": {},
     "output_type": "execute_result"
    }
   ],
   "source": [
    "data_expected"
   ]
  },
  {
   "cell_type": "code",
   "execution_count": 24,
   "id": "5dc1a4b4",
   "metadata": {},
   "outputs": [
    {
     "data": {
      "text/html": [
       "<div>\n",
       "<style scoped>\n",
       "    .dataframe tbody tr th:only-of-type {\n",
       "        vertical-align: middle;\n",
       "    }\n",
       "\n",
       "    .dataframe tbody tr th {\n",
       "        vertical-align: top;\n",
       "    }\n",
       "\n",
       "    .dataframe thead th {\n",
       "        text-align: right;\n",
       "    }\n",
       "</style>\n",
       "<table border=\"1\" class=\"dataframe\">\n",
       "  <thead>\n",
       "    <tr style=\"text-align: right;\">\n",
       "      <th></th>\n",
       "      <th>Bachelors</th>\n",
       "      <th>High School</th>\n",
       "      <th>Masters</th>\n",
       "      <th>Ph.d.</th>\n",
       "    </tr>\n",
       "  </thead>\n",
       "  <tbody>\n",
       "    <tr>\n",
       "      <th>Female</th>\n",
       "      <td>49.868354</td>\n",
       "      <td>50.886076</td>\n",
       "      <td>50.377215</td>\n",
       "      <td>49.868354</td>\n",
       "    </tr>\n",
       "    <tr>\n",
       "      <th>Male</th>\n",
       "      <td>48.131646</td>\n",
       "      <td>49.113924</td>\n",
       "      <td>48.622785</td>\n",
       "      <td>48.131646</td>\n",
       "    </tr>\n",
       "  </tbody>\n",
       "</table>\n",
       "</div>"
      ],
      "text/plain": [
       "        Bachelors  High School    Masters      Ph.d.\n",
       "Female  49.868354    50.886076  50.377215  49.868354\n",
       "Male    48.131646    49.113924  48.622785  48.131646"
      ]
     },
     "execution_count": 24,
     "metadata": {},
     "output_type": "execute_result"
    }
   ],
   "source": [
    "data_expected = pd.DataFrame(data_expected)\n",
    "data_expected.columns= [\"Bachelors\",\"High School\",\"Masters\",\"Ph.d.\"]\n",
    "data_expected.index = [\"Female\",\"Male\"]\n",
    "data_expected"
   ]
  },
  {
   "cell_type": "code",
   "execution_count": 34,
   "id": "2d103158",
   "metadata": {},
   "outputs": [
    {
     "name": "stdout",
     "output_type": "stream",
     "text": [
      "8.006066246262538\n"
     ]
    }
   ],
   "source": [
    "chi_square_test = (((data_observed-data_expected)**2)/data_expected).sum().sum()\n",
    "print(chi_square_test)"
   ]
  },
  {
   "cell_type": "markdown",
   "id": "92eef3e9",
   "metadata": {},
   "source": [
    "sum().sum() is used to get column sums and then add these sum together."
   ]
  },
  {
   "cell_type": "markdown",
   "id": "f5b28021",
   "metadata": {},
   "source": [
    "Degree of freedom for test of independence  = number of categories in each feature - 1. In the above \n",
    "scenario it is 2-1, 4-1 = 1,3"
   ]
  },
  {
   "cell_type": "code",
   "execution_count": 39,
   "id": "94702ce0",
   "metadata": {},
   "outputs": [
    {
     "name": "stdout",
     "output_type": "stream",
     "text": [
      "Critical Value: 7.814727903251179\n",
      "P-Value: 0.04588650089174717\n"
     ]
    }
   ],
   "source": [
    "import scipy.stats as stats\n",
    "\n",
    "critical_value = stats.chi2.ppf(q=0.95, df = 3)\n",
    "\n",
    "print(\"Critical Value: {}\".format(critical_value))\n",
    "\n",
    "pvalue = 1 - stats.chi2.cdf(x=chi_square_test, df=3) \n",
    "print(\"P-Value: {}\".format(pvalue))"
   ]
  },
  {
   "cell_type": "markdown",
   "id": "e3812b7b",
   "metadata": {},
   "source": [
    "As critical value(7.8147) < 8.0060 and P-value(0.045) < 0.05, we have enough evidence to reject the null hypothesis.<br>\n",
    "We can say that there is a dependency between gender and education."
   ]
  },
  {
   "cell_type": "markdown",
   "id": "39da5d76",
   "metadata": {},
   "source": [
    "__Problem Statement 2:__<br>\n",
    "Using the following data, perform a oneway analysis of variance using α=.05. Write up the results in APA format.\n",
    "\n",
    "[Group1: 51, 45, 33, 45, 67]<br> [Group2: 23, 43, 23, 43, 45]<br> [Group3: 56, 76, 74, 87, 56]"
   ]
  },
  {
   "cell_type": "markdown",
   "id": "632284b9",
   "metadata": {},
   "source": [
    "We use ANOVA when independent variable is categorical and dependent variable is continuous. We can<br> compare multiple groups at the same time. We can compare if the mean of some numerical<br>\n",
    "features change for one categorical feature."
   ]
  },
  {
   "cell_type": "code",
   "execution_count": 40,
   "id": "ae47aa42",
   "metadata": {},
   "outputs": [],
   "source": [
    "Group1 = [51, 45, 33, 45, 67]\n",
    "Group2 = [23, 43, 23, 43, 45]\n",
    "Group3 = [56, 76, 74, 87, 56]"
   ]
  },
  {
   "cell_type": "code",
   "execution_count": 42,
   "id": "636f3cfb",
   "metadata": {},
   "outputs": [
    {
     "data": {
      "text/plain": [
       "35.4"
      ]
     },
     "execution_count": 42,
     "metadata": {},
     "output_type": "execute_result"
    }
   ],
   "source": [
    "mean_group1 = np.mean(Group1)\n",
    "mean_group2 = np.mean(Group2)\n",
    "mean_group3 = np.mean(Group3)\n",
    "\n"
   ]
  },
  {
   "cell_type": "code",
   "execution_count": null,
   "id": "754b7a03",
   "metadata": {},
   "outputs": [],
   "source": []
  }
 ],
 "metadata": {
  "kernelspec": {
   "display_name": "Python 3",
   "language": "python",
   "name": "python3"
  },
  "language_info": {
   "codemirror_mode": {
    "name": "ipython",
    "version": 3
   },
   "file_extension": ".py",
   "mimetype": "text/x-python",
   "name": "python",
   "nbconvert_exporter": "python",
   "pygments_lexer": "ipython3",
   "version": "3.9.4"
  },
  "toc": {
   "base_numbering": 1,
   "nav_menu": {},
   "number_sections": true,
   "sideBar": true,
   "skip_h1_title": false,
   "title_cell": "Table of Contents",
   "title_sidebar": "Contents",
   "toc_cell": false,
   "toc_position": {},
   "toc_section_display": true,
   "toc_window_display": false
  },
  "varInspector": {
   "cols": {
    "lenName": 16,
    "lenType": 16,
    "lenVar": 40
   },
   "kernels_config": {
    "python": {
     "delete_cmd_postfix": "",
     "delete_cmd_prefix": "del ",
     "library": "var_list.py",
     "varRefreshCmd": "print(var_dic_list())"
    },
    "r": {
     "delete_cmd_postfix": ") ",
     "delete_cmd_prefix": "rm(",
     "library": "var_list.r",
     "varRefreshCmd": "cat(var_dic_list()) "
    }
   },
   "types_to_exclude": [
    "module",
    "function",
    "builtin_function_or_method",
    "instance",
    "_Feature"
   ],
   "window_display": false
  }
 },
 "nbformat": 4,
 "nbformat_minor": 5
}
