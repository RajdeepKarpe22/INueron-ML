{
 "cells": [
  {
   "cell_type": "markdown",
   "id": "0032c69c",
   "metadata": {},
   "source": [
    "__Problem Statement 1:__<br>\n",
    "The marks awarded for an assignment set for a Year 8 class of 20 students were as<br>\n",
    "follows:<br>\n",
    "6 7 5 7 7 8 7 6 9 7 4 10 6 8 8 9 5 6 4 8"
   ]
  },
  {
   "cell_type": "code",
   "execution_count": 1,
   "id": "0254de27",
   "metadata": {
    "ExecuteTime": {
     "end_time": "2021-05-19T10:11:08.386822Z",
     "start_time": "2021-05-19T10:11:08.371860Z"
    }
   },
   "outputs": [],
   "source": [
    "import numpy as np\n",
    "import statistics"
   ]
  },
  {
   "cell_type": "code",
   "execution_count": 2,
   "id": "da52bde8",
   "metadata": {
    "ExecuteTime": {
     "end_time": "2021-05-19T10:11:10.130106Z",
     "start_time": "2021-05-19T10:11:10.123122Z"
    }
   },
   "outputs": [],
   "source": [
    "def stats(value):\n",
    "    print(\"The mean is {}\".format(np.mean(value)))\n",
    "    print(\"The median is {}\".format(np.median(value)))\n",
    "    print(\"The mode is {}\".format(statistics.mode(value)))\n",
    "    print(\"The standard Deviation is {}\".format(np.std(value)))"
   ]
  },
  {
   "cell_type": "code",
   "execution_count": 3,
   "id": "528e5abd",
   "metadata": {},
   "outputs": [],
   "source": [
    "marks = [6,7,5,7,7,8,7,6,9,7,4,10,6,8,8,9,5,6,4,8]"
   ]
  },
  {
   "cell_type": "code",
   "execution_count": 4,
   "id": "6fc792c2",
   "metadata": {
    "ExecuteTime": {
     "end_time": "2021-05-19T10:11:22.170669Z",
     "start_time": "2021-05-19T10:11:22.155709Z"
    }
   },
   "outputs": [
    {
     "name": "stdout",
     "output_type": "stream",
     "text": [
      "The mean is 6.85\n",
      "The median is 7.0\n",
      "The mode is 7\n",
      "The standard Deviation is 1.5898113095584647\n"
     ]
    }
   ],
   "source": [
    "stats(marks)"
   ]
  },
  {
   "cell_type": "markdown",
   "id": "b7cd4489",
   "metadata": {},
   "source": [
    "__Problem Statement 2:__<br>\n",
    "The number of calls from motorists per day for roadside service was recorded for a<br>\n",
    "particular month:<br>\n",
    "28, 122, 217, 130, 120, 86, 80, 90, 140, 120, 70, 40, 145, 113, 90, 68, 174, 194, 170,<br>\n",
    "100, 75, 104, 97, 75, 123, 100, 75, 104, 97, 75, 123, 100, 89, 120, 109"
   ]
  },
  {
   "cell_type": "code",
   "execution_count": 5,
   "id": "dc2c82ed",
   "metadata": {
    "ExecuteTime": {
     "end_time": "2021-05-19T10:11:29.992193Z",
     "start_time": "2021-05-19T10:11:29.987205Z"
    }
   },
   "outputs": [],
   "source": [
    "number_of_calls = [28, 122, 217, 130, 120, 86, 80, 90, 140, 120, 70, 40, 145, 113, 90, 68, 174, 194, 170,\n",
    "100, 75, 104, 97, 75, 123, 100, 75, 104, 97, 75, 123, 100, 89, 120, 109]"
   ]
  },
  {
   "cell_type": "code",
   "execution_count": 6,
   "id": "162d6b75",
   "metadata": {
    "ExecuteTime": {
     "end_time": "2021-05-19T10:11:30.614359Z",
     "start_time": "2021-05-19T10:11:30.603391Z"
    }
   },
   "outputs": [
    {
     "name": "stdout",
     "output_type": "stream",
     "text": [
      "The mean is 107.51428571428572\n",
      "The median is 100.0\n",
      "The mode is 75\n",
      "The standard Deviation is 38.77287080168403\n"
     ]
    }
   ],
   "source": [
    "stats(number_of_calls)"
   ]
  },
  {
   "cell_type": "markdown",
   "id": "1efe3fc7",
   "metadata": {},
   "source": [
    "__Problem Statement 3:__<br>\n",
    "The number of times I go to the gym in weekdays, are given below along with its<br>\n",
    "associated probability:<br>\n",
    "x = 0, 1, 2, 3, 4, 5<br>\n",
    "f(x) = 0.09, 0.15, 0.40, 0.25, 0.10, 0.01<br>\n",
    "Calculate the mean no. of workouts in a week. Also evaluate the variance involved in it."
   ]
  },
  {
   "cell_type": "code",
   "execution_count": 7,
   "id": "fb620325",
   "metadata": {},
   "outputs": [],
   "source": [
    "x = np.asarray([0,1,2,3,4,5])\n",
    "fx = np.array([0.09,0.15,0.40,0.25,0.10,0.01])"
   ]
  },
  {
   "cell_type": "code",
   "execution_count": 8,
   "id": "6aea718e",
   "metadata": {},
   "outputs": [
    {
     "name": "stdout",
     "output_type": "stream",
     "text": [
      "Mean number of workouts in a week: 2.15\n",
      "Variance in number of workouts in a week: 1.2275\n"
     ]
    }
   ],
   "source": [
    "x.reshape(1,-1)\n",
    "fx.reshape(-1,1)\n",
    "mean = np.dot(x,fx)\n",
    "variance_x = (x - mean)**2\n",
    "variance = np.dot(variance_x.reshape(1,-1),fx)\n",
    "\n",
    "print(\"Mean number of workouts in a week: {}\".format(mean))\n",
    "print(\"Variance in number of workouts in a week: {}\".format(variance[0]))"
   ]
  },
  {
   "cell_type": "code",
   "execution_count": 9,
   "id": "aadee003",
   "metadata": {},
   "outputs": [
    {
     "data": {
      "text/plain": [
       "2.15"
      ]
     },
     "execution_count": 9,
     "metadata": {},
     "output_type": "execute_result"
    }
   ],
   "source": [
    "mean"
   ]
  },
  {
   "cell_type": "code",
   "execution_count": 10,
   "id": "de003a53",
   "metadata": {},
   "outputs": [
    {
     "data": {
      "text/plain": [
       "array([1.2275])"
      ]
     },
     "execution_count": 10,
     "metadata": {},
     "output_type": "execute_result"
    }
   ],
   "source": [
    "variance"
   ]
  },
  {
   "cell_type": "markdown",
   "id": "42d777ca",
   "metadata": {},
   "source": [
    "__Problem Statement 4:__<br>\n",
    "Let the continuous random variable D denote the diameter of the hole drilled in an aluminum sheet. The target diameter to be <br>achieved is 12.5mm. Random disturbances in the process often result in inaccuracy. Historical data shows that the <br>distribution of D can be modelled by the PDF (d) = 20e−20(d−12.5), d ≥ 12.5. If a part with diameter > 12.6 mm needs to be<br> scrapped,\n",
    "what is the proportion of those parts? What is the CDF when the diameter is of 11mm? What is your conclusion regarding the proportion of scraps?"
   ]
  },
  {
   "cell_type": "code",
   "execution_count": 11,
   "id": "9714423c",
   "metadata": {},
   "outputs": [],
   "source": [
    "from scipy import integrate"
   ]
  },
  {
   "cell_type": "code",
   "execution_count": 12,
   "id": "aea5f28e",
   "metadata": {},
   "outputs": [
    {
     "name": "stdout",
     "output_type": "stream",
     "text": [
      "Proportion of parts needed to be scrapped when diameter > 12.6 mm : 0.13533528323661398\n",
      "CDF when diameter > 11 mm :inf\n",
      "CDF when diameter > 12.5 mm :1.0000000000000024\n"
     ]
    },
    {
     "name": "stderr",
     "output_type": "stream",
     "text": [
      "<ipython-input-12-5b622105108a>:1: RuntimeWarning: overflow encountered in exp\n",
      "  PDF = lambda d: 20*(np.exp(-20*(d-12.5)))\n"
     ]
    },
    {
     "data": {
      "text/plain": [
       "'\\nConclusion:\\n\\n1. The conclusion can be made that the function will not work if diamater is less than 12.5mm.\\n2. This means it is only valid for d > 12.5 mm as we know PDF -inf ∫ inf f(x)dx = 1.\\n3. Any negative value or 0 can change the function hence it will not work for values less that 12.5mm\\n\\n'"
      ]
     },
     "execution_count": 12,
     "metadata": {},
     "output_type": "execute_result"
    }
   ],
   "source": [
    "PDF = lambda d: 20*(np.exp(-20*(d-12.5)))\n",
    "\n",
    "a = 12.6 \n",
    "b = np.inf\n",
    "\n",
    "proportion_x = integrate.quad(PDF, a, b)\n",
    "\n",
    "c = 11\n",
    "\n",
    "CDF = integrate.quad(PDF, -b, c)\n",
    "\n",
    "CDF_greater = integrate.quad(PDF, 12.5, b)\n",
    "\n",
    "print(\"Proportion of parts needed to be scrapped when diameter > 12.6 mm : {}\".format(proportion_x[0]))\n",
    "print(\"CDF when diameter > 11 mm :{}\".format(CDF[0]))\n",
    "print(\"CDF when diameter > 12.5 mm :{}\".format(CDF_greater[0]))\n",
    "\n",
    "\n",
    "\"\"\"\n",
    "Conclusion:\n",
    "\n",
    "1. The conclusion can be made that the function will not work if diamater is less than 12.5mm.\n",
    "2. This means it is only valid for d > 12.5 mm as we know PDF -inf ∫ inf f(x)dx = 1.\n",
    "3. Any negative value or 0 can change the function hence it will not work for values less that 12.5mm\n",
    "\n",
    "\"\"\""
   ]
  },
  {
   "cell_type": "markdown",
   "id": "d8ffed7f",
   "metadata": {},
   "source": [
    "__Problem Statement 5:__\n",
    "\n",
    "A company manufactures LED bulbs with a faulty rate of 30%. If I randomly select 6 chosen LEDs, what is the probability of<br> having 2 faulty LEDs in my sample? Calculate the average value of this process. Also evaluate the standard deviation<br>\n",
    "associated with it."
   ]
  },
  {
   "cell_type": "code",
   "execution_count": 13,
   "id": "2fff88ec",
   "metadata": {},
   "outputs": [
    {
     "name": "stdout",
     "output_type": "stream",
     "text": [
      "Probability of 2 Faulty from 6 is 0.3241349999999999:\n",
      "-----------------------------------------------------------------------------------------\n",
      "USING SCIPY\n",
      "r 0 \t probability(Faulty) 0.117649\n",
      "r 1 \t probability(Faulty) 0.3025260000000001\n",
      "r 2 \t probability(Faulty) 0.3241349999999999\n",
      "r 3 \t probability(Faulty) 0.18521999999999994\n",
      "r 4 \t probability(Faulty) 0.05953499999999996\n",
      "r 5 \t probability(Faulty) 0.010206\n",
      "r 6 \t probability(Faulty) 0.0007289999999999992\n",
      "\n",
      "\n",
      "Mean: 1.7999999999999998\n",
      "Variance: 1.2599999999999998\n",
      "Standard Deviation: 1.1224972160321822\n",
      "Probability of having 2 faulty LEDs in 6 is : 0.3241349999999999\n"
     ]
    },
    {
     "name": "stderr",
     "output_type": "stream",
     "text": [
      "C:\\Users\\prati\\Anaconda3\\envs\\global_env\\lib\\site-packages\\seaborn\\_decorators.py:36: FutureWarning: Pass the following variables as keyword args: x, y. From version 0.12, the only valid positional argument will be `data`, and passing other arguments without an explicit keyword will result in an error or misinterpretation.\n",
      "  warnings.warn(\n"
     ]
    },
    {
     "data": {
      "text/plain": [
       "Text(0, 0.5, 'Probability of Faulty LEDs')"
      ]
     },
     "execution_count": 13,
     "metadata": {},
     "output_type": "execute_result"
    },
    {
     "data": {
      "image/png": "[encoded data removed]",
      "text/plain": [
       "<Figure size 1008x432 with 1 Axes>"
      ]
     },
     "metadata": {
      "needs_background": "light"
     },
     "output_type": "display_data"
    }
   ],
   "source": [
    "import matplotlib.pyplot as plt\n",
    "import seaborn as sns\n",
    "%matplotlib inline\n",
    "import pandas as pd\n",
    "import math\n",
    "\n",
    "faulty = 0.3\n",
    "not_faulty = 0.7\n",
    "\n",
    "n = 6\n",
    "r = 2\n",
    "\n",
    "# Traditional way with formula\n",
    "\n",
    "probability_faulty = ((math.factorial(n))/(math.factorial(r)*math.factorial(n-r)))*(faulty)**r*(not_faulty)**(n-r) \n",
    "\n",
    "print(\"Probability of 2 Faulty from 6 is {}:\".format(probability_faulty))\n",
    "\n",
    "print(\"-----------------------------------------------------------------------------------------\")\n",
    "\n",
    "print(\"USING SCIPY\")\n",
    "#Using scipy\n",
    "\n",
    "from scipy.stats import binom\n",
    "\n",
    "r_values = list(range(n+1))\n",
    "\n",
    "mean, var = binom.stats(n,faulty)\n",
    "std = np.sqrt(var)\n",
    "\n",
    "# Probability values for each value of r\n",
    "\n",
    "pmf_values = [binom.pmf(r, n, faulty) for r in r_values]\n",
    "\n",
    "for i in range(n+1):\n",
    "    print(\"r {} \\t probability(Faulty) {}\".format(r_values[i], pmf_values[i]))\n",
    "\n",
    "print(\"\\n\")\n",
    "print(\"Mean: {}\".format(mean))\n",
    "print(\"Variance: {}\".format(var))\n",
    "print(\"Standard Deviation: {}\".format(std))\n",
    "\n",
    "print(\"Probability of having 2 faulty LEDs in 6 is : {}\".format(pmf_values[2]))\n",
    "\n",
    "\n",
    "# Graphical Representation\n",
    "data = pd.DataFrame({'r':[i for i in range(n+1)],\"Probability\":[i for i in pmf_values]})\n",
    "plt.figure(figsize=(14,6))\n",
    "sns.barplot('r','Probability',data=data)\n",
    "plt.xlabel('Number of Faulty Leds')\n",
    "plt.ylabel('Probability of Faulty LEDs')"
   ]
  },
  {
   "cell_type": "markdown",
   "id": "ea8a9b6a",
   "metadata": {},
   "source": [
    "__Problem Statement 6:__<br>\n",
    "Gaurav and Barakha are both preparing for entrance exams. Gaurav attempts to solve 8 questions per day with a correction rate<br> of 75%, while Barakha averages around 12 questions per day with a correction rate of 45%. What is the probability that<br> each of them will solve 5 questions correctly? What happens in cases of 4 and 6 correct solutions? What do you infer<br> from it? What are the two main governing factors affecting their ability to solve questions correctly? Give a pictorial representation of the same to validate your answer."
   ]
  },
  {
   "cell_type": "code",
   "execution_count": 14,
   "id": "cace568a",
   "metadata": {},
   "outputs": [
    {
     "name": "stdout",
     "output_type": "stream",
     "text": [
      "Probability of Gaurav and barkha solving 5 questions correctly is: 0.04619989057299213 \n",
      "Probability of Gaurav and barkha solving 4 and 6 questions resp. correctly is: 0.018374956477894576 \n"
     ]
    },
    {
     "data": {
      "text/plain": [
       "'\\nInferences:\\nGaurav and Barkha is less likely to make mistakes if they combinely solve problems. \\n'"
      ]
     },
     "execution_count": 14,
     "metadata": {},
     "output_type": "execute_result"
    }
   ],
   "source": [
    "prob_five_gaurav = binom.pmf(5, 8, 0.75)\n",
    "prob_five_barkha = binom.pmf(5, 12, 0.45)\n",
    "\n",
    "prob_both_solve_five = prob_five_gaurav * prob_five_barkha\n",
    "\n",
    "prob_gaurav_four = binom.pmf(4, 8, 0.75)\n",
    "prob_barkha_six = binom.pmf(6, 12, 0.45)\n",
    "\n",
    "prob_four_and_six = prob_gaurav_four * prob_barkha_six\n",
    "\n",
    "print(\"Probability of Gaurav and barkha solving 5 questions correctly is: {} \".format(prob_both_solve_five))\n",
    "print(\"Probability of Gaurav and barkha solving 4 and 6 questions resp. correctly is: {} \".format(prob_four_and_six))\n",
    "\n",
    "\"\"\"\n",
    "Inferences:\n",
    "Gaurav and Barkha is less likely to make mistakes if they combinely solve problems. \n",
    "\"\"\""
   ]
  },
  {
   "cell_type": "code",
   "execution_count": 15,
   "id": "a1118549",
   "metadata": {},
   "outputs": [],
   "source": [
    "def plot(n, p):\n",
    "    fig, ax = plt.subplots(1,1)\n",
    "    \n",
    "    x = np.arange(binom.ppf(0.01, n, p), binom.ppf(0.99, n, p))\n",
    "    ax.plot(x, binom.pmf(x, n, p), 'ro', ms=8, label = \"Binomial PMF\")\n",
    "    ax.vlines(x, 0, binom.pmf(x, n, p), colors='b', lw=5, alpha=0.5)"
   ]
  },
  {
   "cell_type": "code",
   "execution_count": 16,
   "id": "069ed977",
   "metadata": {
    "scrolled": true
   },
   "outputs": [
    {
     "data": {
      "image/png": "[encoded data removed]",
      "text/plain": [
       "<Figure size 432x288 with 1 Axes>"
      ]
     },
     "metadata": {
      "needs_background": "light"
     },
     "output_type": "display_data"
    }
   ],
   "source": [
    "# For Gaurav\n",
    "plot(8,0.75)"
   ]
  },
  {
   "cell_type": "code",
   "execution_count": 17,
   "id": "d8dc059c",
   "metadata": {},
   "outputs": [
    {
     "data": {
      "image/png": "[encoded data removed]",
      "text/plain": [
       "<Figure size 432x288 with 1 Axes>"
      ]
     },
     "metadata": {
      "needs_background": "light"
     },
     "output_type": "display_data"
    }
   ],
   "source": [
    "# For Barkha\n",
    "plot(12,0.45)"
   ]
  },
  {
   "cell_type": "code",
   "execution_count": 18,
   "id": "302deae7",
   "metadata": {},
   "outputs": [
    {
     "data": {
      "text/plain": [
       "'\\nWe can observe maximum combined probability at question 6.\\n'"
      ]
     },
     "execution_count": 18,
     "metadata": {},
     "output_type": "execute_result"
    },
    {
     "data": {
      "image/png": "[encoded data removed]",
      "text/plain": [
       "<Figure size 432x288 with 1 Axes>"
      ]
     },
     "metadata": {
      "needs_background": "light"
     },
     "output_type": "display_data"
    }
   ],
   "source": [
    "#Combined Probability\n",
    "\n",
    "fig,ax=plt.subplots(1,1)\n",
    "x = np.arange(1,12)\n",
    "ax.plot(x, binom.pmf(x,8,0.75)*binom.pmf(x,12,0.45), 'ro', ms=8, label='binom pmf')\n",
    "ax.vlines(x, 0, binom.pmf(x,8,0.75)*binom.pmf(x,12,0.45), colors='b', lw=5, alpha=0.5)\n",
    "\n",
    "\"\"\"\n",
    "We can observe maximum combined probability at question 6.\n",
    "\"\"\""
   ]
  },
  {
   "cell_type": "markdown",
   "id": "7fdc31aa",
   "metadata": {},
   "source": [
    "__Problem Statement 7:__<br>\n",
    "\n",
    "Customers arrive at a rate of 72 per hour to my shop. What is the probability of k customers arriving<br> in 4 minutes? a) 5 customers, b) not more than 3 customers, c) more than 3 customers. <br>Give a pictorial representation of the same to validate your answer."
   ]
  },
  {
   "cell_type": "code",
   "execution_count": 19,
   "id": "f9382115",
   "metadata": {},
   "outputs": [],
   "source": [
    "from scipy.stats import poisson"
   ]
  },
  {
   "cell_type": "code",
   "execution_count": 20,
   "id": "8c16cafc",
   "metadata": {},
   "outputs": [
    {
     "name": "stdout",
     "output_type": "stream",
     "text": [
      "The probability of 5 customers arriving in 4 minutes is: 0.17474768364388296\n",
      "The probability of less than 3 customers arriving in 4 minutes is: 0.29422991649656405\n",
      "The probability of not more than 3 customers arriving in 4 minutes is: 0.7057700835034357\n"
     ]
    }
   ],
   "source": [
    "people_four_mins_mu = 4*(72/60)\n",
    "\n",
    "prob_five_cust = poisson.pmf(k=5, mu=people_four_mins_mu)\n",
    "prob_less_than_three = [sum(poisson.pmf(k=i, mu=people_four_mins_mu) for i in range(0,4))]\n",
    "prob_not_more_than_three = 1-poisson.cdf(k=3,mu=people_four_mins_mu)\n",
    "\n",
    "print(\"The probability of 5 customers arriving in 4 minutes is: {}\".format(prob_five_cust))\n",
    "print(\"The probability of less than 3 customers arriving in 4 minutes is: {}\".format(prob_less_than_three[0]))\n",
    "print(\"The probability of not more than 3 customers arriving in 4 minutes is: {}\".format(prob_not_more_than_three))"
   ]
  },
  {
   "cell_type": "code",
   "execution_count": 21,
   "id": "676ec204",
   "metadata": {},
   "outputs": [
    {
     "data": {
      "text/plain": [
       "Text(0, 0.5, 'Probability for 4 mins')"
      ]
     },
     "execution_count": 21,
     "metadata": {},
     "output_type": "execute_result"
    },
    {
     "data": {
      "image/png": "[encoded data removed]",
      "text/plain": [
       "<Figure size 432x288 with 1 Axes>"
      ]
     },
     "metadata": {
      "needs_background": "light"
     },
     "output_type": "display_data"
    }
   ],
   "source": [
    "x = list(range(0,10))\n",
    "\n",
    "fig,ax = plt.subplots(1,1)\n",
    "ax.plot(x, poisson.pmf(x,people_four_mins_mu),'ro',ms=10, label='Poisson pmf')\n",
    "ax.vlines(x, 0, poisson.pmf(x, people_four_mins_mu), colors='b', lw=5, alpha=0.5)\n",
    "plt.xlabel(\"Number of Customers\")\n",
    "plt.ylabel(\"Probability for 4 mins\")"
   ]
  },
  {
   "cell_type": "markdown",
   "id": "80a72645",
   "metadata": {},
   "source": [
    "__Problem Statement 8:__<br>\n",
    "I work as a data analyst in Aeon Learning Pvt. Ltd. After analyzing data, I make reports, where I have the efficiency of entering 77 words per minute with 6 errors per hour. What is the probability that I will commit 2 errors in a 455-word financial report? What happens when the no. of words increases/decreases (in case of 1000 words, 255 words)?<br>\n",
    "How is the 𝜆 affected?<br>\n",
    "How does it influence the PMF?<br>\n",
    "Give a pictorial representation of the same to validate your answer."
   ]
  },
  {
   "cell_type": "code",
   "execution_count": 22,
   "id": "963095a2",
   "metadata": {},
   "outputs": [
    {
     "name": "stdout",
     "output_type": "stream",
     "text": [
      "Probability of commiting 2 errors in a 455-word financial report: 0.09669027375144444\n",
      "Probability of commiting 2 errors in a 1000-word financial report: 0.23012815007300153\n",
      "Probability of commiting 2 errors in a 255-word financial report: 0.039377135392854104\n"
     ]
    }
   ],
   "source": [
    "\"\"\"\n",
    "Words per min = 77\n",
    "Errors per hour = 6 i.e 6/60 = 0.1 error per min\n",
    "Errors per word = 0.1/77\n",
    "\"\"\"\n",
    "mu = 0.1/77\n",
    "\n",
    "def poisson_mu(n):\n",
    "    return mu*n\n",
    "prob_a = poisson.pmf(2,mu = poisson_mu(455))\n",
    "prob_b = poisson.pmf(2,mu = poisson_mu(1000))\n",
    "prob_c = poisson.pmf(2,mu = poisson_mu(255))\n",
    "\n",
    "print(\"Probability of commiting 2 errors in a 455-word financial report: {}\".format(prob_a))\n",
    "print(\"Probability of commiting 2 errors in a 1000-word financial report: {}\".format(prob_b))\n",
    "print(\"Probability of commiting 2 errors in a 255-word financial report: {}\".format(prob_c))"
   ]
  },
  {
   "cell_type": "code",
   "execution_count": 23,
   "id": "b1da7221",
   "metadata": {},
   "outputs": [
    {
     "data": {
      "text/plain": [
       "'\\nInference:\\nAs the number of words increases the probability of making errors also increases.\\n'"
      ]
     },
     "execution_count": 23,
     "metadata": {},
     "output_type": "execute_result"
    },
    {
     "data": {
      "image/png": "[encoded data removed]",
      "text/plain": [
       "<Figure size 576x432 with 1 Axes>"
      ]
     },
     "metadata": {
      "needs_background": "light"
     },
     "output_type": "display_data"
    }
   ],
   "source": [
    "x = list(range(100,1000,75))\n",
    "new_mu = [i*mu for i in x]\n",
    "\n",
    "fig,ax = plt.subplots(1,1,figsize=(8,6))\n",
    "ax.plot(x, poisson.pmf(2,new_mu), 'ro', ms=10, label = \"Poisson_PMF\")\n",
    "ax.vlines(x,0, poisson.pmf(2,new_mu), colors='b', lw=5, alpha=0.5)\n",
    "\n",
    "\n",
    "\"\"\"\n",
    "Inference:\n",
    "As the number of words increases the probability of making errors also increases.\n",
    "\"\"\""
   ]
  },
  {
   "cell_type": "markdown",
   "id": "3566af4a",
   "metadata": {},
   "source": [
    "__Problem Statement 9:__<br>\n",
    "\n",
    "Let the continuous random variable D denote the diameter of the hole drilled in an\n",
    "aluminum sheet. The target diameter to be achieved is 12.5mm. Random\n",
    "disturbances in the process often result in inaccuracy.\n",
    "Historical data shows that the distribution of D can be modelled by the PDF, f(d) =\n",
    "20e−20(d−12.5), d ≥ 12.5. If a part with diameter > 12.6 mm needs to be scrapped,<br>\n",
    "what is the proportion of those parts? What is the CDF when the diameter is of 11mm?<br>\n",
    "What is the conclusion of this experiment?"
   ]
  },
  {
   "cell_type": "markdown",
   "id": "80ed111d",
   "metadata": {},
   "source": [
    "__SAME AS PROBLEM 4__"
   ]
  },
  {
   "cell_type": "markdown",
   "id": "8d8ab4d7",
   "metadata": {},
   "source": [
    "__Problem Statement 10:__\n",
    "\n",
    "Please compute the following:<br>\n",
    "a) P(Z > 1.26), . P(Z < −0.86), P(Z > −1.37), P(−1.25 < Z < 0.37), . P(Z ≤ −4.6)<br>\n",
    "b) Find the value z such that P(Z > z) = 0.05<br>\n",
    "c) Find the value of z such that P(−z < Z < z) = 0.99<br>"
   ]
  },
  {
   "cell_type": "code",
   "execution_count": 24,
   "id": "31e7b224",
   "metadata": {},
   "outputs": [
    {
     "name": "stdout",
     "output_type": "stream",
     "text": [
      "----------------------a-------------------------------\n",
      "P(Z>1.26) :0.1038\n",
      "P(Z<-0.86) :0.1949\n",
      "P(Z>-1.37) :0.9147\n",
      "P(−1.25 < Z < 0.37) :0.5387\n",
      "P(Z ≤ −4.6) :0.0000\n",
      "----------------------b-------------------------------\n",
      "P(Z>z) = 0.05 :1.6449\n",
      "----------------------c-------------------------------\n",
      "P(−z < Z < z) = 0.99 :2.3263\n"
     ]
    }
   ],
   "source": [
    "from scipy.stats import norm\n",
    "\n",
    "def z_score(z, x = -np.inf):\n",
    "    return integrate.quad(norm.pdf,x,z)[0]\n",
    "\n",
    "print(\"----------------------a-------------------------------\")\n",
    "print(\"P(Z>1.26) :{0:.4f}\".format(1-z_score(1.26)))\n",
    "print(\"P(Z<-0.86) :{0:.4f}\".format(z_score(-0.86)))\n",
    "print(\"P(Z>-1.37) :{0:.4f}\".format(1-z_score(-1.37)))\n",
    "print(\"P(−1.25 < Z < 0.37) :{0:.4f}\".format(z_score(0.37,x=-1.25)))\n",
    "print(\"P(Z ≤ −4.6) :{0:.4f}\".format(z_score(-4.6)))\n",
    "print(\"----------------------b-------------------------------\")\n",
    "print(\"P(Z>z) = 0.05 :{0:.4f}\".format(-1*norm.ppf(0.05)))\n",
    "print(\"----------------------c-------------------------------\")\n",
    "print(\"P(−z < Z < z) = 0.99 :{0:.4f}\".format(abs(norm.ppf(0.99))))\n"
   ]
  },
  {
   "cell_type": "markdown",
   "id": "299c0d63",
   "metadata": {},
   "source": [
    "__Problem Statement 11:__<br>\n",
    "\n",
    "The current flow in a copper wire follow a normal distribution with a mean of 10 mA\n",
    "and a variance of 4 (mA)2.<br>\n",
    "What is the probability that a current measurement will exceed 13 mA?<br>\n",
    "What is the probability that a current measurement is between 9 and 11mA? Determine the\n",
    "current measurement which has a probability of 0.98."
   ]
  },
  {
   "cell_type": "code",
   "execution_count": 25,
   "id": "e0ff9113",
   "metadata": {},
   "outputs": [
    {
     "name": "stdout",
     "output_type": "stream",
     "text": [
      "Probability of current measurement will exceed 13 mA: 0.06680720126885797\n",
      "Probability of current measurement will between 9 mA and 13mA: 0.3829249225480263\n"
     ]
    }
   ],
   "source": [
    "mean = 10\n",
    "std = np.sqrt(4)\n",
    "\n",
    "def z_score(z, x = -np.inf):\n",
    "    z = (z-mean)/std\n",
    "    \n",
    "    return integrate.quad(norm.pdf, x, z)[0]\n",
    "\n",
    "print(\"Probability of current measurement will exceed 13 mA: {}\".format(1-z_score(13)))\n",
    "print(\"Probability of current measurement will between 9 mA and 13mA: {}\".format(z_score(11)-z_score(9)))"
   ]
  },
  {
   "cell_type": "markdown",
   "id": "30e9fec4",
   "metadata": {},
   "source": [
    "__Problem Statement 12:__<br>\n",
    "The shaft in a piston has its diameter normally distributed with a mean of 0.2508 inch and a standard deviation of 0.0005 inch. The specifications of the shaft are 0.2500 ∓0.0015 inch.<br>\n",
    "What proportion of shafts are in sync with the specifications?<br>\n",
    "If the process is centered so that the mean is equal to the target value of 0.2500, what proportion of shafts conform to the new specifications?<br>\n",
    "What is your conclusion from this experiment?"
   ]
  },
  {
   "cell_type": "code",
   "execution_count": 26,
   "id": "ce8f71e3",
   "metadata": {},
   "outputs": [
    {
     "name": "stdout",
     "output_type": "stream",
     "text": [
      "Proportion of shafts range 0.2485<d<0.2515 and mean 0.2508: None\n",
      "Proportion of shafts range 0.2485<d<0.2515 and mean 0.2500: None\n"
     ]
    }
   ],
   "source": [
    "mean = 0.2508\n",
    "std = 0.0005\n",
    "# range of shafts diameter = 0.2485<d<0.2515\n",
    "\n",
    "def z_score(mean, std, a, b):\n",
    "    a = (a-mean)/std\n",
    "    b = (b-mean)/std\n",
    "    \n",
    "print(\"Proportion of shafts range 0.2485<d<0.2515 and mean 0.2508: {}\".format(z_score(0.2508, 0.0005, 0.2485, 0.2515)))\n",
    "print(\"Proportion of shafts range 0.2485<d<0.2515 and mean 0.2500: {}\".format(z_score(0.2500, 0.0005, 0.2485, 0.2515)))"
   ]
  },
  {
   "cell_type": "code",
   "execution_count": null,
   "id": "7b392030",
   "metadata": {},
   "outputs": [],
   "source": []
  }
 ],
 "metadata": {
  "kernelspec": {
   "display_name": "Python 3",
   "language": "python",
   "name": "python3"
  },
  "language_info": {
   "codemirror_mode": {
    "name": "ipython",
    "version": 3
   },
   "file_extension": ".py",
   "mimetype": "text/x-python",
   "name": "python",
   "nbconvert_exporter": "python",
   "pygments_lexer": "ipython3",
   "version": "3.9.4"
  },
  "toc": {
   "base_numbering": 1,
   "nav_menu": {},
   "number_sections": true,
   "sideBar": true,
   "skip_h1_title": false,
   "title_cell": "Table of Contents",
   "title_sidebar": "Contents",
   "toc_cell": false,
   "toc_position": {},
   "toc_section_display": true,
   "toc_window_display": false
  },
  "varInspector": {
   "cols": {
    "lenName": 16,
    "lenType": 16,
    "lenVar": 40
   },
   "kernels_config": {
    "python": {
     "delete_cmd_postfix": "",
     "delete_cmd_prefix": "del ",
     "library": "var_list.py",
     "varRefreshCmd": "print(var_dic_list())"
    },
    "r": {
     "delete_cmd_postfix": ") ",
     "delete_cmd_prefix": "rm(",
     "library": "var_list.r",
     "varRefreshCmd": "cat(var_dic_list()) "
    }
   },
   "types_to_exclude": [
    "module",
    "function",
    "builtin_function_or_method",
    "instance",
    "_Feature"
   ],
   "window_display": false
  }
 },
 "nbformat": 4,
 "nbformat_minor": 5
}
