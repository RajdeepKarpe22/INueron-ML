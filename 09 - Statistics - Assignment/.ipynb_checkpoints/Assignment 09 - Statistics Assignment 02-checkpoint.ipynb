{
 "cells": [
  {
   "cell_type": "markdown",
   "id": "6f730786",
   "metadata": {},
   "source": [
    "__Problem Statement 1:__<br>\n",
    "In each of the following situations, state whether it is a correctly stated hypothesis testing problem and why?\n",
    "1. 𝐻0: 𝜇 = 25, 𝐻1: 𝜇 ≠ 25\n",
    "2. 𝐻0: 𝜎 > 10, 𝐻1: 𝜎 = 10\n",
    "3. 𝐻0: 𝑥 = 50, 𝐻1: 𝑥 ≠ 50\n",
    "4. 𝐻0: 𝑝 = 0.1, 𝐻1: 𝑝 = 0.5\n",
    "5. 𝐻0: 𝑠 = 30, 𝐻1: 𝑠 > 30"
   ]
  },
  {
   "cell_type": "markdown",
   "id": "7663e46e",
   "metadata": {},
   "source": [
    "1. Yes, the null hypothesis and alternate hypothesis are correctly stated. The null hypothesis is \n",
    "   correctly distributed in both the tails. The equality defines two tailed test.<br>\n",
    "2. No, as null hypothesis has > symbol while alternate hypothesis has = symbol.<br>\n",
    "3. No, because hypothesis is made regarding the population and not the sample data.<br>\n",
    "4. No, because the values in both the hypothesis is different.\n",
    "5. No, because again hypothesis is made regarding population and not sample data."
   ]
  },
  {
   "cell_type": "markdown",
   "id": "020a19e8",
   "metadata": {},
   "source": [
    "__Problem Statement 2:__<br>\n",
    "The college bookstore tells prospective students that the average cost of its textbooks is Rs. 52 with a standard deviation of Rs. 4.50. A group of smart statistics students thinks that the average cost is higher. To test the bookstore’s claim against their alternative, the students will select a random sample of size 100. Assume that the mean from their random sample is Rs. 52.80. Perform a hypothesis test at the 5% level of significance and state your decision."
   ]
  },
  {
   "cell_type": "code",
   "execution_count": 1,
   "id": "decae127",
   "metadata": {},
   "outputs": [],
   "source": [
    "from scipy.stats import norm\n",
    "import numpy as np\n",
    "import math\n",
    "import scipy.stats as stats\n",
    "from scipy.stats import chi2_contingency"
   ]
  },
  {
   "cell_type": "code",
   "execution_count": 15,
   "id": "dd1ac3f0",
   "metadata": {},
   "outputs": [
    {
     "name": "stdout",
     "output_type": "stream",
     "text": [
      "Z_score: 1.7777777777777715\n",
      "Critical region with alpha 0.05: -1.9599639845400545 till 1.9599639845400545\n"
     ]
    }
   ],
   "source": [
    "population_mean = 52\n",
    "pop_std = 4.50\n",
    "n = 100\n",
    "sample_mean = 52.80\n",
    "\n",
    "stand_error = pop_std/(np.sqrt(n))\n",
    "Z_score = (sample_mean-population_mean)/stand_error\n",
    "print(\"Z_score: {}\".format(Z_score))\n",
    "\n",
    "print(\"Critical region with alpha 0.05: {} till {}\".format(norm.ppf(0.05/2), -norm.ppf(0.05/2)))"
   ]
  },
  {
   "cell_type": "markdown",
   "id": "037e138c",
   "metadata": {},
   "source": [
    "As the Z value lies outside critical region and between region of acceptance we can accept the null\n",
    "hypothesis."
   ]
  },
  {
   "cell_type": "markdown",
   "id": "10acc96c",
   "metadata": {},
   "source": [
    "__Problem Statement 3:__<br>\n",
    "A certain chemical pollutant in the Genesee River has been constant for several years with mean μ = 34 ppm (parts per million) and standard deviation σ = 8 ppm. A group of factory representatives whose companies discharge liquids into the river is now claiming that they have lowered the average with improved filtration devices. A group of environmentalists will test to see if this is true at the 1% level of significance. Assume \\ that their sample of size 50 gives a mean of 32.5 ppm. Perform a hypothesis test at the 1% level of significance and state your decision."
   ]
  },
  {
   "cell_type": "code",
   "execution_count": 19,
   "id": "19957124",
   "metadata": {},
   "outputs": [
    {
     "name": "stdout",
     "output_type": "stream",
     "text": [
      "Z score is: -1.3258252147247767\n",
      "Critical region for alpha 0.01: -2.575829303548901 till 2.575829303548901\n"
     ]
    }
   ],
   "source": [
    "pop_mean = 34\n",
    "pop_std = 8\n",
    "n = 50\n",
    "sample_mean = 32.5\n",
    "\n",
    "stand_error = pop_std/(np.sqrt(n))\n",
    "Z = (sample_mean-pop_mean)/stand_error\n",
    "print(\"Z score is: {}\".format(Z))\n",
    "print(\"Critical region for alpha 0.01: {} till {}\".format(norm.ppf(0.01/2), -norm.ppf(0.01/2)))"
   ]
  },
  {
   "cell_type": "markdown",
   "id": "c7da45c2",
   "metadata": {},
   "source": [
    "As the Z value lies outside critical region and between region of acceptance we can accept the null hypothesis."
   ]
  },
  {
   "cell_type": "markdown",
   "id": "33582c3b",
   "metadata": {},
   "source": [
    "__Problem Statement 4:__<br>\n",
    "Based on population figures and other general information on the U.S. population, suppose it has been estimated that, on average, a family of four in the U.S. spends about $1135 annually on dental expenditures. Suppose further that a regional dental association wants to test to determine if this figure is accurate for their area of country. To test this, 22 families of 4 are randomly selected from the population in that area of the country and a log is kept of the family’s dental expenditure for one year. The resulting data are given below. Assuming, that dental expenditure is normally distributed in the population, use the data and an alpha of 0.5 to test the dental association’s hypothesis. 1008, 812, 1117, 1323, 1308, 1415, 831, 1021, 1287, 851, 930, 730, 699, 872, 913, 944, 954, 987, 1695, 995, 1003, 994"
   ]
  },
  {
   "cell_type": "code",
   "execution_count": 30,
   "id": "251d4b88",
   "metadata": {},
   "outputs": [
    {
     "name": "stdout",
     "output_type": "stream",
     "text": [
      "T_Score: -2.070747228595759\n",
      "Critical Region alpha 0.5: -0.6863519891164293 till 0.6863519891164293\n"
     ]
    }
   ],
   "source": [
    "data = [1008, 812, 1117, 1323, 1308, 1415, 831, 1021, 1287, 851, 930, 730, 699, 872, 913,\n",
    "        944, 954, 987, 1695, 995, 1003, 994]\n",
    "pop_mean =1135\n",
    "sample_std = np.std(data)\n",
    "n = 22\n",
    "sample_mean = np.sum(data, axis=0)/len(data)\n",
    "stand_error = sample_std/(np.sqrt(n))\n",
    "alpha = 0.5\n",
    "t_test = (sample_mean-pop_mean)/stand_error\n",
    "print(\"T_Score: {}\".format(t_test))\n",
    "print(\"Critical Region alpha 0.5: {} till {}\".format(stats.t.ppf((alpha/2),df=21),stats.t.ppf(1-(alpha/2),df=21)))"
   ]
  },
  {
   "cell_type": "markdown",
   "id": "ff257773",
   "metadata": {},
   "source": [
    "As the Z value lies inside critical region and outside region of acceptance we can reject the null hypothesis."
   ]
  },
  {
   "cell_type": "markdown",
   "id": "212aa650",
   "metadata": {},
   "source": [
    "__Problem Statement 5:__<br>\n",
    "In a report prepared by the Economic Research Department of a major bank the Department manager maintains that the average annual family income on Metropolis is 48432. What do you conclude about the validity of the report if a random sample of 400 families shows and average income of 48,574 with a standard deviation of 2000?"
   ]
  },
  {
   "cell_type": "code",
   "execution_count": 29,
   "id": "87859d56",
   "metadata": {},
   "outputs": [
    {
     "name": "stdout",
     "output_type": "stream",
     "text": [
      "Z-score: 1.42\n",
      "Critical region alpha 0.05 -1.9599639845400545 till 1.9599639845400545:\n"
     ]
    }
   ],
   "source": [
    "pop_mean = 48432\n",
    "pop_std = 2000\n",
    "n =400\n",
    "sample_mean =48574\n",
    "\n",
    "stand_error = pop_std/(np.sqrt(n))\n",
    "z_score = (sample_mean-pop_mean)/stand_error\n",
    "alpha=0.05\n",
    "print(\"Z-score: {}\".format(z_score))\n",
    "print(\"Critical region alpha 0.05 {} till {}:\".format(norm.ppf(alpha/2),-norm.ppf(alpha/2)))"
   ]
  },
  {
   "cell_type": "markdown",
   "id": "5ad930aa",
   "metadata": {},
   "source": [
    "As the Z value lies outside critical region and between region of acceptance we can accept the null hypothesis."
   ]
  },
  {
   "cell_type": "markdown",
   "id": "4113c82f",
   "metadata": {},
   "source": [
    "__Problem Statement 6:__<br>\n",
    "Suppose that in past years the average price per square foot for warehouses in the United States has been 32.28. A national real estate investor wants to determine whether that figure has changed now. The investor hires a researcher who randomly samples 19 warehouses that are for sale across the United States and finds that the mean price per square foot is 31.67, with a standard deviation of 1.29. assume that the prices of warehouse footage are normally distributed in population. If the researcher uses a 5% level of significance, what statistical conclusion can be reached? What are the hypotheses?"
   ]
  },
  {
   "cell_type": "code",
   "execution_count": 70,
   "id": "4567899f",
   "metadata": {},
   "outputs": [
    {
     "name": "stdout",
     "output_type": "stream",
     "text": [
      "T_test score: -2.1\n",
      "Critical region alpha 0.05: -2.1 till 2.1\n"
     ]
    }
   ],
   "source": [
    "pop_mean = 32.28\n",
    "n = 19\n",
    "sample_mean = 31.67\n",
    "sample_std = 1.29\n",
    "alpha = 0.05\n",
    "\n",
    "stand_error = sample_std/(np.sqrt(n))\n",
    "t_test = (sample_mean-pop_mean)/stand_error\n",
    "print(\"T_test score: {}\".format(round((t_test), 1)))\n",
    "print(\"Critical region alpha 0.05: {} till {}\".format(round(stats.t.ppf((alpha/2),df=18),1), -round(stats.t.ppf((alpha/2),df=18),1)))"
   ]
  },
  {
   "cell_type": "markdown",
   "id": "b6ec3226",
   "metadata": {},
   "source": [
    "As the Z value lies inside critical region and outside region of acceptance we can reject the null hypothesis."
   ]
  },
  {
   "cell_type": "markdown",
   "id": "14e55693",
   "metadata": {},
   "source": [
    "__Problem Statement 7:__<br>\n",
    "Find the t-score for a sample size of 16 taken from a population with mean 10 when the sample mean is 12 and the sample standard deviation is 1.5."
   ]
  },
  {
   "cell_type": "code",
   "execution_count": 72,
   "id": "c4276a6c",
   "metadata": {},
   "outputs": [
    {
     "name": "stdout",
     "output_type": "stream",
     "text": [
      "T-test score: 5.3\n"
     ]
    }
   ],
   "source": [
    "n = 16\n",
    "pop_mean = 10\n",
    "sample_mean =12\n",
    "sample_std =1.5\n",
    "\n",
    "stand_error = sample_std/(n**0.5)\n",
    "t_test = (sample_mean-pop_mean)/stand_error\n",
    "print(\"T-test score: {}\".format(round((t_test),1)))"
   ]
  },
  {
   "cell_type": "markdown",
   "id": "a6f9c0d4",
   "metadata": {},
   "source": [
    "__Problem Statement 8:__<br>\n",
    "Find the t-score below which we can expect 99% of sample means will fall if samples of size 16 are taken from a normally distributed population.\n"
   ]
  },
  {
   "cell_type": "code",
   "execution_count": 75,
   "id": "6e994e4a",
   "metadata": {},
   "outputs": [
    {
     "name": "stdout",
     "output_type": "stream",
     "text": [
      "T-test score: 2.946712883338615\n"
     ]
    }
   ],
   "source": [
    "n = 16\n",
    "alpha = (1-0.99)/2\n",
    "print(\"T-test score: {}\".format(stats.t.ppf(1-alpha,df=15)))"
   ]
  },
  {
   "cell_type": "markdown",
   "id": "82d200df",
   "metadata": {},
   "source": [
    "__Problem Statement 9:__<br>\n",
    "If a random sample of size 25 drawn from a normal population gives a mean of 60 and a standard deviation of 4, find the range of t-scores where we can expect to find the middle 95% of all sample means. Compute the probability that <br>(−𝑡0.05 <𝑡<𝑡0.10)"
   ]
  },
  {
   "cell_type": "code",
   "execution_count": 76,
   "id": "ccbf5bc1",
   "metadata": {},
   "outputs": [
    {
     "name": "stdout",
     "output_type": "stream",
     "text": [
      "Range: 61.651118849302414 till 58.348881150697586\n",
      "Probability that (−𝑡0.05 <𝑡<𝑡0.10) is 0.05914441613731247\n"
     ]
    }
   ],
   "source": [
    "n = 25\n",
    "std = 4\n",
    "mean = 60\n",
    "alpha = (1-0.95)/2\n",
    "t_test = stats.t.ppf(1-alpha, df=24)\n",
    "print(\"Range: {} till {}\".format(mean+t_test*(std/(n**0.5)), mean-t_test*(std/(n**0.5))))\n",
    "\n",
    "print(\"Probability that (−𝑡0.05 <𝑡<𝑡0.10) is {}\".format(stats.t.cdf(0.1,df=24)-stats.t.cdf(-0.05,df=24)))"
   ]
  },
  {
   "cell_type": "markdown",
   "id": "3da24a6c",
   "metadata": {},
   "source": [
    "__Problem Statement 10:__<br>\n",
    "Two-tailed test for difference between two population means Is there evidence to conclude that the number of people travelling from Bangalore to Chennai is different from the number of people travelling from Bangalore to Hosur in a week, given the following: Population 1: Bangalore to Chennai n1 = 1200 x1 = 452 s1 = 212 Population 2: Bangalore to Hosur n2 = 800 x2 = 523 s2 = 185"
   ]
  },
  {
   "cell_type": "code",
   "execution_count": 78,
   "id": "4b0405af",
   "metadata": {},
   "outputs": [
    {
     "name": "stdout",
     "output_type": "stream",
     "text": [
      "Z_Score: -7.926428526759299\n",
      "Critical region:-1.9599639845400545 till 1.9599639845400545\n"
     ]
    }
   ],
   "source": [
    "n1 = 1200 \n",
    "x1 = 452\n",
    "s1 = 212\n",
    "n2 = 800\n",
    "x2 = 523\n",
    "s2 = 185\n",
    "s_1 = s1**2\n",
    "s_2 = s2**2\n",
    "alpha=0.05\n",
    "stand_error = np.sqrt(((s_1/n1)+(s_2/n2)))\n",
    "z_score = (x1-x2)/stand_error\n",
    "print(\"Z_Score: {}\".format(z_score))\n",
    "print(\"Critical region:{} till {}\".format(norm.ppf(alpha/2), -norm.ppf(alpha/2)))"
   ]
  },
  {
   "cell_type": "markdown",
   "id": "7fb3cf79",
   "metadata": {},
   "source": [
    "As the Z value lies inside critical region and outside region of acceptance we can reject the null hypothesis."
   ]
  },
  {
   "cell_type": "markdown",
   "id": "8f2ac039",
   "metadata": {},
   "source": [
    "__Problem Statement 11:__<br>\n",
    "Is there evidence to conclude that the number of people preferring Duracell battery is different from the number of people preferring Energizer battery, given the following: Population 1: Duracell n1 = 100 x1 = 308 s1 = 84 Population 2: Energizer n2 = 100 x2 = 254 s2 = 67"
   ]
  },
  {
   "cell_type": "code",
   "execution_count": 80,
   "id": "e1037201",
   "metadata": {},
   "outputs": [
    {
     "name": "stdout",
     "output_type": "stream",
     "text": [
      "Z_Score: 5.025702668336442\n",
      "Critical region: -1.9599639845400545 till 1.9599639845400545\n"
     ]
    }
   ],
   "source": [
    "n1 = 100\n",
    "x1 = 308\n",
    "s1 = 84\n",
    "n2 = 100\n",
    "x2 = 254\n",
    "s2 = 67\n",
    "s_1 = s1**2\n",
    "s_2 = s2**2\n",
    "alpha = 0.05\n",
    "stand_error = np.sqrt(((s_1/n1)+(s_2/n2)))\n",
    "z_score = (x1-x2)/stand_error\n",
    "print(\"Z_Score: {}\".format(z_score))\n",
    "print(\"Critical region: {} till {}\".format(norm.ppf(alpha/2),-norm.ppf(alpha/2)))"
   ]
  },
  {
   "cell_type": "markdown",
   "id": "22e1b50e",
   "metadata": {},
   "source": [
    "As the Z value lies inside critical region and outside region of acceptance we can reject the null hypothesis."
   ]
  },
  {
   "cell_type": "markdown",
   "id": "55fd7f0f",
   "metadata": {},
   "source": [
    "__Problem Statement 12:__\n",
    "Pooled estimate of the population variance Does the data provide sufficient evidence to conclude that average percentage increase in the price of sugar differs when it is sold at two different prices? Population 1: Price of sugar = Rs. 27.50 n1 = 14 x1 = 0.317% s1 = 0.12% Population 2: Price of sugar = Rs. 20.00 n2 = 9 x2 = 0.21% s2 = 0.11%"
   ]
  },
  {
   "cell_type": "code",
   "execution_count": 83,
   "id": "d8c1f1e1",
   "metadata": {},
   "outputs": [
    {
     "name": "stdout",
     "output_type": "stream",
     "text": [
      "T-test score:0.3931089218182991\n",
      "Critical Region: 1.7207429028118775 till -1.7207429028118775\n"
     ]
    }
   ],
   "source": [
    "n1 = 14 \n",
    "x1 = 0.317\n",
    "s1 = 0.12 \n",
    "n2 = 9 \n",
    "x2 = 0.21 \n",
    "s2 = 0.11\n",
    "s_1 = s1**2\n",
    "s_2 = s2**2\n",
    "n = (n1+n2-2)\n",
    "stand_error = np.sqrt((((n1-1)*s_1)+((n2-1)*s_2))/n)\n",
    "n_1 = np.sqrt(((1/n1)+(1/n2)))\n",
    "t_test = (x1-x2)/stand_error*n_1\n",
    "\n",
    "print(\"T-test score:{}\".format(t_test))\n",
    "print(\"Critical Region: {} till {}\".format(stats.t.ppf(1-0.05,df=n), -stats.t.ppf(1-0.05,df=n)))"
   ]
  },
  {
   "cell_type": "markdown",
   "id": "a04e6391",
   "metadata": {},
   "source": [
    "As the T value lies outside critical region and between region of acceptance we can accept the null hypothesis."
   ]
  },
  {
   "cell_type": "markdown",
   "id": "c41889e4",
   "metadata": {},
   "source": [
    "__Problem Statement 13:__<br>\n",
    "The manufacturers of compact disk players want to test whether a small price reduction is enough to increase sales of their product. Is there evidence that the small price reduction is enough to increase sales of compact disk players? Population 1: Before reduction n1 = 15 x1 = Rs. 6598 s1 = Rs. 844 Population 2: After reduction n2 = 12 x2 = RS. 6870 s2 = Rs. 669"
   ]
  },
  {
   "cell_type": "code",
   "execution_count": 86,
   "id": "209d91e5",
   "metadata": {},
   "outputs": [
    {
     "name": "stdout",
     "output_type": "stream",
     "text": [
      "T-test score: -0.1364745051598569\n",
      "Critical Region: -1.708140761251899 till 1.708140761251899\n"
     ]
    }
   ],
   "source": [
    "n1 = 15 \n",
    "x1 = 6598 \n",
    "s1 = 844 \n",
    "n2 = 12 \n",
    "x2 = 6870 \n",
    "s2 = 669\n",
    "s_1 = s1**2\n",
    "s_2 = s2**2\n",
    "\n",
    "n = (n1+n2-2)\n",
    "stand_error = np.sqrt((((n1-1)*s_1)+((n2-1)*s_2))/n)\n",
    "n_1 = np.sqrt(((1/n1)+(1/n2)))\n",
    "t_test = (x1-x2)/stand_error*n_1\n",
    "\n",
    "print(\"T-test score: {}\".format(t_test))\n",
    "print(\"Critical Region: {} till {}\".format(stats.t.ppf(0.05,df=n),-stats.t.ppf(0.05,df=n)))"
   ]
  },
  {
   "cell_type": "markdown",
   "id": "9ff5d185",
   "metadata": {},
   "source": [
    "As the T value lies outside critical region and between region of acceptance we can accept the null hypothesis."
   ]
  },
  {
   "cell_type": "markdown",
   "id": "6942972f",
   "metadata": {},
   "source": [
    "__Problem Statement 14:__<br>\n",
    "Comparisons of two population proportions when the hypothesized difference is zero Carry out a two-tailed test of the equality of banks’ share of the car loan market in 1980 and 1995. Population 1: 1980 n1 = 1000 x1 = 53 𝑝 1 = 0.53 Population 2: 1985 n2 = 100 x2 = 43 𝑝 2= 0.53"
   ]
  },
  {
   "cell_type": "code",
   "execution_count": 87,
   "id": "4ddb5774",
   "metadata": {},
   "outputs": [
    {
     "name": "stdout",
     "output_type": "stream",
     "text": [
      "Z_score: 0.0\n",
      "Critical region: -1.6448536269514729 till 1.6448536269514729\n"
     ]
    }
   ],
   "source": [
    "n1 = 1000 \n",
    "x1 = 53 \n",
    "𝑝1 = 0.53 \n",
    "n2 = 100 \n",
    "x2 = 43 \n",
    "𝑝2 = 0.53\n",
    "p = (x1+x2)/(n1+n2)\n",
    "\n",
    "n = (1/n1)+(1/n2)\n",
    "p_1 = p*(1-p)\n",
    "z_score = np.sqrt((p1-p2)/((p_1*n)))\n",
    "print(\"Z_score: {}\".format(z_score))\n",
    "print(\"Critical region: {} till {}\".format(norm.ppf(0.05),-norm.ppf(0.05)))\n"
   ]
  },
  {
   "cell_type": "markdown",
   "id": "9fc0d552",
   "metadata": {},
   "source": [
    "As the Z value lies outside critical region and between region of acceptance we can accept the null hypothesis."
   ]
  },
  {
   "cell_type": "markdown",
   "id": "ca6026c6",
   "metadata": {},
   "source": [
    "__Problem Statement 15:__<br>\n",
    "Carry out a one-tailed test to determine whether the population proportion of traveler’s check buyers who buy at least $2500 in checks when sweepstakes prizes are offered as at least 10% higher than the proportion of such buyers when no sweepstakes are on. Population 1: With sweepstakes n1 = 300 x1 = 120 𝑝 = 0.40 Population 2: No sweepstakes n2 = 700 x2 = 140 𝑝 2= 0.20"
   ]
  },
  {
   "cell_type": "code",
   "execution_count": 89,
   "id": "272c2b12",
   "metadata": {},
   "outputs": [
    {
     "name": "stdout",
     "output_type": "stream",
     "text": [
      "Z_score: 10.447373313307471\n",
      "Critical region: -1.6448536269514729 till 1.6448536269514729\n"
     ]
    }
   ],
   "source": [
    "n1 = 300 \n",
    "x1 = 120 \n",
    "𝑝1 = 0.40  \n",
    "n2 = 700 \n",
    "x2 = 140 \n",
    "𝑝2 = 0.20\n",
    "p = (x1+x2)/(n1+n2)\n",
    "\n",
    "n = (1/n1)+(1/n2)\n",
    "p_1 = p*(1-p)\n",
    "z_score = np.sqrt((p1-p2-0.1)/((p_1*n)))\n",
    "print(\"Z_score: {}\".format(z_score))\n",
    "print(\"Critical region: {} till {}\".format(norm.ppf(0.05),-norm.ppf(0.05)))"
   ]
  },
  {
   "cell_type": "markdown",
   "id": "0ff17045",
   "metadata": {},
   "source": [
    "As the Z value lies inside critical region and outside region of acceptance we can reject the null hypothesis."
   ]
  }
 ],
 "metadata": {
  "kernelspec": {
   "display_name": "Python 3",
   "language": "python",
   "name": "python3"
  },
  "language_info": {
   "codemirror_mode": {
    "name": "ipython",
    "version": 3
   },
   "file_extension": ".py",
   "mimetype": "text/x-python",
   "name": "python",
   "nbconvert_exporter": "python",
   "pygments_lexer": "ipython3",
   "version": "3.9.4"
  },
  "toc": {
   "base_numbering": 1,
   "nav_menu": {},
   "number_sections": true,
   "sideBar": true,
   "skip_h1_title": false,
   "title_cell": "Table of Contents",
   "title_sidebar": "Contents",
   "toc_cell": false,
   "toc_position": {},
   "toc_section_display": true,
   "toc_window_display": false
  },
  "varInspector": {
   "cols": {
    "lenName": 16,
    "lenType": 16,
    "lenVar": 40
   },
   "kernels_config": {
    "python": {
     "delete_cmd_postfix": "",
     "delete_cmd_prefix": "del ",
     "library": "var_list.py",
     "varRefreshCmd": "print(var_dic_list())"
    },
    "r": {
     "delete_cmd_postfix": ") ",
     "delete_cmd_prefix": "rm(",
     "library": "var_list.r",
     "varRefreshCmd": "cat(var_dic_list()) "
    }
   },
   "types_to_exclude": [
    "module",
    "function",
    "builtin_function_or_method",
    "instance",
    "_Feature"
   ],
   "window_display": false
  }
 },
 "nbformat": 4,
 "nbformat_minor": 5
}
