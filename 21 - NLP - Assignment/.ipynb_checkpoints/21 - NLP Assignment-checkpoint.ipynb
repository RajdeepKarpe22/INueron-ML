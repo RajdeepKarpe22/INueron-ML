{
 "cells": [
  {
   "cell_type": "markdown",
   "id": "ff93e9c9",
   "metadata": {},
   "source": [
    "__In this assignment students have to find the frequency of words in a webpage. User can use urllib and BeautifulSoup to extract text from webpage.__"
   ]
  },
  {
   "cell_type": "code",
   "execution_count": 15,
   "id": "fd5b9493",
   "metadata": {},
   "outputs": [],
   "source": [
    "from bs4 import BeautifulSoup\n",
    "import urllib.request\n",
    "import nltk\n",
    "from nltk.corpus import stopwords\n",
    "from nltk.tokenize import word_tokenize"
   ]
  },
  {
   "cell_type": "code",
   "execution_count": 23,
   "id": "2caab8b3",
   "metadata": {},
   "outputs": [],
   "source": [
    "response = urllib.request.urlopen('https://en.wikipedia.org/wiki/Cricket')\n",
    "html = response.read()\n",
    "soup = BeautifulSoup(html,\"html5lib\").get_text()"
   ]
  },
  {
   "cell_type": "code",
   "execution_count": 24,
   "id": "f71b6709",
   "metadata": {},
   "outputs": [],
   "source": [
    "word_tokens = word_tokenize(soup)"
   ]
  },
  {
   "cell_type": "code",
   "execution_count": 29,
   "id": "a8a9e84d",
   "metadata": {},
   "outputs": [
    {
     "name": "stdout",
     "output_type": "stream",
     "text": [
      "the - 925\n",
      ". - 892\n",
      ", - 802\n",
      "'' - 716\n",
      "of - 391\n",
      "cricket - 374\n",
      ") - 352\n",
      "( - 350\n",
      ": - 341\n",
      "a - 331\n",
      "and - 302\n",
      "in - 275\n",
      "`` - 242\n",
      "[ - 212\n",
      "] - 212\n",
      "to - 211\n",
      "; - 171\n",
      "is - 170\n",
      "^ - 149\n",
      "{ - 129\n",
      "} - 129\n",
      ".mw-parser-output - 109\n",
      "'s - 108\n",
      "2017 - 95\n",
      "ball - 93\n",
      "with - 84\n",
      "july - 83\n",
      "on - 79\n",
      "retrieved - 79\n",
      "from - 77\n"
     ]
    }
   ],
   "source": [
    "words = [word for word in word_tokens if len(word) > 1]\n",
    "words = [word for word in word_tokens if not word.isnumeric()]\n",
    "words = [word.lower() for word in word_tokens]\n",
    "\n",
    "fdist = nltk.FreqDist(words)\n",
    "\n",
    "for word, frequency in fdist.most_common(30):\n",
    "    print('{} - {}'.format(word, frequency))"
   ]
  },
  {
   "cell_type": "code",
   "execution_count": null,
   "id": "30ff50e2",
   "metadata": {},
   "outputs": [],
   "source": []
  }
 ],
 "metadata": {
  "kernelspec": {
   "display_name": "Python 3",
   "language": "python",
   "name": "python3"
  },
  "language_info": {
   "codemirror_mode": {
    "name": "ipython",
    "version": 3
   },
   "file_extension": ".py",
   "mimetype": "text/x-python",
   "name": "python",
   "nbconvert_exporter": "python",
   "pygments_lexer": "ipython3",
   "version": "3.9.4"
  },
  "toc": {
   "base_numbering": 1,
   "nav_menu": {},
   "number_sections": true,
   "sideBar": true,
   "skip_h1_title": false,
   "title_cell": "Table of Contents",
   "title_sidebar": "Contents",
   "toc_cell": false,
   "toc_position": {},
   "toc_section_display": true,
   "toc_window_display": false
  },
  "varInspector": {
   "cols": {
    "lenName": 16,
    "lenType": 16,
    "lenVar": 40
   },
   "kernels_config": {
    "python": {
     "delete_cmd_postfix": "",
     "delete_cmd_prefix": "del ",
     "library": "var_list.py",
     "varRefreshCmd": "print(var_dic_list())"
    },
    "r": {
     "delete_cmd_postfix": ") ",
     "delete_cmd_prefix": "rm(",
     "library": "var_list.r",
     "varRefreshCmd": "cat(var_dic_list()) "
    }
   },
   "types_to_exclude": [
    "module",
    "function",
    "builtin_function_or_method",
    "instance",
    "_Feature"
   ],
   "window_display": false
  }
 },
 "nbformat": 4,
 "nbformat_minor": 5
}
